{
 "cells": [
  {
   "cell_type": "markdown",
   "metadata": {},
   "source": [
    "# Time Value of Money "
   ]
  },
  {
   "cell_type": "markdown",
   "metadata": {},
   "source": [
    "Project valuation has long been a challenging issue as there are various uncertainties in the process. Decreasing uncertainty, on the other hand, ensures predictability, which in turn increases the likelihood of the profitability of an investment. As projects cannot be accomplished within a short period, time turns out to be an important component in that value of investment changes in time. In other words, $\\$5.000$ today is not the same $\\$5.000$ two years from now."
   ]
  },
  {
   "cell_type": "markdown",
   "metadata": {},
   "source": [
    "Thus, to take into account a new concept is emerged, which is known as `the value of money` meaning that today's money worth more than the money in the future due to earning potential between today and the future. Within this context, considering time value of money enables investors to assess the project valuation in a more solid way. "
   ]
  },
  {
   "cell_type": "markdown",
   "metadata": {},
   "source": [
    "In this course, we will learn the main concepts of project valuation. These concepts include:\n",
    "    * Time Value of Money\n",
    "    * Net Present Value\n",
    "    * Internal Rate of Return"
   ]
  },
  {
   "cell_type": "markdown",
   "metadata": {},
   "source": [
    "## 8.1. Net Present Value"
   ]
  },
  {
   "cell_type": "markdown",
   "metadata": {},
   "source": [
    "`Net present value`, NPV for short, is such a metric for project valuation. NPV is a tool dealing with comparison of project cost and cash inflows. It is rather intuitive in that all costs incurred and all cash inflows generated over time are discounted back to present day so that an investor can easily decide if the project is feasible."
   ]
  },
  {
   "cell_type": "markdown",
   "metadata": {},
   "source": [
    "Discounting back the future cash flow can be done via discount rate, which is a compensation for the risk assumed throughout the investment period. Technically, `discount rate` refers to the interest rate that bridge between the present and future value of money."
   ]
  },
  {
   "cell_type": "markdown",
   "metadata": {},
   "source": [
    "In practice, before commencing the project the calculation of NPV is one of the first thing that financial analyst conduct. A quick example can illustrate the concept better:"
   ]
  },
  {
   "cell_type": "markdown",
   "metadata": {},
   "source": [
    "Assume that an initial investment requires $\\$2.000$ and the project will have an annual cash inflow of $\\$1.000$ over three years from now. In order to compare the $\\$2000$ with $\\$3000$ in total, the analyst needs to consider the time value of money, which is discount rate."
   ]
  },
  {
   "cell_type": "markdown",
   "metadata": {},
   "source": [
    "Net present value can be formulated as follows:"
   ]
  },
  {
   "cell_type": "markdown",
   "metadata": {},
   "source": [
    "$$NPV(t)=\\sum_{t=0}^T \\frac{CF(t)}{(1+r)^t}$$"
   ]
  },
  {
   "cell_type": "markdown",
   "metadata": {},
   "source": [
    "where CF denotes cash flow and r indicates discount rate."
   ]
  },
  {
   "cell_type": "markdown",
   "metadata": {},
   "source": [
    "Let's practice in Python. Suppose that initial investment is $\\$1000$ at time t and cash flows generated as of t+1 are $\\$400$, $\\$450$, $\\$350$, $\\$475$, $\\$500$"
   ]
  },
  {
   "cell_type": "code",
   "execution_count": 1,
   "metadata": {},
   "outputs": [],
   "source": [
    "import numpy as np\n",
    "import warnings\n",
    "warnings.filterwarnings('ignore')"
   ]
  },
  {
   "cell_type": "code",
   "execution_count": 2,
   "metadata": {},
   "outputs": [],
   "source": [
    "cash_flow=[-1000,400,450,350,475,500]\n",
    "discount_rate=0.1\n",
    "time_horizon=5"
   ]
  },
  {
   "cell_type": "code",
   "execution_count": 3,
   "metadata": {},
   "outputs": [],
   "source": [
    "def NPV(cash_flow,discount_rate,time_horizon):\n",
    "    cash_gen=[]\n",
    "    for i in range(time_horizon+1):\n",
    "        cash_gen.append(cash_flow[i]/(1+discount_rate)**i)\n",
    "        npv=np.sum(cash_gen)\n",
    "    return npv,cash_gen"
   ]
  },
  {
   "cell_type": "code",
   "execution_count": 4,
   "metadata": {},
   "outputs": [
    {
     "name": "stdout",
     "output_type": "stream",
     "text": [
      "Net present value of the investment:633.39\n"
     ]
    }
   ],
   "source": [
    "npv,cash_gen=NPV(cash_flow,discount_rate,time_horizon)\n",
    "print(\"Net present value of the investment:{:.2f}\".format(npv))"
   ]
  },
  {
   "cell_type": "code",
   "execution_count": 5,
   "metadata": {
    "scrolled": false
   },
   "outputs": [
    {
     "data": {
      "image/png": "[encoded data removed]",
      "text/plain": [
       "<Figure size 432x288 with 1 Axes>"
      ]
     },
     "metadata": {
      "needs_background": "light"
     },
     "output_type": "display_data"
    }
   ],
   "source": [
    "import matplotlib.pyplot as plt\n",
    "plt.plot(cash_gen)\n",
    "plt.title('Net Present Value')\n",
    "plt.xlabel('Time Horizon')\n",
    "plt.ylabel('Cash Generated ($)')\n",
    "plt.show()"
   ]
  },
  {
   "cell_type": "markdown",
   "metadata": {},
   "source": [
    "NPV figure suggests that NPV starts to increase after the project begins. Then NPV follows a rather stable path. However, as the initial investment requires $\\$1000$ initially, cash inflow generated within 5 year does make the investment profitable. Shortly, NPV becomes positive with the value of $633."
   ]
  },
  {
   "cell_type": "markdown",
   "metadata": {},
   "source": [
    "There is a much shorter way to conduct NPV analysis in Python. Pyhon has built-in function named `.npv()`, which requires 2 parameters, namel `discount rate` and `cash flow` and it does the same thing with our NPV function above."
   ]
  },
  {
   "cell_type": "code",
   "execution_count": 10,
   "metadata": {},
   "outputs": [
    {
     "name": "stdout",
     "output_type": "stream",
     "text": [
      "Net present value of the investment:633.39\n"
     ]
    }
   ],
   "source": [
    "import numpy_financial as npf\n",
    "\n",
    "npv= npf.npv(discount_rate, cash_flow);  \n",
    "\n",
    "print(\"Net present value of the investment:{:.2f}\".format(npv))"
   ]
  },
  {
   "cell_type": "markdown",
   "metadata": {},
   "source": [
    "Let's play with the figures we previously assume:"
   ]
  },
  {
   "cell_type": "code",
   "execution_count": 11,
   "metadata": {},
   "outputs": [],
   "source": [
    "cash_flow=[-1500,300,300,250,400,200,450,400,400,350,300]\n",
    "discount_rate=0.2\n",
    "time_horizon=10"
   ]
  },
  {
   "cell_type": "code",
   "execution_count": 12,
   "metadata": {},
   "outputs": [
    {
     "name": "stdout",
     "output_type": "stream",
     "text": [
      "Net present value of the investment:-152.07\n"
     ]
    }
   ],
   "source": [
    "npv,cash_gen=NPV(cash_flow,discount_rate,time_horizon)\n",
    "print(\"Net present value of the investment:{:.2f}\".format(npv));"
   ]
  },
  {
   "cell_type": "code",
   "execution_count": 13,
   "metadata": {},
   "outputs": [
    {
     "data": {
      "image/png": "[encoded data removed]",
      "text/plain": [
       "<Figure size 432x288 with 1 Axes>"
      ]
     },
     "metadata": {
      "needs_background": "light"
     },
     "output_type": "display_data"
    }
   ],
   "source": [
    "plt.plot(cash_gen)\n",
    "plt.title('Net Present Value')\n",
    "plt.xlabel('Time Horizon')\n",
    "plt.ylabel('Cash Generated ($)')\n",
    "plt.show()"
   ]
  },
  {
   "cell_type": "markdown",
   "metadata": {},
   "source": [
    "In this example, the inital investment is higher than that of previous example. As the cash flow given in the example vary considerably, it affects the NPV and of course cash generated along the way. Thus, the NPV of $-152 implies that this project is not feasible."
   ]
  },
  {
   "cell_type": "markdown",
   "metadata": {},
   "source": [
    "##  Internal Rate of Return"
   ]
  },
  {
   "cell_type": "markdown",
   "metadata": {},
   "source": [
    "It is a ratio used in the evaluation of investment projects. The `internal rate of return` is defined as the discount rate that equals the net present value of an investment project to zero, in other words, IRR is the discount rate resulting in a zero NPV. The internal rate of return also indicates the extent to which investment creates value added. So, internal rate of return, abbreviated as IRR, is a closely related concept with NPV."
   ]
  },
  {
   "cell_type": "markdown",
   "metadata": {},
   "source": [
    "For example, let us initiate a one-year project with an initial cost of $\\$100.000$. The expected cash return of this project is $\\$120.000$. For this project, the value that equals the NPV value to zero, that is, the internal rate of return is 20%."
   ]
  },
  {
   "cell_type": "markdown",
   "metadata": {},
   "source": [
    "In deciding an investment, the internal rate of return is compared with the rate of return expected by the investor. The minimum profitability rate expected from the investment is considered as the `capital cost`. As a result of the comparison, the project is either accepted or rejected. We can summarize it by:"
   ]
  },
  {
   "cell_type": "markdown",
   "metadata": {},
   "source": [
    "$$\n",
    "\\begin{cases}\n",
    "\\text{If} \\text{ IRR}> \\text{Cost of Capital},&\\text{accept }\\\\\n",
    "\\text{If} \\text{ IRR}< \\text{Cost of Capital},&\\text{reject}\\\\\n",
    "\\end{cases}$$"
   ]
  },
  {
   "cell_type": "markdown",
   "metadata": {},
   "source": [
    "Mathematically speaking, the IRR can be computed as follows:"
   ]
  },
  {
   "cell_type": "markdown",
   "metadata": {},
   "source": [
    "$$NPV(t)=\\sum_{t=0}^T \\frac{CF(t)}{(1+IRR)^t}=0$$"
   ]
  },
  {
   "cell_type": "markdown",
   "metadata": {},
   "source": [
    "Practicing helps us understand the concept better. To be consistent, we will use the same inputs that we have in NPV example. The only parameter we need to change is the discount rate as IRR will be used in lieu of it:"
   ]
  },
  {
   "cell_type": "code",
   "execution_count": 14,
   "metadata": {},
   "outputs": [],
   "source": [
    "cash_flow=[-1000,200,250,350,375,400]\n",
    "IRR=0.2\n",
    "time_horizon=np.arange(6)"
   ]
  },
  {
   "cell_type": "code",
   "execution_count": 15,
   "metadata": {},
   "outputs": [],
   "source": [
    "import numpy as np\n",
    "def NPV_IRR(IRR, cash_flow, time_horizon):  \n",
    "    return np.sum(cash_flow / (1. + IRR) ** time_horizon)"
   ]
  },
  {
   "cell_type": "markdown",
   "metadata": {},
   "source": [
    "Finding IRR is not different from finding the root of NPV function that we define above. To find a root of a function `fsolve` is used in Python as in many other programming languages:"
   ]
  },
  {
   "cell_type": "code",
   "execution_count": 16,
   "metadata": {},
   "outputs": [],
   "source": [
    "from scipy.optimize import fsolve\n",
    "def irr(cash_flow, time_horizon, IRR):\n",
    "    return fsolve(NPV_IRR, IRR, args=(cash_flow, time_horizon))"
   ]
  },
  {
   "cell_type": "code",
   "execution_count": 17,
   "metadata": {},
   "outputs": [
    {
     "name": "stdout",
     "output_type": "stream",
     "text": [
      "IRR is: 0.1524\n"
     ]
    }
   ],
   "source": [
    "print('IRR is: {:.4f}'.format(irr(cash_flow, time_horizon, IRR)[0]))"
   ]
  },
  {
   "cell_type": "markdown",
   "metadata": {},
   "source": [
    "Similarly, numpy provides us a built-ing function for finding IRR, which makes our life much more easier as it is a single line of code and it confirms our result:"
   ]
  },
  {
   "cell_type": "code",
   "execution_count": 19,
   "metadata": {
    "scrolled": true
   },
   "outputs": [
    {
     "name": "stdout",
     "output_type": "stream",
     "text": [
      "IRR is again: 0.1524\n"
     ]
    }
   ],
   "source": [
    "print('IRR is again: {:.4f}'.format(npf.irr(cash_flow)))"
   ]
  },
  {
   "cell_type": "markdown",
   "metadata": {},
   "source": [
    "# Conclusion"
   ]
  },
  {
   "cell_type": "markdown",
   "metadata": {},
   "source": [
    "`Net Present Value` and `Internal Rate of Return` are two important concept in evaluating the feasibility of a project. As we see, these concepts totaly makes sense and easy-to-implement in Python."
   ]
  }
 ],
 "metadata": {
  "kernelspec": {
   "display_name": "Python 3",
   "language": "python",
   "name": "python3"
  },
  "language_info": {
   "codemirror_mode": {
    "name": "ipython",
    "version": 3
   },
   "file_extension": ".py",
   "mimetype": "text/x-python",
   "name": "python",
   "nbconvert_exporter": "python",
   "pygments_lexer": "ipython3",
   "version": "3.7.3"
  },
  "toc": {
   "base_numbering": 1,
   "nav_menu": {},
   "number_sections": true,
   "sideBar": true,
   "skip_h1_title": false,
   "title_cell": "Table of Contents",
   "title_sidebar": "Contents",
   "toc_cell": false,
   "toc_position": {},
   "toc_section_display": true,
   "toc_window_display": false
  }
 },
 "nbformat": 4,
 "nbformat_minor": 4
}
