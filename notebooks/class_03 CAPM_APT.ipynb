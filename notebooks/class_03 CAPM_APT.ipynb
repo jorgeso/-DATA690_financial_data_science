{
 "cells": [
  {
   "cell_type": "markdown",
   "metadata": {},
   "source": [
    "Financial investment decision is a function of risk and return, which are positively related to each other. Investor tries to obtain highest possible return while mitigating the risk as much as possible. So, in a nutshell, investor tend to invest in an asset with best risk-return combination. But the question is how can we estimate the best risk-return combination?"
   ]
  },
  {
   "cell_type": "markdown",
   "metadata": {},
   "source": [
    "This lesson tries to tackle this question using two celebrated models. In this part of the lesson, we will discuss the two prominent models about asset valuation: \n",
    "* Capital Asset Pricing Model\n",
    "* Arbitrage Pricing Theorem"
   ]
  },
  {
   "cell_type": "markdown",
   "metadata": {},
   "source": [
    "## Capital Asset Pricing Model (CAPM) "
   ]
  },
  {
   "cell_type": "markdown",
   "metadata": {},
   "source": [
    "It is an easy task to measure return of an asset, which is nothing but a change in an asset's value based on previous period. How about risk? It is exactly where `Markowitz's Portfolio Theory`comes into the picture. Markowitz's article titled [\"Portfolio Selection\"](https://www.math.ust.hk/~maykwok/courses/ma362/07F/markowitz_JF.pdf) provides a clear definition of what had hitherto been unambiguous. "
   ]
  },
  {
   "cell_type": "markdown",
   "metadata": {},
   "source": [
    "This trade-off is defined as the selection problem of the portfolio mean and variance of the assets, and given the risk level the theory has suggested that high expected return should be selected. Expected return and risk are given as follows:"
   ]
  },
  {
   "cell_type": "markdown",
   "metadata": {},
   "source": [
    "$$ \\text{Expected Return}=\\mathbb{E}(R_i)$$\n",
    "$$\\text{Risk}=\\sigma (R_i)$$"
   ]
  },
  {
   "cell_type": "markdown",
   "metadata": {},
   "source": [
    "where $R_i$ is the return of ith asset and $\\mathbb{E}$ denotes expectation operator, and $\\sigma$ represents the standard deviation of return. Thus, standard deviation is assumed to be a risk of an asset and this approach paves the way for further analysis."
   ]
  },
  {
   "cell_type": "markdown",
   "metadata": {},
   "source": [
    "Starting with Markowitz's contribution, risk-return relationship of an asset is well-founded as new approaches emerges. Of these approaches. Capital Asset Pricing Model is the one of the most prominents one."
   ]
  },
  {
   "cell_type": "markdown",
   "metadata": {},
   "source": [
    "The CAPM is based on the idea that the individual investor can make a combination between the borrower portfolios and the lender portfolios, to organize his own risk and to create an optimal portfolio among the risky assets. CAPM, suggested by [Sharpe (1964)](http://efinance.org.cn/cn/fm/Capital%20Asset%20Prices%20A%20Theory%20of%20Market%20Equilibrium%20under%20Conditions%20of%20Risk.pdf), [Lintner (1965)](http://www.empirical.net/wp-content/uploads/2014/12/Lintner-The-Valuation-of-Risk-Assets-and-the-Selection-of-Risky-Investments-in-Stock-Portfolios-and-Capital-Budgets.pdf), and [Black (1972)](http://www.stat.ucla.edu/~nchristo/statistics_c183_c283/fischer_black_trace_out.pdf) , is a model investigating the systematic risk and return in a competitive market. "
   ]
  },
  {
   "cell_type": "markdown",
   "metadata": {},
   "source": [
    "As we have discussed, the primary motivation of an investor in forming a best risk-return portfolio is to mitigate the risk while having highest return but it is not possible to make all risks go away. That is to say, there are some risks that an investor can mitigate and some he/she cannot. By diversification, which is simply forming a portfolio with assets having high risk-return relationship and with assets having low risk-return relationship, the risk can be reduced to certain level. But what is this level?"
   ]
  },
  {
   "cell_type": "markdown",
   "metadata": {},
   "source": [
    "In order to better understand and handle the risk in finance, we need to differentiate it:\n",
    "* Systematic Risk: It is the that cannot be disappeared by diversification. Therefore it is also referred to as `non-diversifiable risk`.  More specifically, random fluctuations in the value of an asset can be balanced out by holding diverse assets. Some systematic risks are:\n",
    "    * Interest rate risk\n",
    "    * Inflation risk\n",
    "    * Market risk"
   ]
  },
  {
   "cell_type": "markdown",
   "metadata": {},
   "source": [
    "* Unsystematic Risk: It is the risk that can be mitigated through diversification. That is random fluctuations in the value of the asset can be balanced out by holding many different assets. Therefore, when a portfolio is well-diversified, investments with a strong performance compensate for the negative results from poorly performing investments.  Unsystematic risk arises from stock-specific issues. Some unsystematic risks can be listed as:\n",
    "    * Business risk: Any Internal weakness of a company can jeopardize its profitability\n",
    "    * Financial risk: Change in capital structure allocation of a company\n",
    "    * Entrance of a new competitor"
   ]
  },
  {
   "cell_type": "markdown",
   "metadata": {},
   "source": [
    "CAPM examines the systematic risk ($\\beta$) and expected return in a competitive market. It is a parametric and univariate approach. The ultimate aim of this method is to price an individual security or a portfolio. Let's now talk about the components and the formula of CAPM:"
   ]
  },
  {
   "cell_type": "markdown",
   "metadata": {},
   "source": [
    "$$\\mathbb{E}(R_i)=\\alpha_i+\\beta_i\\mathbb{E}(R_m)$$"
   ]
  },
  {
   "cell_type": "markdown",
   "metadata": {},
   "source": [
    "where\n",
    " * $R_i$: Expected excess return of the $i^{th}$ stock\n",
    " * $\\alpha_i$: asset’s return\\loss coming from technical analysis\n",
    " * $R_m$: Expected excess market return\n",
    " * $\\beta_{i}$: Slope coefficient\n",
    " "
   ]
  },
  {
   "cell_type": "markdown",
   "metadata": {},
   "source": [
    "Here, excess return represents the portion of an individual stock or market return above the `risk free rate`. Or it can be formulated as:"
   ]
  },
  {
   "cell_type": "markdown",
   "metadata": {},
   "source": [
    "\\begin{equation} \\mathbb{E}(R_i)=\\mathbb{E}(r_i)-r_f \\end{equation}"
   ]
  },
  {
   "cell_type": "markdown",
   "metadata": {},
   "source": [
    "where $r_f$ is risk free rate and $r_i$ is the individual stock return. So, excess return checks if an asset yields  larger return than a safe asset. If so, it is a motivation to invest, otherwise, investor prefer to invest in a safe asset whose return is low but guaranteed."
   ]
  },
  {
   "cell_type": "markdown",
   "metadata": {},
   "source": [
    "The result, denoted as $\\mathbb{E}(R_i)$, is also the required return or discount rate used in valuing an asset or a project that we discuss in NPV lesson:"
   ]
  },
  {
   "cell_type": "markdown",
   "metadata": {},
   "source": [
    "Required Rate of Return = Risk Free Rate of Return + Beta*(Market Return – Risk Free Rate of Return)"
   ]
  },
  {
   "cell_type": "markdown",
   "metadata": {},
   "source": [
    "We need to put special emphasize on $\\beta$, which shows the extent to which an investment adds risk to a portfolio. Put differently, it is a measure of systematic risk of a stock in comparison to the market. It is also indicates the correlation between individual stock and market: \n",
    "\n"
   ]
  },
  {
   "cell_type": "markdown",
   "metadata": {},
   "source": [
    "* If the $\\beta$>1, stock is riskier than the benchmark market\n",
    "* If the $\\beta$=1, stock is as riskier as the benchmark market\n",
    "* If the $\\beta$<1, stock is as less riskier as than the benchmark market"
   ]
  },
  {
   "cell_type": "markdown",
   "metadata": {},
   "source": [
    "Hence, beta coefficient indicates the ratio between the covariance of individual stock return and market return and the stock market return variance:"
   ]
  },
  {
   "cell_type": "markdown",
   "metadata": {},
   "source": [
    "$$\\beta_i = \\frac{\\text{Cov}(r_i, r_m)}{\\text{Var}(r_m)}$$"
   ]
  },
  {
   "cell_type": "markdown",
   "metadata": {},
   "source": [
    "In econometrical approach, CAPM can be defined as:"
   ]
  },
  {
   "cell_type": "markdown",
   "metadata": {},
   "source": [
    "$$\n",
    "\\mathbb{E}(r_i)-r_f= \\alpha_i + \\beta_{i}(\\mathbb{E}(r_m)-r_f) + \\epsilon_i\n",
    "$$"
   ]
  },
  {
   "cell_type": "markdown",
   "metadata": {},
   "source": [
    "where\n",
    " * $\\epsilon_i$: Error term"
   ]
  },
  {
   "cell_type": "markdown",
   "metadata": {},
   "source": [
    "As a final note for this theoretical discussion, I would like to name a few pros and cons of CAPM approach:"
   ]
  },
  {
   "cell_type": "markdown",
   "metadata": {},
   "source": [
    "**Pros**"
   ]
  },
  {
   "cell_type": "markdown",
   "metadata": {},
   "source": [
    "* Ease of use\n",
    "\n",
    "* Diversified Portfolio: The assumption that investors have a diversified portfolio similar to the market portfolio eliminates the non-systematic (specific) risk.\n",
    "\n",
    "* CAPM takes into account systematic risk\n",
    "\n",
    "* CAPM can be used as a model to account for the business and financial Risk variability"
   ]
  },
  {
   "cell_type": "markdown",
   "metadata": {},
   "source": [
    "**Cons**"
   ]
  },
  {
   "cell_type": "markdown",
   "metadata": {},
   "source": [
    "* The proxy used for risk free rate  is subject to change and open to discussion.\n",
    "* A risk-free borrowing capability is far from being realistic\n",
    "* Using CAPM to evaluate an investment must find a suitable beta for the project or investment to correctly evaluate it."
   ]
  },
  {
   "cell_type": "markdown",
   "metadata": {},
   "source": [
    "In this part, instead of visiting a website and downloading the data to our local computer, we directly access to `yahoo finance` and retrieve the data as  we have learned in the previous lesson. To compare the performance of the companies, we will run CAPM analyses with three difference companies operating in telecomunication sector. These companies are `Apple`, `IBM`,`Microsoft`, `Intel` and the market these stocks are listed is `S&P-500`. We use tickers to retreive data from yahoo finance:\n",
    " \n",
    " * AAPL: Apple\n",
    " * IBM: IBM\n",
    " * MSFT: Microsoft\n",
    " * INTC: Intel\n",
    " * ^GSPC: S&P-500"
   ]
  },
  {
   "cell_type": "code",
   "execution_count": 1,
   "metadata": {},
   "outputs": [],
   "source": [
    "import pandas as pd\n",
    "import matplotlib.pyplot as plt\n",
    "import numpy as np\n",
    "import datetime\n",
    "import seaborn as sns\n",
    "import warnings\n",
    "import yfinance as yf\n",
    "import seaborn as sns; sns.set()\n",
    "yf.pdr_override() \n",
    "%matplotlib inline\n",
    "warnings.filterwarnings('ignore')"
   ]
  },
  {
   "cell_type": "markdown",
   "metadata": {},
   "source": [
    "The analysis covers the business day for the period of 01-01-2021 and 04-01-2021 with monthly stock price data."
   ]
  },
  {
   "cell_type": "code",
   "execution_count": 72,
   "metadata": {},
   "outputs": [
    {
     "name": "stdout",
     "output_type": "stream",
     "text": [
      "[*********************100%***********************]  5 of 5 completed\n"
     ]
    }
   ],
   "source": [
    "stocks = ['AAPL','IBM','MSFT','INTC','^GSPC']\n",
    "start = datetime.datetime(2021, 1, 1)\n",
    "end = datetime.datetime(2021, 4, 1)\n",
    "stock_prices = yf.download(stocks, start=start ,end = end, interval='1d')"
   ]
  },
  {
   "cell_type": "code",
   "execution_count": 73,
   "metadata": {},
   "outputs": [
    {
     "data": {
      "text/html": [
       "<div>\n",
       "<style scoped>\n",
       "    .dataframe tbody tr th:only-of-type {\n",
       "        vertical-align: middle;\n",
       "    }\n",
       "\n",
       "    .dataframe tbody tr th {\n",
       "        vertical-align: top;\n",
       "    }\n",
       "\n",
       "    .dataframe thead tr th {\n",
       "        text-align: left;\n",
       "    }\n",
       "\n",
       "    .dataframe thead tr:last-of-type th {\n",
       "        text-align: right;\n",
       "    }\n",
       "</style>\n",
       "<table border=\"1\" class=\"dataframe\">\n",
       "  <thead>\n",
       "    <tr>\n",
       "      <th></th>\n",
       "      <th colspan=\"5\" halign=\"left\">Adj Close</th>\n",
       "      <th colspan=\"5\" halign=\"left\">Close</th>\n",
       "      <th>...</th>\n",
       "      <th colspan=\"5\" halign=\"left\">Open</th>\n",
       "      <th colspan=\"5\" halign=\"left\">Volume</th>\n",
       "    </tr>\n",
       "    <tr>\n",
       "      <th></th>\n",
       "      <th>AAPL</th>\n",
       "      <th>IBM</th>\n",
       "      <th>INTC</th>\n",
       "      <th>MSFT</th>\n",
       "      <th>^GSPC</th>\n",
       "      <th>AAPL</th>\n",
       "      <th>IBM</th>\n",
       "      <th>INTC</th>\n",
       "      <th>MSFT</th>\n",
       "      <th>^GSPC</th>\n",
       "      <th>...</th>\n",
       "      <th>AAPL</th>\n",
       "      <th>IBM</th>\n",
       "      <th>INTC</th>\n",
       "      <th>MSFT</th>\n",
       "      <th>^GSPC</th>\n",
       "      <th>AAPL</th>\n",
       "      <th>IBM</th>\n",
       "      <th>INTC</th>\n",
       "      <th>MSFT</th>\n",
       "      <th>^GSPC</th>\n",
       "    </tr>\n",
       "    <tr>\n",
       "      <th>Date</th>\n",
       "      <th></th>\n",
       "      <th></th>\n",
       "      <th></th>\n",
       "      <th></th>\n",
       "      <th></th>\n",
       "      <th></th>\n",
       "      <th></th>\n",
       "      <th></th>\n",
       "      <th></th>\n",
       "      <th></th>\n",
       "      <th></th>\n",
       "      <th></th>\n",
       "      <th></th>\n",
       "      <th></th>\n",
       "      <th></th>\n",
       "      <th></th>\n",
       "      <th></th>\n",
       "      <th></th>\n",
       "      <th></th>\n",
       "      <th></th>\n",
       "      <th></th>\n",
       "    </tr>\n",
       "  </thead>\n",
       "  <tbody>\n",
       "    <tr>\n",
       "      <th>2020-12-31</th>\n",
       "      <td>132.069473</td>\n",
       "      <td>121.449242</td>\n",
       "      <td>48.898537</td>\n",
       "      <td>220.974640</td>\n",
       "      <td>3756.070068</td>\n",
       "      <td>132.690002</td>\n",
       "      <td>125.879997</td>\n",
       "      <td>49.820000</td>\n",
       "      <td>222.419998</td>\n",
       "      <td>3756.070068</td>\n",
       "      <td>...</td>\n",
       "      <td>134.080002</td>\n",
       "      <td>124.220001</td>\n",
       "      <td>48.750000</td>\n",
       "      <td>221.699997</td>\n",
       "      <td>3733.270020</td>\n",
       "      <td>99116600</td>\n",
       "      <td>3574400</td>\n",
       "      <td>28576800</td>\n",
       "      <td>20942100</td>\n",
       "      <td>3172510000</td>\n",
       "    </tr>\n",
       "    <tr>\n",
       "      <th>2021-01-04</th>\n",
       "      <td>128.804825</td>\n",
       "      <td>119.577530</td>\n",
       "      <td>48.751308</td>\n",
       "      <td>216.275375</td>\n",
       "      <td>3700.649902</td>\n",
       "      <td>129.410004</td>\n",
       "      <td>123.940002</td>\n",
       "      <td>49.669998</td>\n",
       "      <td>217.690002</td>\n",
       "      <td>3700.649902</td>\n",
       "      <td>...</td>\n",
       "      <td>133.520004</td>\n",
       "      <td>125.849998</td>\n",
       "      <td>49.889999</td>\n",
       "      <td>222.529999</td>\n",
       "      <td>3764.610107</td>\n",
       "      <td>143301900</td>\n",
       "      <td>5179200</td>\n",
       "      <td>46102500</td>\n",
       "      <td>37130100</td>\n",
       "      <td>5006680000</td>\n",
       "    </tr>\n",
       "    <tr>\n",
       "      <th>2021-01-05</th>\n",
       "      <td>130.397324</td>\n",
       "      <td>121.700096</td>\n",
       "      <td>49.673923</td>\n",
       "      <td>216.484009</td>\n",
       "      <td>3726.860107</td>\n",
       "      <td>131.009995</td>\n",
       "      <td>126.139999</td>\n",
       "      <td>50.610001</td>\n",
       "      <td>217.899994</td>\n",
       "      <td>3726.860107</td>\n",
       "      <td>...</td>\n",
       "      <td>128.889999</td>\n",
       "      <td>125.010002</td>\n",
       "      <td>49.450001</td>\n",
       "      <td>217.259995</td>\n",
       "      <td>3698.020020</td>\n",
       "      <td>97664900</td>\n",
       "      <td>6114600</td>\n",
       "      <td>24866600</td>\n",
       "      <td>23823000</td>\n",
       "      <td>4582620000</td>\n",
       "    </tr>\n",
       "    <tr>\n",
       "      <th>2021-01-06</th>\n",
       "      <td>126.007957</td>\n",
       "      <td>124.739220</td>\n",
       "      <td>50.154858</td>\n",
       "      <td>210.870728</td>\n",
       "      <td>3748.139893</td>\n",
       "      <td>126.599998</td>\n",
       "      <td>129.289993</td>\n",
       "      <td>51.099998</td>\n",
       "      <td>212.250000</td>\n",
       "      <td>3748.139893</td>\n",
       "      <td>...</td>\n",
       "      <td>127.720001</td>\n",
       "      <td>126.900002</td>\n",
       "      <td>50.439999</td>\n",
       "      <td>212.169998</td>\n",
       "      <td>3712.199951</td>\n",
       "      <td>155088000</td>\n",
       "      <td>7956700</td>\n",
       "      <td>36809600</td>\n",
       "      <td>35930700</td>\n",
       "      <td>6049970000</td>\n",
       "    </tr>\n",
       "    <tr>\n",
       "      <th>2021-01-07</th>\n",
       "      <td>130.307755</td>\n",
       "      <td>124.449783</td>\n",
       "      <td>51.224697</td>\n",
       "      <td>216.871460</td>\n",
       "      <td>3803.790039</td>\n",
       "      <td>130.919998</td>\n",
       "      <td>128.990005</td>\n",
       "      <td>52.189999</td>\n",
       "      <td>218.289993</td>\n",
       "      <td>3803.790039</td>\n",
       "      <td>...</td>\n",
       "      <td>128.360001</td>\n",
       "      <td>130.039993</td>\n",
       "      <td>51.490002</td>\n",
       "      <td>214.039993</td>\n",
       "      <td>3764.709961</td>\n",
       "      <td>109578200</td>\n",
       "      <td>4507400</td>\n",
       "      <td>32092300</td>\n",
       "      <td>27694500</td>\n",
       "      <td>5080870000</td>\n",
       "    </tr>\n",
       "  </tbody>\n",
       "</table>\n",
       "<p>5 rows × 30 columns</p>\n",
       "</div>"
      ],
      "text/plain": [
       "             Adj Close                                                  \\\n",
       "                  AAPL         IBM       INTC        MSFT        ^GSPC   \n",
       "Date                                                                     \n",
       "2020-12-31  132.069473  121.449242  48.898537  220.974640  3756.070068   \n",
       "2021-01-04  128.804825  119.577530  48.751308  216.275375  3700.649902   \n",
       "2021-01-05  130.397324  121.700096  49.673923  216.484009  3726.860107   \n",
       "2021-01-06  126.007957  124.739220  50.154858  210.870728  3748.139893   \n",
       "2021-01-07  130.307755  124.449783  51.224697  216.871460  3803.790039   \n",
       "\n",
       "                 Close                                                  ...  \\\n",
       "                  AAPL         IBM       INTC        MSFT        ^GSPC  ...   \n",
       "Date                                                                    ...   \n",
       "2020-12-31  132.690002  125.879997  49.820000  222.419998  3756.070068  ...   \n",
       "2021-01-04  129.410004  123.940002  49.669998  217.690002  3700.649902  ...   \n",
       "2021-01-05  131.009995  126.139999  50.610001  217.899994  3726.860107  ...   \n",
       "2021-01-06  126.599998  129.289993  51.099998  212.250000  3748.139893  ...   \n",
       "2021-01-07  130.919998  128.990005  52.189999  218.289993  3803.790039  ...   \n",
       "\n",
       "                  Open                                                  \\\n",
       "                  AAPL         IBM       INTC        MSFT        ^GSPC   \n",
       "Date                                                                     \n",
       "2020-12-31  134.080002  124.220001  48.750000  221.699997  3733.270020   \n",
       "2021-01-04  133.520004  125.849998  49.889999  222.529999  3764.610107   \n",
       "2021-01-05  128.889999  125.010002  49.450001  217.259995  3698.020020   \n",
       "2021-01-06  127.720001  126.900002  50.439999  212.169998  3712.199951   \n",
       "2021-01-07  128.360001  130.039993  51.490002  214.039993  3764.709961   \n",
       "\n",
       "               Volume                                           \n",
       "                 AAPL      IBM      INTC      MSFT       ^GSPC  \n",
       "Date                                                            \n",
       "2020-12-31   99116600  3574400  28576800  20942100  3172510000  \n",
       "2021-01-04  143301900  5179200  46102500  37130100  5006680000  \n",
       "2021-01-05   97664900  6114600  24866600  23823000  4582620000  \n",
       "2021-01-06  155088000  7956700  36809600  35930700  6049970000  \n",
       "2021-01-07  109578200  4507400  32092300  27694500  5080870000  \n",
       "\n",
       "[5 rows x 30 columns]"
      ]
     },
     "execution_count": 73,
     "metadata": {},
     "output_type": "execute_result"
    }
   ],
   "source": [
    "stock_prices.head()"
   ]
  },
  {
   "cell_type": "code",
   "execution_count": 74,
   "metadata": {},
   "outputs": [],
   "source": [
    "stock_prices = stock_prices['Close']"
   ]
  },
  {
   "cell_type": "code",
   "execution_count": 75,
   "metadata": {},
   "outputs": [],
   "source": [
    "stock_prices.dropna(inplace=True)"
   ]
  },
  {
   "cell_type": "markdown",
   "metadata": {},
   "source": [
    "Summary statistics is a very first step to explore the dataset. Main statistics such as mean, standard deviation, minimum, maximum etc., can be calculated via `.describe()` in Python. Initial observation tells us that the price level and volatility (represented by standard deviation) of S&P-500 is quite different from the rest of the stocks."
   ]
  },
  {
   "cell_type": "code",
   "execution_count": 76,
   "metadata": {
    "scrolled": true
   },
   "outputs": [
    {
     "data": {
      "text/html": [
       "<div>\n",
       "<style scoped>\n",
       "    .dataframe tbody tr th:only-of-type {\n",
       "        vertical-align: middle;\n",
       "    }\n",
       "\n",
       "    .dataframe tbody tr th {\n",
       "        vertical-align: top;\n",
       "    }\n",
       "\n",
       "    .dataframe thead th {\n",
       "        text-align: right;\n",
       "    }\n",
       "</style>\n",
       "<table border=\"1\" class=\"dataframe\">\n",
       "  <thead>\n",
       "    <tr style=\"text-align: right;\">\n",
       "      <th></th>\n",
       "      <th>AAPL</th>\n",
       "      <th>IBM</th>\n",
       "      <th>INTC</th>\n",
       "      <th>MSFT</th>\n",
       "      <th>^GSPC</th>\n",
       "    </tr>\n",
       "  </thead>\n",
       "  <tbody>\n",
       "    <tr>\n",
       "      <th>count</th>\n",
       "      <td>62.000000</td>\n",
       "      <td>62.000000</td>\n",
       "      <td>62.000000</td>\n",
       "      <td>62.000000</td>\n",
       "      <td>62.000000</td>\n",
       "    </tr>\n",
       "    <tr>\n",
       "      <th>mean</th>\n",
       "      <td>128.427903</td>\n",
       "      <td>125.195968</td>\n",
       "      <td>59.438226</td>\n",
       "      <td>231.866613</td>\n",
       "      <td>3863.938563</td>\n",
       "    </tr>\n",
       "    <tr>\n",
       "      <th>std</th>\n",
       "      <td>6.726222</td>\n",
       "      <td>4.862788</td>\n",
       "      <td>4.248762</td>\n",
       "      <td>9.164177</td>\n",
       "      <td>71.994513</td>\n",
       "    </tr>\n",
       "    <tr>\n",
       "      <th>min</th>\n",
       "      <td>116.360001</td>\n",
       "      <td>118.580002</td>\n",
       "      <td>49.669998</td>\n",
       "      <td>212.250000</td>\n",
       "      <td>3700.649902</td>\n",
       "    </tr>\n",
       "    <tr>\n",
       "      <th>25%</th>\n",
       "      <td>121.984999</td>\n",
       "      <td>120.754999</td>\n",
       "      <td>57.107501</td>\n",
       "      <td>226.894997</td>\n",
       "      <td>3810.167542</td>\n",
       "    </tr>\n",
       "    <tr>\n",
       "      <th>50%</th>\n",
       "      <td>128.315002</td>\n",
       "      <td>124.060001</td>\n",
       "      <td>60.530001</td>\n",
       "      <td>233.525002</td>\n",
       "      <td>3873.589966</td>\n",
       "    </tr>\n",
       "    <tr>\n",
       "      <th>75%</th>\n",
       "      <td>133.752502</td>\n",
       "      <td>128.985004</td>\n",
       "      <td>62.827500</td>\n",
       "      <td>237.677505</td>\n",
       "      <td>3915.557556</td>\n",
       "    </tr>\n",
       "    <tr>\n",
       "      <th>max</th>\n",
       "      <td>143.160004</td>\n",
       "      <td>136.380005</td>\n",
       "      <td>65.779999</td>\n",
       "      <td>244.990005</td>\n",
       "      <td>3974.540039</td>\n",
       "    </tr>\n",
       "  </tbody>\n",
       "</table>\n",
       "</div>"
      ],
      "text/plain": [
       "             AAPL         IBM       INTC        MSFT        ^GSPC\n",
       "count   62.000000   62.000000  62.000000   62.000000    62.000000\n",
       "mean   128.427903  125.195968  59.438226  231.866613  3863.938563\n",
       "std      6.726222    4.862788   4.248762    9.164177    71.994513\n",
       "min    116.360001  118.580002  49.669998  212.250000  3700.649902\n",
       "25%    121.984999  120.754999  57.107501  226.894997  3810.167542\n",
       "50%    128.315002  124.060001  60.530001  233.525002  3873.589966\n",
       "75%    133.752502  128.985004  62.827500  237.677505  3915.557556\n",
       "max    143.160004  136.380005  65.779999  244.990005  3974.540039"
      ]
     },
     "execution_count": 76,
     "metadata": {},
     "output_type": "execute_result"
    }
   ],
   "source": [
    "stock_prices.describe()"
   ]
  },
  {
   "cell_type": "markdown",
   "metadata": {},
   "source": [
    "As the caret sign `^` in the ticker of S&P-500 might cause problem in coding, I prefer rename this column before proceeding:"
   ]
  },
  {
   "cell_type": "code",
   "execution_count": 77,
   "metadata": {},
   "outputs": [],
   "source": [
    "stock_prices = stock_prices.rename({'^GSPC':'GSPC'}, axis='columns')"
   ]
  },
  {
   "cell_type": "markdown",
   "metadata": {},
   "source": [
    "Now, after having the return for three stock and one market index, extracting risk free rate allows us to compute excess return. To access the risk free rate data, we use `Fred API` as we have learned previosly. Please note that there is no single risk free rate, different researchers apply different risk free rate but the common property of these rates is that they are issued by a government, which makes them safe heaven to invest. Here, we select `3-Month Treasury Constant Maturity Rate`, which is short-term T-Bill with relatively low and safe return."
   ]
  },
  {
   "cell_type": "markdown",
   "metadata": {},
   "source": [
    "Practically speaking, risk-free rate is hypothetical term, because even the safest investments carry a very small amount of risk. However, it is not wrong to say that government-issued debt is much safer compared to comporate-issued one. That is being said, the interest rate on a three-month U.S. Treasury bill is useful proxy for the risk-free rate for U.S.-based investors. "
   ]
  },
  {
   "cell_type": "code",
   "execution_count": 78,
   "metadata": {},
   "outputs": [],
   "source": [
    "from fredapi import Fred\n",
    "fred = Fred(api_key='78b14ec6ba46f484b94db43694468bb1')#  my API key"
   ]
  },
  {
   "cell_type": "code",
   "execution_count": 79,
   "metadata": {},
   "outputs": [
    {
     "data": {
      "text/html": [
       "<div>\n",
       "<style scoped>\n",
       "    .dataframe tbody tr th:only-of-type {\n",
       "        vertical-align: middle;\n",
       "    }\n",
       "\n",
       "    .dataframe tbody tr th {\n",
       "        vertical-align: top;\n",
       "    }\n",
       "\n",
       "    .dataframe thead th {\n",
       "        text-align: right;\n",
       "    }\n",
       "</style>\n",
       "<table border=\"1\" class=\"dataframe\">\n",
       "  <thead>\n",
       "    <tr style=\"text-align: right;\">\n",
       "      <th></th>\n",
       "      <th>id</th>\n",
       "      <th>realtime_start</th>\n",
       "      <th>realtime_end</th>\n",
       "      <th>title</th>\n",
       "      <th>observation_start</th>\n",
       "      <th>observation_end</th>\n",
       "      <th>frequency</th>\n",
       "      <th>frequency_short</th>\n",
       "      <th>units</th>\n",
       "      <th>units_short</th>\n",
       "      <th>seasonal_adjustment</th>\n",
       "      <th>seasonal_adjustment_short</th>\n",
       "      <th>last_updated</th>\n",
       "      <th>popularity</th>\n",
       "      <th>notes</th>\n",
       "    </tr>\n",
       "    <tr>\n",
       "      <th>series id</th>\n",
       "      <th></th>\n",
       "      <th></th>\n",
       "      <th></th>\n",
       "      <th></th>\n",
       "      <th></th>\n",
       "      <th></th>\n",
       "      <th></th>\n",
       "      <th></th>\n",
       "      <th></th>\n",
       "      <th></th>\n",
       "      <th></th>\n",
       "      <th></th>\n",
       "      <th></th>\n",
       "      <th></th>\n",
       "      <th></th>\n",
       "    </tr>\n",
       "  </thead>\n",
       "  <tbody>\n",
       "    <tr>\n",
       "      <th>DGS10</th>\n",
       "      <td>DGS10</td>\n",
       "      <td>2021-09-16</td>\n",
       "      <td>2021-09-16</td>\n",
       "      <td>10-Year Treasury Constant Maturity Rate</td>\n",
       "      <td>1962-01-02</td>\n",
       "      <td>2021-09-14</td>\n",
       "      <td>Daily</td>\n",
       "      <td>D</td>\n",
       "      <td>Percent</td>\n",
       "      <td>%</td>\n",
       "      <td>Not Seasonally Adjusted</td>\n",
       "      <td>NSA</td>\n",
       "      <td>2021-09-15 15:19:06-05:00</td>\n",
       "      <td>97</td>\n",
       "      <td>For further information regarding treasury con...</td>\n",
       "    </tr>\n",
       "    <tr>\n",
       "      <th>GS10</th>\n",
       "      <td>GS10</td>\n",
       "      <td>2021-09-16</td>\n",
       "      <td>2021-09-16</td>\n",
       "      <td>10-Year Treasury Constant Maturity Rate</td>\n",
       "      <td>1953-04-01</td>\n",
       "      <td>2021-08-01</td>\n",
       "      <td>Monthly</td>\n",
       "      <td>M</td>\n",
       "      <td>Percent</td>\n",
       "      <td>%</td>\n",
       "      <td>Not Seasonally Adjusted</td>\n",
       "      <td>NSA</td>\n",
       "      <td>2021-09-01 15:19:24-05:00</td>\n",
       "      <td>78</td>\n",
       "      <td>Averages of business days. For further informa...</td>\n",
       "    </tr>\n",
       "    <tr>\n",
       "      <th>WGS10YR</th>\n",
       "      <td>WGS10YR</td>\n",
       "      <td>2021-09-16</td>\n",
       "      <td>2021-09-16</td>\n",
       "      <td>10-Year Treasury Constant Maturity Rate</td>\n",
       "      <td>1962-01-05</td>\n",
       "      <td>2021-09-10</td>\n",
       "      <td>Weekly, Ending Friday</td>\n",
       "      <td>W</td>\n",
       "      <td>Percent</td>\n",
       "      <td>%</td>\n",
       "      <td>Not Seasonally Adjusted</td>\n",
       "      <td>NSA</td>\n",
       "      <td>2021-09-13 15:23:08-05:00</td>\n",
       "      <td>61</td>\n",
       "      <td>Averages of business days. For further informa...</td>\n",
       "    </tr>\n",
       "    <tr>\n",
       "      <th>DGS1</th>\n",
       "      <td>DGS1</td>\n",
       "      <td>2021-09-16</td>\n",
       "      <td>2021-09-16</td>\n",
       "      <td>1-Year Treasury Constant Maturity Rate</td>\n",
       "      <td>1962-01-02</td>\n",
       "      <td>2021-09-14</td>\n",
       "      <td>Daily</td>\n",
       "      <td>D</td>\n",
       "      <td>Percent</td>\n",
       "      <td>%</td>\n",
       "      <td>Not Seasonally Adjusted</td>\n",
       "      <td>NSA</td>\n",
       "      <td>2021-09-15 15:20:03-05:00</td>\n",
       "      <td>78</td>\n",
       "      <td>For further information regarding treasury con...</td>\n",
       "    </tr>\n",
       "    <tr>\n",
       "      <th>GS1</th>\n",
       "      <td>GS1</td>\n",
       "      <td>2021-09-16</td>\n",
       "      <td>2021-09-16</td>\n",
       "      <td>1-Year Treasury Constant Maturity Rate</td>\n",
       "      <td>1953-04-01</td>\n",
       "      <td>2021-08-01</td>\n",
       "      <td>Monthly</td>\n",
       "      <td>M</td>\n",
       "      <td>Percent</td>\n",
       "      <td>%</td>\n",
       "      <td>Not Seasonally Adjusted</td>\n",
       "      <td>NSA</td>\n",
       "      <td>2021-09-01 15:19:48-05:00</td>\n",
       "      <td>59</td>\n",
       "      <td>Averages of business days. For further informa...</td>\n",
       "    </tr>\n",
       "    <tr>\n",
       "      <th>WGS1YR</th>\n",
       "      <td>WGS1YR</td>\n",
       "      <td>2021-09-16</td>\n",
       "      <td>2021-09-16</td>\n",
       "      <td>1-Year Treasury Constant Maturity Rate</td>\n",
       "      <td>1962-01-05</td>\n",
       "      <td>2021-09-10</td>\n",
       "      <td>Weekly, Ending Friday</td>\n",
       "      <td>W</td>\n",
       "      <td>Percent</td>\n",
       "      <td>%</td>\n",
       "      <td>Not Seasonally Adjusted</td>\n",
       "      <td>NSA</td>\n",
       "      <td>2021-09-13 15:23:10-05:00</td>\n",
       "      <td>56</td>\n",
       "      <td>Averages of business days. For further informa...</td>\n",
       "    </tr>\n",
       "    <tr>\n",
       "      <th>DGS30</th>\n",
       "      <td>DGS30</td>\n",
       "      <td>2021-09-16</td>\n",
       "      <td>2021-09-16</td>\n",
       "      <td>30-Year Treasury Constant Maturity Rate</td>\n",
       "      <td>1977-02-15</td>\n",
       "      <td>2021-09-14</td>\n",
       "      <td>Daily</td>\n",
       "      <td>D</td>\n",
       "      <td>Percent</td>\n",
       "      <td>%</td>\n",
       "      <td>Not Seasonally Adjusted</td>\n",
       "      <td>NSA</td>\n",
       "      <td>2021-09-15 15:19:12-05:00</td>\n",
       "      <td>77</td>\n",
       "      <td>Yields on actively traded non-inflation-indexe...</td>\n",
       "    </tr>\n",
       "    <tr>\n",
       "      <th>DGS5</th>\n",
       "      <td>DGS5</td>\n",
       "      <td>2021-09-16</td>\n",
       "      <td>2021-09-16</td>\n",
       "      <td>5-Year Treasury Constant Maturity Rate</td>\n",
       "      <td>1962-01-02</td>\n",
       "      <td>2021-09-14</td>\n",
       "      <td>Daily</td>\n",
       "      <td>D</td>\n",
       "      <td>Percent</td>\n",
       "      <td>%</td>\n",
       "      <td>Not Seasonally Adjusted</td>\n",
       "      <td>NSA</td>\n",
       "      <td>2021-09-15 15:19:13-05:00</td>\n",
       "      <td>77</td>\n",
       "      <td>For further information regarding treasury con...</td>\n",
       "    </tr>\n",
       "    <tr>\n",
       "      <th>GS30</th>\n",
       "      <td>GS30</td>\n",
       "      <td>2021-09-16</td>\n",
       "      <td>2021-09-16</td>\n",
       "      <td>30-Year Treasury Constant Maturity Rate</td>\n",
       "      <td>1977-02-01</td>\n",
       "      <td>2021-08-01</td>\n",
       "      <td>Monthly</td>\n",
       "      <td>M</td>\n",
       "      <td>Percent</td>\n",
       "      <td>%</td>\n",
       "      <td>Not Seasonally Adjusted</td>\n",
       "      <td>NSA</td>\n",
       "      <td>2021-09-01 15:19:46-05:00</td>\n",
       "      <td>56</td>\n",
       "      <td>Yields on actively traded non-inflation-indexe...</td>\n",
       "    </tr>\n",
       "    <tr>\n",
       "      <th>GS5</th>\n",
       "      <td>GS5</td>\n",
       "      <td>2021-09-16</td>\n",
       "      <td>2021-09-16</td>\n",
       "      <td>5-Year Treasury Constant Maturity Rate</td>\n",
       "      <td>1953-04-01</td>\n",
       "      <td>2021-08-01</td>\n",
       "      <td>Monthly</td>\n",
       "      <td>M</td>\n",
       "      <td>Percent</td>\n",
       "      <td>%</td>\n",
       "      <td>Not Seasonally Adjusted</td>\n",
       "      <td>NSA</td>\n",
       "      <td>2021-09-01 15:19:42-05:00</td>\n",
       "      <td>52</td>\n",
       "      <td>Averages of business days. For further informa...</td>\n",
       "    </tr>\n",
       "    <tr>\n",
       "      <th>WGS5YR</th>\n",
       "      <td>WGS5YR</td>\n",
       "      <td>2021-09-16</td>\n",
       "      <td>2021-09-16</td>\n",
       "      <td>5-Year Treasury Constant Maturity Rate</td>\n",
       "      <td>1962-01-05</td>\n",
       "      <td>2021-09-10</td>\n",
       "      <td>Weekly, Ending Friday</td>\n",
       "      <td>W</td>\n",
       "      <td>Percent</td>\n",
       "      <td>%</td>\n",
       "      <td>Not Seasonally Adjusted</td>\n",
       "      <td>NSA</td>\n",
       "      <td>2021-09-13 15:23:15-05:00</td>\n",
       "      <td>47</td>\n",
       "      <td>Averages of business days. For further informa...</td>\n",
       "    </tr>\n",
       "    <tr>\n",
       "      <th>DGS2</th>\n",
       "      <td>DGS2</td>\n",
       "      <td>2021-09-16</td>\n",
       "      <td>2021-09-16</td>\n",
       "      <td>2-Year Treasury Constant Maturity Rate</td>\n",
       "      <td>1976-06-01</td>\n",
       "      <td>2021-09-14</td>\n",
       "      <td>Daily</td>\n",
       "      <td>D</td>\n",
       "      <td>Percent</td>\n",
       "      <td>%</td>\n",
       "      <td>Not Seasonally Adjusted</td>\n",
       "      <td>NSA</td>\n",
       "      <td>2021-09-15 15:20:05-05:00</td>\n",
       "      <td>77</td>\n",
       "      <td>For further information regarding treasury con...</td>\n",
       "    </tr>\n",
       "    <tr>\n",
       "      <th>WGS30YR</th>\n",
       "      <td>WGS30YR</td>\n",
       "      <td>2021-09-16</td>\n",
       "      <td>2021-09-16</td>\n",
       "      <td>30-Year Treasury Constant Maturity Rate</td>\n",
       "      <td>1977-02-18</td>\n",
       "      <td>2021-09-10</td>\n",
       "      <td>Weekly, Ending Friday</td>\n",
       "      <td>W</td>\n",
       "      <td>Percent</td>\n",
       "      <td>%</td>\n",
       "      <td>Not Seasonally Adjusted</td>\n",
       "      <td>NSA</td>\n",
       "      <td>2021-09-13 15:23:13-05:00</td>\n",
       "      <td>25</td>\n",
       "      <td>Yields on actively traded non-inflation-indexe...</td>\n",
       "    </tr>\n",
       "    <tr>\n",
       "      <th>GS2</th>\n",
       "      <td>GS2</td>\n",
       "      <td>2021-09-16</td>\n",
       "      <td>2021-09-16</td>\n",
       "      <td>2-Year Treasury Constant Maturity Rate</td>\n",
       "      <td>1976-06-01</td>\n",
       "      <td>2021-08-01</td>\n",
       "      <td>Monthly</td>\n",
       "      <td>M</td>\n",
       "      <td>Percent</td>\n",
       "      <td>%</td>\n",
       "      <td>Not Seasonally Adjusted</td>\n",
       "      <td>NSA</td>\n",
       "      <td>2021-09-01 15:19:55-05:00</td>\n",
       "      <td>40</td>\n",
       "      <td>Averages of business days. For further informa...</td>\n",
       "    </tr>\n",
       "    <tr>\n",
       "      <th>WGS2YR</th>\n",
       "      <td>WGS2YR</td>\n",
       "      <td>2021-09-16</td>\n",
       "      <td>2021-09-16</td>\n",
       "      <td>2-Year Treasury Constant Maturity Rate</td>\n",
       "      <td>1976-06-04</td>\n",
       "      <td>2021-09-10</td>\n",
       "      <td>Weekly, Ending Friday</td>\n",
       "      <td>W</td>\n",
       "      <td>Percent</td>\n",
       "      <td>%</td>\n",
       "      <td>Not Seasonally Adjusted</td>\n",
       "      <td>NSA</td>\n",
       "      <td>2021-09-13 15:23:12-05:00</td>\n",
       "      <td>35</td>\n",
       "      <td>Averages of business days. For further informa...</td>\n",
       "    </tr>\n",
       "    <tr>\n",
       "      <th>DGS20</th>\n",
       "      <td>DGS20</td>\n",
       "      <td>2021-09-16</td>\n",
       "      <td>2021-09-16</td>\n",
       "      <td>20-Year Treasury Constant Maturity Rate</td>\n",
       "      <td>1962-01-02</td>\n",
       "      <td>2021-09-14</td>\n",
       "      <td>Daily</td>\n",
       "      <td>D</td>\n",
       "      <td>Percent</td>\n",
       "      <td>%</td>\n",
       "      <td>Not Seasonally Adjusted</td>\n",
       "      <td>NSA</td>\n",
       "      <td>2021-09-15 15:19:10-05:00</td>\n",
       "      <td>72</td>\n",
       "      <td>For further information regarding treasury con...</td>\n",
       "    </tr>\n",
       "    <tr>\n",
       "      <th>GS20</th>\n",
       "      <td>GS20</td>\n",
       "      <td>2021-09-16</td>\n",
       "      <td>2021-09-16</td>\n",
       "      <td>20-Year Treasury Constant Maturity Rate</td>\n",
       "      <td>1953-04-01</td>\n",
       "      <td>2021-08-01</td>\n",
       "      <td>Monthly</td>\n",
       "      <td>M</td>\n",
       "      <td>Percent</td>\n",
       "      <td>%</td>\n",
       "      <td>Not Seasonally Adjusted</td>\n",
       "      <td>NSA</td>\n",
       "      <td>2021-09-01 15:19:40-05:00</td>\n",
       "      <td>54</td>\n",
       "      <td>Averages of business days. For information on ...</td>\n",
       "    </tr>\n",
       "    <tr>\n",
       "      <th>WGS20YR</th>\n",
       "      <td>WGS20YR</td>\n",
       "      <td>2021-09-16</td>\n",
       "      <td>2021-09-16</td>\n",
       "      <td>20-Year Treasury Constant Maturity Rate</td>\n",
       "      <td>1962-01-05</td>\n",
       "      <td>2021-09-10</td>\n",
       "      <td>Weekly, Ending Friday</td>\n",
       "      <td>W</td>\n",
       "      <td>Percent</td>\n",
       "      <td>%</td>\n",
       "      <td>Not Seasonally Adjusted</td>\n",
       "      <td>NSA</td>\n",
       "      <td>2021-09-13 15:23:11-05:00</td>\n",
       "      <td>16</td>\n",
       "      <td>Averages of business days. For further informa...</td>\n",
       "    </tr>\n",
       "    <tr>\n",
       "      <th>DGS3MO</th>\n",
       "      <td>DGS3MO</td>\n",
       "      <td>2021-09-16</td>\n",
       "      <td>2021-09-16</td>\n",
       "      <td>3-Month Treasury Constant Maturity Rate</td>\n",
       "      <td>1981-09-01</td>\n",
       "      <td>2021-09-14</td>\n",
       "      <td>Daily</td>\n",
       "      <td>D</td>\n",
       "      <td>Percent</td>\n",
       "      <td>%</td>\n",
       "      <td>Not Seasonally Adjusted</td>\n",
       "      <td>NSA</td>\n",
       "      <td>2021-09-15 15:20:06-05:00</td>\n",
       "      <td>70</td>\n",
       "      <td>For further information regarding treasury con...</td>\n",
       "    </tr>\n",
       "    <tr>\n",
       "      <th>GS3M</th>\n",
       "      <td>GS3M</td>\n",
       "      <td>2021-09-16</td>\n",
       "      <td>2021-09-16</td>\n",
       "      <td>3-Month Treasury Constant Maturity Rate</td>\n",
       "      <td>1981-09-01</td>\n",
       "      <td>2021-08-01</td>\n",
       "      <td>Monthly</td>\n",
       "      <td>M</td>\n",
       "      <td>Percent</td>\n",
       "      <td>%</td>\n",
       "      <td>Not Seasonally Adjusted</td>\n",
       "      <td>NSA</td>\n",
       "      <td>2021-09-01 15:19:52-05:00</td>\n",
       "      <td>42</td>\n",
       "      <td>Averages of business days. For further informa...</td>\n",
       "    </tr>\n",
       "    <tr>\n",
       "      <th>WGS3MO</th>\n",
       "      <td>WGS3MO</td>\n",
       "      <td>2021-09-16</td>\n",
       "      <td>2021-09-16</td>\n",
       "      <td>3-Month Treasury Constant Maturity Rate</td>\n",
       "      <td>1981-09-04</td>\n",
       "      <td>2021-09-10</td>\n",
       "      <td>Weekly, Ending Friday</td>\n",
       "      <td>W</td>\n",
       "      <td>Percent</td>\n",
       "      <td>%</td>\n",
       "      <td>Not Seasonally Adjusted</td>\n",
       "      <td>NSA</td>\n",
       "      <td>2021-09-13 15:23:13-05:00</td>\n",
       "      <td>23</td>\n",
       "      <td>Averages of business days. For further informa...</td>\n",
       "    </tr>\n",
       "    <tr>\n",
       "      <th>DGS1MO</th>\n",
       "      <td>DGS1MO</td>\n",
       "      <td>2021-09-16</td>\n",
       "      <td>2021-09-16</td>\n",
       "      <td>1-Month Treasury Constant Maturity Rate</td>\n",
       "      <td>2001-07-31</td>\n",
       "      <td>2021-09-14</td>\n",
       "      <td>Daily</td>\n",
       "      <td>D</td>\n",
       "      <td>Percent</td>\n",
       "      <td>%</td>\n",
       "      <td>Not Seasonally Adjusted</td>\n",
       "      <td>NSA</td>\n",
       "      <td>2021-09-15 15:20:04-05:00</td>\n",
       "      <td>66</td>\n",
       "      <td>For further information regarding treasury con...</td>\n",
       "    </tr>\n",
       "    <tr>\n",
       "      <th>DGS3</th>\n",
       "      <td>DGS3</td>\n",
       "      <td>2021-09-16</td>\n",
       "      <td>2021-09-16</td>\n",
       "      <td>3-Year Treasury Constant Maturity Rate</td>\n",
       "      <td>1962-01-02</td>\n",
       "      <td>2021-09-14</td>\n",
       "      <td>Daily</td>\n",
       "      <td>D</td>\n",
       "      <td>Percent</td>\n",
       "      <td>%</td>\n",
       "      <td>Not Seasonally Adjusted</td>\n",
       "      <td>NSA</td>\n",
       "      <td>2021-09-15 15:19:11-05:00</td>\n",
       "      <td>64</td>\n",
       "      <td>For further information regarding treasury con...</td>\n",
       "    </tr>\n",
       "    <tr>\n",
       "      <th>GS1M</th>\n",
       "      <td>GS1M</td>\n",
       "      <td>2021-09-16</td>\n",
       "      <td>2021-09-16</td>\n",
       "      <td>1-Month Treasury Constant Maturity Rate</td>\n",
       "      <td>2001-07-01</td>\n",
       "      <td>2021-08-01</td>\n",
       "      <td>Monthly</td>\n",
       "      <td>M</td>\n",
       "      <td>Percent</td>\n",
       "      <td>%</td>\n",
       "      <td>Not Seasonally Adjusted</td>\n",
       "      <td>NSA</td>\n",
       "      <td>2021-09-01 15:19:51-05:00</td>\n",
       "      <td>41</td>\n",
       "      <td>Averages of business days. For further informa...</td>\n",
       "    </tr>\n",
       "    <tr>\n",
       "      <th>WGS3YR</th>\n",
       "      <td>WGS3YR</td>\n",
       "      <td>2021-09-16</td>\n",
       "      <td>2021-09-16</td>\n",
       "      <td>3-Year Treasury Constant Maturity Rate</td>\n",
       "      <td>1962-01-05</td>\n",
       "      <td>2021-09-10</td>\n",
       "      <td>Weekly, Ending Friday</td>\n",
       "      <td>W</td>\n",
       "      <td>Percent</td>\n",
       "      <td>%</td>\n",
       "      <td>Not Seasonally Adjusted</td>\n",
       "      <td>NSA</td>\n",
       "      <td>2021-09-13 15:23:14-05:00</td>\n",
       "      <td>36</td>\n",
       "      <td>Averages of business days. For further informa...</td>\n",
       "    </tr>\n",
       "    <tr>\n",
       "      <th>GS3</th>\n",
       "      <td>GS3</td>\n",
       "      <td>2021-09-16</td>\n",
       "      <td>2021-09-16</td>\n",
       "      <td>3-Year Treasury Constant Maturity Rate</td>\n",
       "      <td>1953-04-01</td>\n",
       "      <td>2021-08-01</td>\n",
       "      <td>Monthly</td>\n",
       "      <td>M</td>\n",
       "      <td>Percent</td>\n",
       "      <td>%</td>\n",
       "      <td>Not Seasonally Adjusted</td>\n",
       "      <td>NSA</td>\n",
       "      <td>2021-09-01 15:19:57-05:00</td>\n",
       "      <td>30</td>\n",
       "      <td>Averages of business days. For further informa...</td>\n",
       "    </tr>\n",
       "    <tr>\n",
       "      <th>WGS1MO</th>\n",
       "      <td>WGS1MO</td>\n",
       "      <td>2021-09-16</td>\n",
       "      <td>2021-09-16</td>\n",
       "      <td>1-Month Treasury Constant Maturity Rate</td>\n",
       "      <td>2001-08-03</td>\n",
       "      <td>2021-09-10</td>\n",
       "      <td>Weekly, Ending Friday</td>\n",
       "      <td>W</td>\n",
       "      <td>Percent</td>\n",
       "      <td>%</td>\n",
       "      <td>Not Seasonally Adjusted</td>\n",
       "      <td>NSA</td>\n",
       "      <td>2021-09-13 15:23:09-05:00</td>\n",
       "      <td>7</td>\n",
       "      <td>Averages of business days. For further informa...</td>\n",
       "    </tr>\n",
       "    <tr>\n",
       "      <th>DGS7</th>\n",
       "      <td>DGS7</td>\n",
       "      <td>2021-09-16</td>\n",
       "      <td>2021-09-16</td>\n",
       "      <td>7-Year Treasury Constant Maturity Rate</td>\n",
       "      <td>1969-07-01</td>\n",
       "      <td>2021-09-14</td>\n",
       "      <td>Daily</td>\n",
       "      <td>D</td>\n",
       "      <td>Percent</td>\n",
       "      <td>%</td>\n",
       "      <td>Not Seasonally Adjusted</td>\n",
       "      <td>NSA</td>\n",
       "      <td>2021-09-15 15:19:14-05:00</td>\n",
       "      <td>58</td>\n",
       "      <td>For further information regarding treasury con...</td>\n",
       "    </tr>\n",
       "    <tr>\n",
       "      <th>GS7</th>\n",
       "      <td>GS7</td>\n",
       "      <td>2021-09-16</td>\n",
       "      <td>2021-09-16</td>\n",
       "      <td>7-Year Treasury Constant Maturity Rate</td>\n",
       "      <td>1969-07-01</td>\n",
       "      <td>2021-08-01</td>\n",
       "      <td>Monthly</td>\n",
       "      <td>M</td>\n",
       "      <td>Percent</td>\n",
       "      <td>%</td>\n",
       "      <td>Not Seasonally Adjusted</td>\n",
       "      <td>NSA</td>\n",
       "      <td>2021-09-01 15:20:03-05:00</td>\n",
       "      <td>23</td>\n",
       "      <td>Averages of business days. For further informa...</td>\n",
       "    </tr>\n",
       "    <tr>\n",
       "      <th>WGS7YR</th>\n",
       "      <td>WGS7YR</td>\n",
       "      <td>2021-09-16</td>\n",
       "      <td>2021-09-16</td>\n",
       "      <td>7-Year Treasury Constant Maturity Rate</td>\n",
       "      <td>1969-07-04</td>\n",
       "      <td>2021-09-10</td>\n",
       "      <td>Weekly, Ending Friday</td>\n",
       "      <td>W</td>\n",
       "      <td>Percent</td>\n",
       "      <td>%</td>\n",
       "      <td>Not Seasonally Adjusted</td>\n",
       "      <td>NSA</td>\n",
       "      <td>2021-09-13 15:23:17-05:00</td>\n",
       "      <td>20</td>\n",
       "      <td>Averages of business days. For further informa...</td>\n",
       "    </tr>\n",
       "    <tr>\n",
       "      <th>DGS6MO</th>\n",
       "      <td>DGS6MO</td>\n",
       "      <td>2021-09-16</td>\n",
       "      <td>2021-09-16</td>\n",
       "      <td>6-Month Treasury Constant Maturity Rate</td>\n",
       "      <td>1981-09-01</td>\n",
       "      <td>2021-09-14</td>\n",
       "      <td>Daily</td>\n",
       "      <td>D</td>\n",
       "      <td>Percent</td>\n",
       "      <td>%</td>\n",
       "      <td>Not Seasonally Adjusted</td>\n",
       "      <td>NSA</td>\n",
       "      <td>2021-09-15 15:20:07-05:00</td>\n",
       "      <td>50</td>\n",
       "      <td>For further information regarding treasury con...</td>\n",
       "    </tr>\n",
       "    <tr>\n",
       "      <th>GS6M</th>\n",
       "      <td>GS6M</td>\n",
       "      <td>2021-09-16</td>\n",
       "      <td>2021-09-16</td>\n",
       "      <td>6-Month Treasury Constant Maturity Rate</td>\n",
       "      <td>1981-09-01</td>\n",
       "      <td>2021-08-01</td>\n",
       "      <td>Monthly</td>\n",
       "      <td>M</td>\n",
       "      <td>Percent</td>\n",
       "      <td>%</td>\n",
       "      <td>Not Seasonally Adjusted</td>\n",
       "      <td>NSA</td>\n",
       "      <td>2021-09-01 15:20:03-05:00</td>\n",
       "      <td>23</td>\n",
       "      <td>Averages of business days. For further informa...</td>\n",
       "    </tr>\n",
       "    <tr>\n",
       "      <th>WGS6MO</th>\n",
       "      <td>WGS6MO</td>\n",
       "      <td>2021-09-16</td>\n",
       "      <td>2021-09-16</td>\n",
       "      <td>6-Month Treasury Constant Maturity Rate</td>\n",
       "      <td>1981-09-04</td>\n",
       "      <td>2021-09-10</td>\n",
       "      <td>Weekly, Ending Friday</td>\n",
       "      <td>W</td>\n",
       "      <td>Percent</td>\n",
       "      <td>%</td>\n",
       "      <td>Not Seasonally Adjusted</td>\n",
       "      <td>NSA</td>\n",
       "      <td>2021-09-13 15:23:16-05:00</td>\n",
       "      <td>11</td>\n",
       "      <td>Averages of business days. For further informa...</td>\n",
       "    </tr>\n",
       "    <tr>\n",
       "      <th>CRESD678FRBCLE</th>\n",
       "      <td>CRESD678FRBCLE</td>\n",
       "      <td>2021-09-16</td>\n",
       "      <td>2021-09-16</td>\n",
       "      <td>Contributions to the Cleveland Financial Stres...</td>\n",
       "      <td>1991-09-25</td>\n",
       "      <td>2016-05-05</td>\n",
       "      <td>Daily</td>\n",
       "      <td>D</td>\n",
       "      <td>Units of Stress</td>\n",
       "      <td>Units of Stress</td>\n",
       "      <td>Not Seasonally Adjusted</td>\n",
       "      <td>NSA</td>\n",
       "      <td>2016-05-06 14:23:01-05:00</td>\n",
       "      <td>1</td>\n",
       "      <td>In May of 2016, the source discovered errors i...</td>\n",
       "    </tr>\n",
       "    <tr>\n",
       "      <th>RRESD678FRBCLE</th>\n",
       "      <td>RRESD678FRBCLE</td>\n",
       "      <td>2021-09-16</td>\n",
       "      <td>2021-09-16</td>\n",
       "      <td>Contributions to the Cleveland Financial Stres...</td>\n",
       "      <td>1991-09-25</td>\n",
       "      <td>2016-05-05</td>\n",
       "      <td>Daily</td>\n",
       "      <td>D</td>\n",
       "      <td>Units of Stress</td>\n",
       "      <td>Units of Stress</td>\n",
       "      <td>Not Seasonally Adjusted</td>\n",
       "      <td>NSA</td>\n",
       "      <td>2016-05-06 14:22:15-05:00</td>\n",
       "      <td>1</td>\n",
       "      <td>In May of 2016, the source discovered errors i...</td>\n",
       "    </tr>\n",
       "  </tbody>\n",
       "</table>\n",
       "</div>"
      ],
      "text/plain": [
       "                            id realtime_start realtime_end  \\\n",
       "series id                                                    \n",
       "DGS10                    DGS10     2021-09-16   2021-09-16   \n",
       "GS10                      GS10     2021-09-16   2021-09-16   \n",
       "WGS10YR                WGS10YR     2021-09-16   2021-09-16   \n",
       "DGS1                      DGS1     2021-09-16   2021-09-16   \n",
       "GS1                        GS1     2021-09-16   2021-09-16   \n",
       "WGS1YR                  WGS1YR     2021-09-16   2021-09-16   \n",
       "DGS30                    DGS30     2021-09-16   2021-09-16   \n",
       "DGS5                      DGS5     2021-09-16   2021-09-16   \n",
       "GS30                      GS30     2021-09-16   2021-09-16   \n",
       "GS5                        GS5     2021-09-16   2021-09-16   \n",
       "WGS5YR                  WGS5YR     2021-09-16   2021-09-16   \n",
       "DGS2                      DGS2     2021-09-16   2021-09-16   \n",
       "WGS30YR                WGS30YR     2021-09-16   2021-09-16   \n",
       "GS2                        GS2     2021-09-16   2021-09-16   \n",
       "WGS2YR                  WGS2YR     2021-09-16   2021-09-16   \n",
       "DGS20                    DGS20     2021-09-16   2021-09-16   \n",
       "GS20                      GS20     2021-09-16   2021-09-16   \n",
       "WGS20YR                WGS20YR     2021-09-16   2021-09-16   \n",
       "DGS3MO                  DGS3MO     2021-09-16   2021-09-16   \n",
       "GS3M                      GS3M     2021-09-16   2021-09-16   \n",
       "WGS3MO                  WGS3MO     2021-09-16   2021-09-16   \n",
       "DGS1MO                  DGS1MO     2021-09-16   2021-09-16   \n",
       "DGS3                      DGS3     2021-09-16   2021-09-16   \n",
       "GS1M                      GS1M     2021-09-16   2021-09-16   \n",
       "WGS3YR                  WGS3YR     2021-09-16   2021-09-16   \n",
       "GS3                        GS3     2021-09-16   2021-09-16   \n",
       "WGS1MO                  WGS1MO     2021-09-16   2021-09-16   \n",
       "DGS7                      DGS7     2021-09-16   2021-09-16   \n",
       "GS7                        GS7     2021-09-16   2021-09-16   \n",
       "WGS7YR                  WGS7YR     2021-09-16   2021-09-16   \n",
       "DGS6MO                  DGS6MO     2021-09-16   2021-09-16   \n",
       "GS6M                      GS6M     2021-09-16   2021-09-16   \n",
       "WGS6MO                  WGS6MO     2021-09-16   2021-09-16   \n",
       "CRESD678FRBCLE  CRESD678FRBCLE     2021-09-16   2021-09-16   \n",
       "RRESD678FRBCLE  RRESD678FRBCLE     2021-09-16   2021-09-16   \n",
       "\n",
       "                                                            title  \\\n",
       "series id                                                           \n",
       "DGS10                     10-Year Treasury Constant Maturity Rate   \n",
       "GS10                      10-Year Treasury Constant Maturity Rate   \n",
       "WGS10YR                   10-Year Treasury Constant Maturity Rate   \n",
       "DGS1                       1-Year Treasury Constant Maturity Rate   \n",
       "GS1                        1-Year Treasury Constant Maturity Rate   \n",
       "WGS1YR                     1-Year Treasury Constant Maturity Rate   \n",
       "DGS30                     30-Year Treasury Constant Maturity Rate   \n",
       "DGS5                       5-Year Treasury Constant Maturity Rate   \n",
       "GS30                      30-Year Treasury Constant Maturity Rate   \n",
       "GS5                        5-Year Treasury Constant Maturity Rate   \n",
       "WGS5YR                     5-Year Treasury Constant Maturity Rate   \n",
       "DGS2                       2-Year Treasury Constant Maturity Rate   \n",
       "WGS30YR                   30-Year Treasury Constant Maturity Rate   \n",
       "GS2                        2-Year Treasury Constant Maturity Rate   \n",
       "WGS2YR                     2-Year Treasury Constant Maturity Rate   \n",
       "DGS20                     20-Year Treasury Constant Maturity Rate   \n",
       "GS20                      20-Year Treasury Constant Maturity Rate   \n",
       "WGS20YR                   20-Year Treasury Constant Maturity Rate   \n",
       "DGS3MO                    3-Month Treasury Constant Maturity Rate   \n",
       "GS3M                      3-Month Treasury Constant Maturity Rate   \n",
       "WGS3MO                    3-Month Treasury Constant Maturity Rate   \n",
       "DGS1MO                    1-Month Treasury Constant Maturity Rate   \n",
       "DGS3                       3-Year Treasury Constant Maturity Rate   \n",
       "GS1M                      1-Month Treasury Constant Maturity Rate   \n",
       "WGS3YR                     3-Year Treasury Constant Maturity Rate   \n",
       "GS3                        3-Year Treasury Constant Maturity Rate   \n",
       "WGS1MO                    1-Month Treasury Constant Maturity Rate   \n",
       "DGS7                       7-Year Treasury Constant Maturity Rate   \n",
       "GS7                        7-Year Treasury Constant Maturity Rate   \n",
       "WGS7YR                     7-Year Treasury Constant Maturity Rate   \n",
       "DGS6MO                    6-Month Treasury Constant Maturity Rate   \n",
       "GS6M                      6-Month Treasury Constant Maturity Rate   \n",
       "WGS6MO                    6-Month Treasury Constant Maturity Rate   \n",
       "CRESD678FRBCLE  Contributions to the Cleveland Financial Stres...   \n",
       "RRESD678FRBCLE  Contributions to the Cleveland Financial Stres...   \n",
       "\n",
       "               observation_start observation_end              frequency  \\\n",
       "series id                                                                 \n",
       "DGS10                 1962-01-02      2021-09-14                  Daily   \n",
       "GS10                  1953-04-01      2021-08-01                Monthly   \n",
       "WGS10YR               1962-01-05      2021-09-10  Weekly, Ending Friday   \n",
       "DGS1                  1962-01-02      2021-09-14                  Daily   \n",
       "GS1                   1953-04-01      2021-08-01                Monthly   \n",
       "WGS1YR                1962-01-05      2021-09-10  Weekly, Ending Friday   \n",
       "DGS30                 1977-02-15      2021-09-14                  Daily   \n",
       "DGS5                  1962-01-02      2021-09-14                  Daily   \n",
       "GS30                  1977-02-01      2021-08-01                Monthly   \n",
       "GS5                   1953-04-01      2021-08-01                Monthly   \n",
       "WGS5YR                1962-01-05      2021-09-10  Weekly, Ending Friday   \n",
       "DGS2                  1976-06-01      2021-09-14                  Daily   \n",
       "WGS30YR               1977-02-18      2021-09-10  Weekly, Ending Friday   \n",
       "GS2                   1976-06-01      2021-08-01                Monthly   \n",
       "WGS2YR                1976-06-04      2021-09-10  Weekly, Ending Friday   \n",
       "DGS20                 1962-01-02      2021-09-14                  Daily   \n",
       "GS20                  1953-04-01      2021-08-01                Monthly   \n",
       "WGS20YR               1962-01-05      2021-09-10  Weekly, Ending Friday   \n",
       "DGS3MO                1981-09-01      2021-09-14                  Daily   \n",
       "GS3M                  1981-09-01      2021-08-01                Monthly   \n",
       "WGS3MO                1981-09-04      2021-09-10  Weekly, Ending Friday   \n",
       "DGS1MO                2001-07-31      2021-09-14                  Daily   \n",
       "DGS3                  1962-01-02      2021-09-14                  Daily   \n",
       "GS1M                  2001-07-01      2021-08-01                Monthly   \n",
       "WGS3YR                1962-01-05      2021-09-10  Weekly, Ending Friday   \n",
       "GS3                   1953-04-01      2021-08-01                Monthly   \n",
       "WGS1MO                2001-08-03      2021-09-10  Weekly, Ending Friday   \n",
       "DGS7                  1969-07-01      2021-09-14                  Daily   \n",
       "GS7                   1969-07-01      2021-08-01                Monthly   \n",
       "WGS7YR                1969-07-04      2021-09-10  Weekly, Ending Friday   \n",
       "DGS6MO                1981-09-01      2021-09-14                  Daily   \n",
       "GS6M                  1981-09-01      2021-08-01                Monthly   \n",
       "WGS6MO                1981-09-04      2021-09-10  Weekly, Ending Friday   \n",
       "CRESD678FRBCLE        1991-09-25      2016-05-05                  Daily   \n",
       "RRESD678FRBCLE        1991-09-25      2016-05-05                  Daily   \n",
       "\n",
       "               frequency_short            units      units_short  \\\n",
       "series id                                                          \n",
       "DGS10                        D          Percent                %   \n",
       "GS10                         M          Percent                %   \n",
       "WGS10YR                      W          Percent                %   \n",
       "DGS1                         D          Percent                %   \n",
       "GS1                          M          Percent                %   \n",
       "WGS1YR                       W          Percent                %   \n",
       "DGS30                        D          Percent                %   \n",
       "DGS5                         D          Percent                %   \n",
       "GS30                         M          Percent                %   \n",
       "GS5                          M          Percent                %   \n",
       "WGS5YR                       W          Percent                %   \n",
       "DGS2                         D          Percent                %   \n",
       "WGS30YR                      W          Percent                %   \n",
       "GS2                          M          Percent                %   \n",
       "WGS2YR                       W          Percent                %   \n",
       "DGS20                        D          Percent                %   \n",
       "GS20                         M          Percent                %   \n",
       "WGS20YR                      W          Percent                %   \n",
       "DGS3MO                       D          Percent                %   \n",
       "GS3M                         M          Percent                %   \n",
       "WGS3MO                       W          Percent                %   \n",
       "DGS1MO                       D          Percent                %   \n",
       "DGS3                         D          Percent                %   \n",
       "GS1M                         M          Percent                %   \n",
       "WGS3YR                       W          Percent                %   \n",
       "GS3                          M          Percent                %   \n",
       "WGS1MO                       W          Percent                %   \n",
       "DGS7                         D          Percent                %   \n",
       "GS7                          M          Percent                %   \n",
       "WGS7YR                       W          Percent                %   \n",
       "DGS6MO                       D          Percent                %   \n",
       "GS6M                         M          Percent                %   \n",
       "WGS6MO                       W          Percent                %   \n",
       "CRESD678FRBCLE               D  Units of Stress  Units of Stress   \n",
       "RRESD678FRBCLE               D  Units of Stress  Units of Stress   \n",
       "\n",
       "                    seasonal_adjustment seasonal_adjustment_short  \\\n",
       "series id                                                           \n",
       "DGS10           Not Seasonally Adjusted                       NSA   \n",
       "GS10            Not Seasonally Adjusted                       NSA   \n",
       "WGS10YR         Not Seasonally Adjusted                       NSA   \n",
       "DGS1            Not Seasonally Adjusted                       NSA   \n",
       "GS1             Not Seasonally Adjusted                       NSA   \n",
       "WGS1YR          Not Seasonally Adjusted                       NSA   \n",
       "DGS30           Not Seasonally Adjusted                       NSA   \n",
       "DGS5            Not Seasonally Adjusted                       NSA   \n",
       "GS30            Not Seasonally Adjusted                       NSA   \n",
       "GS5             Not Seasonally Adjusted                       NSA   \n",
       "WGS5YR          Not Seasonally Adjusted                       NSA   \n",
       "DGS2            Not Seasonally Adjusted                       NSA   \n",
       "WGS30YR         Not Seasonally Adjusted                       NSA   \n",
       "GS2             Not Seasonally Adjusted                       NSA   \n",
       "WGS2YR          Not Seasonally Adjusted                       NSA   \n",
       "DGS20           Not Seasonally Adjusted                       NSA   \n",
       "GS20            Not Seasonally Adjusted                       NSA   \n",
       "WGS20YR         Not Seasonally Adjusted                       NSA   \n",
       "DGS3MO          Not Seasonally Adjusted                       NSA   \n",
       "GS3M            Not Seasonally Adjusted                       NSA   \n",
       "WGS3MO          Not Seasonally Adjusted                       NSA   \n",
       "DGS1MO          Not Seasonally Adjusted                       NSA   \n",
       "DGS3            Not Seasonally Adjusted                       NSA   \n",
       "GS1M            Not Seasonally Adjusted                       NSA   \n",
       "WGS3YR          Not Seasonally Adjusted                       NSA   \n",
       "GS3             Not Seasonally Adjusted                       NSA   \n",
       "WGS1MO          Not Seasonally Adjusted                       NSA   \n",
       "DGS7            Not Seasonally Adjusted                       NSA   \n",
       "GS7             Not Seasonally Adjusted                       NSA   \n",
       "WGS7YR          Not Seasonally Adjusted                       NSA   \n",
       "DGS6MO          Not Seasonally Adjusted                       NSA   \n",
       "GS6M            Not Seasonally Adjusted                       NSA   \n",
       "WGS6MO          Not Seasonally Adjusted                       NSA   \n",
       "CRESD678FRBCLE  Not Seasonally Adjusted                       NSA   \n",
       "RRESD678FRBCLE  Not Seasonally Adjusted                       NSA   \n",
       "\n",
       "                            last_updated popularity  \\\n",
       "series id                                             \n",
       "DGS10          2021-09-15 15:19:06-05:00         97   \n",
       "GS10           2021-09-01 15:19:24-05:00         78   \n",
       "WGS10YR        2021-09-13 15:23:08-05:00         61   \n",
       "DGS1           2021-09-15 15:20:03-05:00         78   \n",
       "GS1            2021-09-01 15:19:48-05:00         59   \n",
       "WGS1YR         2021-09-13 15:23:10-05:00         56   \n",
       "DGS30          2021-09-15 15:19:12-05:00         77   \n",
       "DGS5           2021-09-15 15:19:13-05:00         77   \n",
       "GS30           2021-09-01 15:19:46-05:00         56   \n",
       "GS5            2021-09-01 15:19:42-05:00         52   \n",
       "WGS5YR         2021-09-13 15:23:15-05:00         47   \n",
       "DGS2           2021-09-15 15:20:05-05:00         77   \n",
       "WGS30YR        2021-09-13 15:23:13-05:00         25   \n",
       "GS2            2021-09-01 15:19:55-05:00         40   \n",
       "WGS2YR         2021-09-13 15:23:12-05:00         35   \n",
       "DGS20          2021-09-15 15:19:10-05:00         72   \n",
       "GS20           2021-09-01 15:19:40-05:00         54   \n",
       "WGS20YR        2021-09-13 15:23:11-05:00         16   \n",
       "DGS3MO         2021-09-15 15:20:06-05:00         70   \n",
       "GS3M           2021-09-01 15:19:52-05:00         42   \n",
       "WGS3MO         2021-09-13 15:23:13-05:00         23   \n",
       "DGS1MO         2021-09-15 15:20:04-05:00         66   \n",
       "DGS3           2021-09-15 15:19:11-05:00         64   \n",
       "GS1M           2021-09-01 15:19:51-05:00         41   \n",
       "WGS3YR         2021-09-13 15:23:14-05:00         36   \n",
       "GS3            2021-09-01 15:19:57-05:00         30   \n",
       "WGS1MO         2021-09-13 15:23:09-05:00          7   \n",
       "DGS7           2021-09-15 15:19:14-05:00         58   \n",
       "GS7            2021-09-01 15:20:03-05:00         23   \n",
       "WGS7YR         2021-09-13 15:23:17-05:00         20   \n",
       "DGS6MO         2021-09-15 15:20:07-05:00         50   \n",
       "GS6M           2021-09-01 15:20:03-05:00         23   \n",
       "WGS6MO         2021-09-13 15:23:16-05:00         11   \n",
       "CRESD678FRBCLE 2016-05-06 14:23:01-05:00          1   \n",
       "RRESD678FRBCLE 2016-05-06 14:22:15-05:00          1   \n",
       "\n",
       "                                                            notes  \n",
       "series id                                                          \n",
       "DGS10           For further information regarding treasury con...  \n",
       "GS10            Averages of business days. For further informa...  \n",
       "WGS10YR         Averages of business days. For further informa...  \n",
       "DGS1            For further information regarding treasury con...  \n",
       "GS1             Averages of business days. For further informa...  \n",
       "WGS1YR          Averages of business days. For further informa...  \n",
       "DGS30           Yields on actively traded non-inflation-indexe...  \n",
       "DGS5            For further information regarding treasury con...  \n",
       "GS30            Yields on actively traded non-inflation-indexe...  \n",
       "GS5             Averages of business days. For further informa...  \n",
       "WGS5YR          Averages of business days. For further informa...  \n",
       "DGS2            For further information regarding treasury con...  \n",
       "WGS30YR         Yields on actively traded non-inflation-indexe...  \n",
       "GS2             Averages of business days. For further informa...  \n",
       "WGS2YR          Averages of business days. For further informa...  \n",
       "DGS20           For further information regarding treasury con...  \n",
       "GS20            Averages of business days. For information on ...  \n",
       "WGS20YR         Averages of business days. For further informa...  \n",
       "DGS3MO          For further information regarding treasury con...  \n",
       "GS3M            Averages of business days. For further informa...  \n",
       "WGS3MO          Averages of business days. For further informa...  \n",
       "DGS1MO          For further information regarding treasury con...  \n",
       "DGS3            For further information regarding treasury con...  \n",
       "GS1M            Averages of business days. For further informa...  \n",
       "WGS3YR          Averages of business days. For further informa...  \n",
       "GS3             Averages of business days. For further informa...  \n",
       "WGS1MO          Averages of business days. For further informa...  \n",
       "DGS7            For further information regarding treasury con...  \n",
       "GS7             Averages of business days. For further informa...  \n",
       "WGS7YR          Averages of business days. For further informa...  \n",
       "DGS6MO          For further information regarding treasury con...  \n",
       "GS6M            Averages of business days. For further informa...  \n",
       "WGS6MO          Averages of business days. For further informa...  \n",
       "CRESD678FRBCLE  In May of 2016, the source discovered errors i...  \n",
       "RRESD678FRBCLE  In May of 2016, the source discovered errors i...  "
      ]
     },
     "execution_count": 79,
     "metadata": {},
     "output_type": "execute_result"
    }
   ],
   "source": [
    "fred.search('risk free')"
   ]
  },
  {
   "cell_type": "markdown",
   "metadata": {},
   "source": [
    "Visualization is quite helpful in understanding what the data looks like. So, as a first step, it is encouraged to plot the data and increase the awareness about it. Below, using line plot, trend of the four individual stock and market index are shown. Accordingly, aside from Apple, all others have tended to move upward despite ups and downs along the way."
   ]
  },
  {
   "cell_type": "code",
   "execution_count": 80,
   "metadata": {},
   "outputs": [
    {
     "data": {
      "image/png": "[encoded data removed]",
      "text/plain": [
       "<Figure size 720x720 with 1 Axes>"
      ]
     },
     "metadata": {
      "needs_background": "light"
     },
     "output_type": "display_data"
    },
    {
     "data": {
      "image/png": "[encoded data removed]",
      "text/plain": [
       "<Figure size 720x720 with 1 Axes>"
      ]
     },
     "metadata": {
      "needs_background": "light"
     },
     "output_type": "display_data"
    },
    {
     "data": {
      "image/png": "[encoded data removed]",
      "text/plain": [
       "<Figure size 720x720 with 1 Axes>"
      ]
     },
     "metadata": {
      "needs_background": "light"
     },
     "output_type": "display_data"
    },
    {
     "data": {
      "image/png": "[encoded data removed]",
      "text/plain": [
       "<Figure size 720x720 with 1 Axes>"
      ]
     },
     "metadata": {
      "needs_background": "light"
     },
     "output_type": "display_data"
    },
    {
     "data": {
      "image/png": "[encoded data removed]",
      "text/plain": [
       "<Figure size 720x720 with 1 Axes>"
      ]
     },
     "metadata": {
      "needs_background": "light"
     },
     "output_type": "display_data"
    }
   ],
   "source": [
    "for i, stock in enumerate(stock_prices.columns, start=1):\n",
    "    sns.set\n",
    "    plt.figure(figsize=(10, 10))\n",
    "    plt.subplot(5, 1, i)\n",
    "    plt.plot(stock_prices[stock])\n",
    "    plt.title(f\"{stock}\")\n",
    "    plt.tight_layout()\n",
    "    plt.show()      "
   ]
  },
  {
   "cell_type": "markdown",
   "metadata": {},
   "source": [
    "Correlation coefficient tells us the extent to which variables are related. `Correlation matrix` is a tool to calculate and visualize the correlation coefficients among the variables of interest. The most striking observation is the correlation coefficient of 76% between Comcast and S&P-500 indicating that there is a high correlation between these two variables. However, it is not the case for AT&T and Verizon whose correlation coefficients with S&P-500 are -52% and 55%, respectively."
   ]
  },
  {
   "cell_type": "code",
   "execution_count": 81,
   "metadata": {},
   "outputs": [
    {
     "data": {
      "image/png": "[encoded data removed]",
      "text/plain": [
       "<Figure size 720x432 with 2 Axes>"
      ]
     },
     "metadata": {
      "needs_background": "light"
     },
     "output_type": "display_data"
    }
   ],
   "source": [
    "heat_corr = stock_prices.corr()\n",
    "plt.figure(figsize=(10, 6))\n",
    "sns.heatmap(heat_corr, annot=True)\n",
    "plt.title(\"Correlation Matrix\")\n",
    "plt.show()"
   ]
  },
  {
   "cell_type": "markdown",
   "metadata": {},
   "source": [
    "As CAPM requires stock returns, there are various ways to calculate return in Python but `.pct_change()` is one of the most easyto-apply function. Once we calculate the return first row becomes `nan` as return for the first entry cannot be computed."
   ]
  },
  {
   "cell_type": "code",
   "execution_count": 82,
   "metadata": {},
   "outputs": [
    {
     "data": {
      "text/html": [
       "<div>\n",
       "<style scoped>\n",
       "    .dataframe tbody tr th:only-of-type {\n",
       "        vertical-align: middle;\n",
       "    }\n",
       "\n",
       "    .dataframe tbody tr th {\n",
       "        vertical-align: top;\n",
       "    }\n",
       "\n",
       "    .dataframe thead th {\n",
       "        text-align: right;\n",
       "    }\n",
       "</style>\n",
       "<table border=\"1\" class=\"dataframe\">\n",
       "  <thead>\n",
       "    <tr style=\"text-align: right;\">\n",
       "      <th></th>\n",
       "      <th>AAPL</th>\n",
       "      <th>IBM</th>\n",
       "      <th>INTC</th>\n",
       "      <th>MSFT</th>\n",
       "      <th>GSPC</th>\n",
       "    </tr>\n",
       "    <tr>\n",
       "      <th>Date</th>\n",
       "      <th></th>\n",
       "      <th></th>\n",
       "      <th></th>\n",
       "      <th></th>\n",
       "      <th></th>\n",
       "    </tr>\n",
       "  </thead>\n",
       "  <tbody>\n",
       "    <tr>\n",
       "      <th>2021-01-04</th>\n",
       "      <td>-0.024719</td>\n",
       "      <td>-0.015411</td>\n",
       "      <td>-0.003011</td>\n",
       "      <td>-0.021266</td>\n",
       "      <td>-0.014755</td>\n",
       "    </tr>\n",
       "    <tr>\n",
       "      <th>2021-01-05</th>\n",
       "      <td>0.012364</td>\n",
       "      <td>0.017750</td>\n",
       "      <td>0.018925</td>\n",
       "      <td>0.000965</td>\n",
       "      <td>0.007083</td>\n",
       "    </tr>\n",
       "    <tr>\n",
       "      <th>2021-01-06</th>\n",
       "      <td>-0.033662</td>\n",
       "      <td>0.024972</td>\n",
       "      <td>0.009682</td>\n",
       "      <td>-0.025929</td>\n",
       "      <td>0.005710</td>\n",
       "    </tr>\n",
       "    <tr>\n",
       "      <th>2021-01-07</th>\n",
       "      <td>0.034123</td>\n",
       "      <td>-0.002320</td>\n",
       "      <td>0.021331</td>\n",
       "      <td>0.028457</td>\n",
       "      <td>0.014847</td>\n",
       "    </tr>\n",
       "    <tr>\n",
       "      <th>2021-01-08</th>\n",
       "      <td>0.008631</td>\n",
       "      <td>-0.003566</td>\n",
       "      <td>-0.010347</td>\n",
       "      <td>0.006093</td>\n",
       "      <td>0.005492</td>\n",
       "    </tr>\n",
       "  </tbody>\n",
       "</table>\n",
       "</div>"
      ],
      "text/plain": [
       "                AAPL       IBM      INTC      MSFT      GSPC\n",
       "Date                                                        \n",
       "2021-01-04 -0.024719 -0.015411 -0.003011 -0.021266 -0.014755\n",
       "2021-01-05  0.012364  0.017750  0.018925  0.000965  0.007083\n",
       "2021-01-06 -0.033662  0.024972  0.009682 -0.025929  0.005710\n",
       "2021-01-07  0.034123 -0.002320  0.021331  0.028457  0.014847\n",
       "2021-01-08  0.008631 -0.003566 -0.010347  0.006093  0.005492"
      ]
     },
     "execution_count": 82,
     "metadata": {},
     "output_type": "execute_result"
    }
   ],
   "source": [
    "returns = stock_prices.pct_change()\n",
    "returns.dropna(inplace=True)\n",
    "returns.head()"
   ]
  },
  {
   "cell_type": "markdown",
   "metadata": {},
   "source": [
    "Let us now convert the 3-month risk-free rate into daily rate. It choose the easy way, which is simply dividing it by number of days in 3 months (90)."
   ]
  },
  {
   "cell_type": "code",
   "execution_count": 83,
   "metadata": {},
   "outputs": [],
   "source": [
    "risk_free = fred.get_series('DGS3MO')\n",
    "risk_free = risk_free['2021-01-01':'2021-04-01']\n",
    "risk_free = risk_free / 90"
   ]
  },
  {
   "cell_type": "code",
   "execution_count": 84,
   "metadata": {},
   "outputs": [],
   "source": [
    "risk_free = risk_free.dropna().iloc[:-1]"
   ]
  },
  {
   "cell_type": "code",
   "execution_count": 85,
   "metadata": {},
   "outputs": [
    {
     "data": {
      "image/png": "[encoded data removed]",
      "text/plain": [
       "<Figure size 432x288 with 1 Axes>"
      ]
     },
     "metadata": {
      "needs_background": "light"
     },
     "output_type": "display_data"
    }
   ],
   "source": [
    "plt.plot(risk_free)\n",
    "plt.xlabel('Date')\n",
    "plt.ylabel('%')\n",
    "plt.title('3-Month Treasury Constant Maturity Rate')\n",
    "plt.xticks(rotation=90)\n",
    "plt.show()"
   ]
  },
  {
   "cell_type": "markdown",
   "metadata": {},
   "source": [
    "To calculate the excess return, we need to subtract risk free rate from the stock returns. We calculate and stor all excess return in data frame named `returns`."
   ]
  },
  {
   "cell_type": "code",
   "execution_count": 86,
   "metadata": {},
   "outputs": [
    {
     "data": {
      "text/html": [
       "<div>\n",
       "<style scoped>\n",
       "    .dataframe tbody tr th:only-of-type {\n",
       "        vertical-align: middle;\n",
       "    }\n",
       "\n",
       "    .dataframe tbody tr th {\n",
       "        vertical-align: top;\n",
       "    }\n",
       "\n",
       "    .dataframe thead th {\n",
       "        text-align: right;\n",
       "    }\n",
       "</style>\n",
       "<table border=\"1\" class=\"dataframe\">\n",
       "  <thead>\n",
       "    <tr style=\"text-align: right;\">\n",
       "      <th></th>\n",
       "      <th>AAPL</th>\n",
       "      <th>IBM</th>\n",
       "      <th>INTC</th>\n",
       "      <th>MSFT</th>\n",
       "      <th>GSPC</th>\n",
       "    </tr>\n",
       "    <tr>\n",
       "      <th>Date</th>\n",
       "      <th></th>\n",
       "      <th></th>\n",
       "      <th></th>\n",
       "      <th></th>\n",
       "      <th></th>\n",
       "    </tr>\n",
       "  </thead>\n",
       "  <tbody>\n",
       "    <tr>\n",
       "      <th>2021-01-04</th>\n",
       "      <td>-0.024719</td>\n",
       "      <td>-0.015411</td>\n",
       "      <td>-0.003011</td>\n",
       "      <td>-0.021266</td>\n",
       "      <td>-0.014755</td>\n",
       "    </tr>\n",
       "    <tr>\n",
       "      <th>2021-01-05</th>\n",
       "      <td>0.012364</td>\n",
       "      <td>0.017750</td>\n",
       "      <td>0.018925</td>\n",
       "      <td>0.000965</td>\n",
       "      <td>0.007083</td>\n",
       "    </tr>\n",
       "    <tr>\n",
       "      <th>2021-01-06</th>\n",
       "      <td>-0.033662</td>\n",
       "      <td>0.024972</td>\n",
       "      <td>0.009682</td>\n",
       "      <td>-0.025929</td>\n",
       "      <td>0.005710</td>\n",
       "    </tr>\n",
       "    <tr>\n",
       "      <th>2021-01-07</th>\n",
       "      <td>0.034123</td>\n",
       "      <td>-0.002320</td>\n",
       "      <td>0.021331</td>\n",
       "      <td>0.028457</td>\n",
       "      <td>0.014847</td>\n",
       "    </tr>\n",
       "    <tr>\n",
       "      <th>2021-01-08</th>\n",
       "      <td>0.008631</td>\n",
       "      <td>-0.003566</td>\n",
       "      <td>-0.010347</td>\n",
       "      <td>0.006093</td>\n",
       "      <td>0.005492</td>\n",
       "    </tr>\n",
       "    <tr>\n",
       "      <th>...</th>\n",
       "      <td>...</td>\n",
       "      <td>...</td>\n",
       "      <td>...</td>\n",
       "      <td>...</td>\n",
       "      <td>...</td>\n",
       "    </tr>\n",
       "    <tr>\n",
       "      <th>2021-03-25</th>\n",
       "      <td>0.004164</td>\n",
       "      <td>0.018757</td>\n",
       "      <td>-0.000322</td>\n",
       "      <td>-0.013251</td>\n",
       "      <td>0.005240</td>\n",
       "    </tr>\n",
       "    <tr>\n",
       "      <th>2021-03-26</th>\n",
       "      <td>0.005141</td>\n",
       "      <td>0.024874</td>\n",
       "      <td>0.045953</td>\n",
       "      <td>0.017819</td>\n",
       "      <td>0.016631</td>\n",
       "    </tr>\n",
       "    <tr>\n",
       "      <th>2021-03-29</th>\n",
       "      <td>0.001485</td>\n",
       "      <td>-0.003813</td>\n",
       "      <td>-0.005704</td>\n",
       "      <td>-0.005244</td>\n",
       "      <td>-0.000868</td>\n",
       "    </tr>\n",
       "    <tr>\n",
       "      <th>2021-03-30</th>\n",
       "      <td>-0.012274</td>\n",
       "      <td>-0.008391</td>\n",
       "      <td>-0.011318</td>\n",
       "      <td>-0.014411</td>\n",
       "      <td>-0.003158</td>\n",
       "    </tr>\n",
       "    <tr>\n",
       "      <th>2021-03-31</th>\n",
       "      <td>0.018766</td>\n",
       "      <td>-0.010837</td>\n",
       "      <td>0.003607</td>\n",
       "      <td>0.016907</td>\n",
       "      <td>0.003622</td>\n",
       "    </tr>\n",
       "  </tbody>\n",
       "</table>\n",
       "<p>61 rows × 5 columns</p>\n",
       "</div>"
      ],
      "text/plain": [
       "                AAPL       IBM      INTC      MSFT      GSPC\n",
       "Date                                                        \n",
       "2021-01-04 -0.024719 -0.015411 -0.003011 -0.021266 -0.014755\n",
       "2021-01-05  0.012364  0.017750  0.018925  0.000965  0.007083\n",
       "2021-01-06 -0.033662  0.024972  0.009682 -0.025929  0.005710\n",
       "2021-01-07  0.034123 -0.002320  0.021331  0.028457  0.014847\n",
       "2021-01-08  0.008631 -0.003566 -0.010347  0.006093  0.005492\n",
       "...              ...       ...       ...       ...       ...\n",
       "2021-03-25  0.004164  0.018757 -0.000322 -0.013251  0.005240\n",
       "2021-03-26  0.005141  0.024874  0.045953  0.017819  0.016631\n",
       "2021-03-29  0.001485 -0.003813 -0.005704 -0.005244 -0.000868\n",
       "2021-03-30 -0.012274 -0.008391 -0.011318 -0.014411 -0.003158\n",
       "2021-03-31  0.018766 -0.010837  0.003607  0.016907  0.003622\n",
       "\n",
       "[61 rows x 5 columns]"
      ]
     },
     "execution_count": 86,
     "metadata": {},
     "output_type": "execute_result"
    }
   ],
   "source": [
    "returns"
   ]
  },
  {
   "cell_type": "code",
   "execution_count": 87,
   "metadata": {},
   "outputs": [],
   "source": [
    "stocks = [\"AAPL\", \"IBM\", \"MSFT\", \"INTC\", \"GSPC\"]\n",
    "for i in stocks:\n",
    "    returns[f\"excess_return_{i}\"] = returns[i] - risk_free"
   ]
  },
  {
   "cell_type": "code",
   "execution_count": 88,
   "metadata": {},
   "outputs": [
    {
     "data": {
      "text/html": [
       "<div>\n",
       "<style scoped>\n",
       "    .dataframe tbody tr th:only-of-type {\n",
       "        vertical-align: middle;\n",
       "    }\n",
       "\n",
       "    .dataframe tbody tr th {\n",
       "        vertical-align: top;\n",
       "    }\n",
       "\n",
       "    .dataframe thead th {\n",
       "        text-align: right;\n",
       "    }\n",
       "</style>\n",
       "<table border=\"1\" class=\"dataframe\">\n",
       "  <thead>\n",
       "    <tr style=\"text-align: right;\">\n",
       "      <th></th>\n",
       "      <th>AAPL</th>\n",
       "      <th>IBM</th>\n",
       "      <th>INTC</th>\n",
       "      <th>MSFT</th>\n",
       "      <th>GSPC</th>\n",
       "      <th>excess_return_AAPL</th>\n",
       "      <th>excess_return_IBM</th>\n",
       "      <th>excess_return_MSFT</th>\n",
       "      <th>excess_return_INTC</th>\n",
       "      <th>excess_return_GSPC</th>\n",
       "    </tr>\n",
       "    <tr>\n",
       "      <th>Date</th>\n",
       "      <th></th>\n",
       "      <th></th>\n",
       "      <th></th>\n",
       "      <th></th>\n",
       "      <th></th>\n",
       "      <th></th>\n",
       "      <th></th>\n",
       "      <th></th>\n",
       "      <th></th>\n",
       "      <th></th>\n",
       "    </tr>\n",
       "  </thead>\n",
       "  <tbody>\n",
       "    <tr>\n",
       "      <th>2021-01-04</th>\n",
       "      <td>-0.024719</td>\n",
       "      <td>-0.015411</td>\n",
       "      <td>-0.003011</td>\n",
       "      <td>-0.021266</td>\n",
       "      <td>-0.014755</td>\n",
       "      <td>-0.025719</td>\n",
       "      <td>-0.016411</td>\n",
       "      <td>-0.022266</td>\n",
       "      <td>-0.004011</td>\n",
       "      <td>-0.015755</td>\n",
       "    </tr>\n",
       "    <tr>\n",
       "      <th>2021-01-05</th>\n",
       "      <td>0.012364</td>\n",
       "      <td>0.017750</td>\n",
       "      <td>0.018925</td>\n",
       "      <td>0.000965</td>\n",
       "      <td>0.007083</td>\n",
       "      <td>0.011364</td>\n",
       "      <td>0.016750</td>\n",
       "      <td>-0.000035</td>\n",
       "      <td>0.017925</td>\n",
       "      <td>0.006083</td>\n",
       "    </tr>\n",
       "    <tr>\n",
       "      <th>2021-01-06</th>\n",
       "      <td>-0.033662</td>\n",
       "      <td>0.024972</td>\n",
       "      <td>0.009682</td>\n",
       "      <td>-0.025929</td>\n",
       "      <td>0.005710</td>\n",
       "      <td>-0.034662</td>\n",
       "      <td>0.023972</td>\n",
       "      <td>-0.026929</td>\n",
       "      <td>0.008682</td>\n",
       "      <td>0.004710</td>\n",
       "    </tr>\n",
       "    <tr>\n",
       "      <th>2021-01-07</th>\n",
       "      <td>0.034123</td>\n",
       "      <td>-0.002320</td>\n",
       "      <td>0.021331</td>\n",
       "      <td>0.028457</td>\n",
       "      <td>0.014847</td>\n",
       "      <td>0.033123</td>\n",
       "      <td>-0.003320</td>\n",
       "      <td>0.027457</td>\n",
       "      <td>0.020331</td>\n",
       "      <td>0.013847</td>\n",
       "    </tr>\n",
       "    <tr>\n",
       "      <th>2021-01-08</th>\n",
       "      <td>0.008631</td>\n",
       "      <td>-0.003566</td>\n",
       "      <td>-0.010347</td>\n",
       "      <td>0.006093</td>\n",
       "      <td>0.005492</td>\n",
       "      <td>0.007742</td>\n",
       "      <td>-0.004455</td>\n",
       "      <td>0.005204</td>\n",
       "      <td>-0.011236</td>\n",
       "      <td>0.004603</td>\n",
       "    </tr>\n",
       "  </tbody>\n",
       "</table>\n",
       "</div>"
      ],
      "text/plain": [
       "                AAPL       IBM      INTC      MSFT      GSPC  \\\n",
       "Date                                                           \n",
       "2021-01-04 -0.024719 -0.015411 -0.003011 -0.021266 -0.014755   \n",
       "2021-01-05  0.012364  0.017750  0.018925  0.000965  0.007083   \n",
       "2021-01-06 -0.033662  0.024972  0.009682 -0.025929  0.005710   \n",
       "2021-01-07  0.034123 -0.002320  0.021331  0.028457  0.014847   \n",
       "2021-01-08  0.008631 -0.003566 -0.010347  0.006093  0.005492   \n",
       "\n",
       "            excess_return_AAPL  excess_return_IBM  excess_return_MSFT  \\\n",
       "Date                                                                    \n",
       "2021-01-04           -0.025719          -0.016411           -0.022266   \n",
       "2021-01-05            0.011364           0.016750           -0.000035   \n",
       "2021-01-06           -0.034662           0.023972           -0.026929   \n",
       "2021-01-07            0.033123          -0.003320            0.027457   \n",
       "2021-01-08            0.007742          -0.004455            0.005204   \n",
       "\n",
       "            excess_return_INTC  excess_return_GSPC  \n",
       "Date                                                \n",
       "2021-01-04           -0.004011           -0.015755  \n",
       "2021-01-05            0.017925            0.006083  \n",
       "2021-01-06            0.008682            0.004710  \n",
       "2021-01-07            0.020331            0.013847  \n",
       "2021-01-08           -0.011236            0.004603  "
      ]
     },
     "execution_count": 88,
     "metadata": {},
     "output_type": "execute_result"
    }
   ],
   "source": [
    "returns.head()"
   ]
  },
  {
   "cell_type": "markdown",
   "metadata": {},
   "source": [
    "## Running CAPM"
   ]
  },
  {
   "cell_type": "markdown",
   "metadata": {},
   "source": [
    "We are ready to run the CAPM analysis after all these preparation process."
   ]
  },
  {
   "cell_type": "code",
   "execution_count": 89,
   "metadata": {},
   "outputs": [],
   "source": [
    "import statsmodels.api as sm"
   ]
  },
  {
   "cell_type": "code",
   "execution_count": 90,
   "metadata": {},
   "outputs": [],
   "source": [
    "y_aapl = returns['excess_return_AAPL']\n",
    "X = returns['excess_return_GSPC']"
   ]
  },
  {
   "cell_type": "code",
   "execution_count": 91,
   "metadata": {},
   "outputs": [],
   "source": [
    "X = sm.add_constant(X, prepend=False)\n",
    "CAPM_AAPL = sm.OLS(y_aapl, X)\n",
    "CAPM_results_AAPL = CAPM_AAPL.fit()"
   ]
  },
  {
   "cell_type": "code",
   "execution_count": 92,
   "metadata": {},
   "outputs": [
    {
     "data": {
      "text/html": [
       "<table class=\"simpletable\">\n",
       "<caption>OLS Regression Results</caption>\n",
       "<tr>\n",
       "  <th>Dep. Variable:</th>    <td>excess_return_AAPL</td> <th>  R-squared:         </th> <td>   0.442</td>\n",
       "</tr>\n",
       "<tr>\n",
       "  <th>Model:</th>                    <td>OLS</td>        <th>  Adj. R-squared:    </th> <td>   0.432</td>\n",
       "</tr>\n",
       "<tr>\n",
       "  <th>Method:</th>              <td>Least Squares</td>   <th>  F-statistic:       </th> <td>   46.73</td>\n",
       "</tr>\n",
       "<tr>\n",
       "  <th>Date:</th>              <td>Thu, 16 Sep 2021</td>  <th>  Prob (F-statistic):</th> <td>5.13e-09</td>\n",
       "</tr>\n",
       "<tr>\n",
       "  <th>Time:</th>                  <td>23:06:12</td>      <th>  Log-Likelihood:    </th> <td>  167.80</td>\n",
       "</tr>\n",
       "<tr>\n",
       "  <th>No. Observations:</th>       <td>    61</td>       <th>  AIC:               </th> <td>  -331.6</td>\n",
       "</tr>\n",
       "<tr>\n",
       "  <th>Df Residuals:</th>           <td>    59</td>       <th>  BIC:               </th> <td>  -327.4</td>\n",
       "</tr>\n",
       "<tr>\n",
       "  <th>Df Model:</th>               <td>     1</td>       <th>                     </th>     <td> </td>   \n",
       "</tr>\n",
       "<tr>\n",
       "  <th>Covariance Type:</th>       <td>nonrobust</td>     <th>                     </th>     <td> </td>   \n",
       "</tr>\n",
       "</table>\n",
       "<table class=\"simpletable\">\n",
       "<tr>\n",
       "           <td></td>             <th>coef</th>     <th>std err</th>      <th>t</th>      <th>P>|t|</th>  <th>[0.025</th>    <th>0.975]</th>  \n",
       "</tr>\n",
       "<tr>\n",
       "  <th>excess_return_GSPC</th> <td>    1.3891</td> <td>    0.203</td> <td>    6.836</td> <td> 0.000</td> <td>    0.982</td> <td>    1.796</td>\n",
       "</tr>\n",
       "<tr>\n",
       "  <th>const</th>              <td>   -0.0023</td> <td>    0.002</td> <td>   -1.126</td> <td> 0.265</td> <td>   -0.006</td> <td>    0.002</td>\n",
       "</tr>\n",
       "</table>\n",
       "<table class=\"simpletable\">\n",
       "<tr>\n",
       "  <th>Omnibus:</th>       <td> 2.777</td> <th>  Durbin-Watson:     </th> <td>   2.000</td>\n",
       "</tr>\n",
       "<tr>\n",
       "  <th>Prob(Omnibus):</th> <td> 0.249</td> <th>  Jarque-Bera (JB):  </th> <td>   2.142</td>\n",
       "</tr>\n",
       "<tr>\n",
       "  <th>Skew:</th>          <td>-0.174</td> <th>  Prob(JB):          </th> <td>   0.343</td>\n",
       "</tr>\n",
       "<tr>\n",
       "  <th>Kurtosis:</th>      <td> 3.849</td> <th>  Cond. No.          </th> <td>    101.</td>\n",
       "</tr>\n",
       "</table><br/><br/>Notes:<br/>[1] Standard Errors assume that the covariance matrix of the errors is correctly specified."
      ],
      "text/plain": [
       "<class 'statsmodels.iolib.summary.Summary'>\n",
       "\"\"\"\n",
       "                            OLS Regression Results                            \n",
       "==============================================================================\n",
       "Dep. Variable:     excess_return_AAPL   R-squared:                       0.442\n",
       "Model:                            OLS   Adj. R-squared:                  0.432\n",
       "Method:                 Least Squares   F-statistic:                     46.73\n",
       "Date:                Thu, 16 Sep 2021   Prob (F-statistic):           5.13e-09\n",
       "Time:                        23:06:12   Log-Likelihood:                 167.80\n",
       "No. Observations:                  61   AIC:                            -331.6\n",
       "Df Residuals:                      59   BIC:                            -327.4\n",
       "Df Model:                           1                                         \n",
       "Covariance Type:            nonrobust                                         \n",
       "======================================================================================\n",
       "                         coef    std err          t      P>|t|      [0.025      0.975]\n",
       "--------------------------------------------------------------------------------------\n",
       "excess_return_GSPC     1.3891      0.203      6.836      0.000       0.982       1.796\n",
       "const                 -0.0023      0.002     -1.126      0.265      -0.006       0.002\n",
       "==============================================================================\n",
       "Omnibus:                        2.777   Durbin-Watson:                   2.000\n",
       "Prob(Omnibus):                  0.249   Jarque-Bera (JB):                2.142\n",
       "Skew:                          -0.174   Prob(JB):                        0.343\n",
       "Kurtosis:                       3.849   Cond. No.                         101.\n",
       "==============================================================================\n",
       "\n",
       "Notes:\n",
       "[1] Standard Errors assume that the covariance matrix of the errors is correctly specified.\n",
       "\"\"\""
      ]
     },
     "execution_count": 92,
     "metadata": {},
     "output_type": "execute_result"
    }
   ],
   "source": [
    "CAPM_results_AAPL.summary()"
   ]
  },
  {
   "cell_type": "code",
   "execution_count": 93,
   "metadata": {},
   "outputs": [],
   "source": [
    "y_IBM = returns['excess_return_IBM']"
   ]
  },
  {
   "cell_type": "code",
   "execution_count": 94,
   "metadata": {},
   "outputs": [],
   "source": [
    "X = sm.add_constant(X, prepend=False)\n",
    "CAPM_IBM = sm.OLS(y_IBM, X)\n",
    "CAPM_results_IBM = CAPM_IBM.fit()"
   ]
  },
  {
   "cell_type": "code",
   "execution_count": 95,
   "metadata": {},
   "outputs": [
    {
     "data": {
      "text/html": [
       "<table class=\"simpletable\">\n",
       "<caption>OLS Regression Results</caption>\n",
       "<tr>\n",
       "  <th>Dep. Variable:</th>    <td>excess_return_IBM</td> <th>  R-squared:         </th> <td>   0.066</td>\n",
       "</tr>\n",
       "<tr>\n",
       "  <th>Model:</th>                   <td>OLS</td>        <th>  Adj. R-squared:    </th> <td>   0.050</td>\n",
       "</tr>\n",
       "<tr>\n",
       "  <th>Method:</th>             <td>Least Squares</td>   <th>  F-statistic:       </th> <td>   4.187</td>\n",
       "</tr>\n",
       "<tr>\n",
       "  <th>Date:</th>             <td>Thu, 16 Sep 2021</td>  <th>  Prob (F-statistic):</th>  <td>0.0452</td> \n",
       "</tr>\n",
       "<tr>\n",
       "  <th>Time:</th>                 <td>23:06:13</td>      <th>  Log-Likelihood:    </th> <td>  159.59</td>\n",
       "</tr>\n",
       "<tr>\n",
       "  <th>No. Observations:</th>      <td>    61</td>       <th>  AIC:               </th> <td>  -315.2</td>\n",
       "</tr>\n",
       "<tr>\n",
       "  <th>Df Residuals:</th>          <td>    59</td>       <th>  BIC:               </th> <td>  -311.0</td>\n",
       "</tr>\n",
       "<tr>\n",
       "  <th>Df Model:</th>              <td>     1</td>       <th>                     </th>     <td> </td>   \n",
       "</tr>\n",
       "<tr>\n",
       "  <th>Covariance Type:</th>      <td>nonrobust</td>     <th>                     </th>     <td> </td>   \n",
       "</tr>\n",
       "</table>\n",
       "<table class=\"simpletable\">\n",
       "<tr>\n",
       "           <td></td>             <th>coef</th>     <th>std err</th>      <th>t</th>      <th>P>|t|</th>  <th>[0.025</th>    <th>0.975]</th>  \n",
       "</tr>\n",
       "<tr>\n",
       "  <th>excess_return_GSPC</th> <td>    0.4757</td> <td>    0.232</td> <td>    2.046</td> <td> 0.045</td> <td>    0.010</td> <td>    0.941</td>\n",
       "</tr>\n",
       "<tr>\n",
       "  <th>const</th>              <td>    0.0003</td> <td>    0.002</td> <td>    0.151</td> <td> 0.881</td> <td>   -0.004</td> <td>    0.005</td>\n",
       "</tr>\n",
       "</table>\n",
       "<table class=\"simpletable\">\n",
       "<tr>\n",
       "  <th>Omnibus:</th>       <td>62.009</td> <th>  Durbin-Watson:     </th> <td>   2.274</td> \n",
       "</tr>\n",
       "<tr>\n",
       "  <th>Prob(Omnibus):</th> <td> 0.000</td> <th>  Jarque-Bera (JB):  </th> <td> 531.745</td> \n",
       "</tr>\n",
       "<tr>\n",
       "  <th>Skew:</th>          <td>-2.671</td> <th>  Prob(JB):          </th> <td>3.41e-116</td>\n",
       "</tr>\n",
       "<tr>\n",
       "  <th>Kurtosis:</th>      <td>16.442</td> <th>  Cond. No.          </th> <td>    101.</td> \n",
       "</tr>\n",
       "</table><br/><br/>Notes:<br/>[1] Standard Errors assume that the covariance matrix of the errors is correctly specified."
      ],
      "text/plain": [
       "<class 'statsmodels.iolib.summary.Summary'>\n",
       "\"\"\"\n",
       "                            OLS Regression Results                            \n",
       "==============================================================================\n",
       "Dep. Variable:      excess_return_IBM   R-squared:                       0.066\n",
       "Model:                            OLS   Adj. R-squared:                  0.050\n",
       "Method:                 Least Squares   F-statistic:                     4.187\n",
       "Date:                Thu, 16 Sep 2021   Prob (F-statistic):             0.0452\n",
       "Time:                        23:06:13   Log-Likelihood:                 159.59\n",
       "No. Observations:                  61   AIC:                            -315.2\n",
       "Df Residuals:                      59   BIC:                            -311.0\n",
       "Df Model:                           1                                         \n",
       "Covariance Type:            nonrobust                                         \n",
       "======================================================================================\n",
       "                         coef    std err          t      P>|t|      [0.025      0.975]\n",
       "--------------------------------------------------------------------------------------\n",
       "excess_return_GSPC     0.4757      0.232      2.046      0.045       0.010       0.941\n",
       "const                  0.0003      0.002      0.151      0.881      -0.004       0.005\n",
       "==============================================================================\n",
       "Omnibus:                       62.009   Durbin-Watson:                   2.274\n",
       "Prob(Omnibus):                  0.000   Jarque-Bera (JB):              531.745\n",
       "Skew:                          -2.671   Prob(JB):                    3.41e-116\n",
       "Kurtosis:                      16.442   Cond. No.                         101.\n",
       "==============================================================================\n",
       "\n",
       "Notes:\n",
       "[1] Standard Errors assume that the covariance matrix of the errors is correctly specified.\n",
       "\"\"\""
      ]
     },
     "execution_count": 95,
     "metadata": {},
     "output_type": "execute_result"
    }
   ],
   "source": [
    "CAPM_results_IBM.summary()"
   ]
  },
  {
   "cell_type": "code",
   "execution_count": 96,
   "metadata": {},
   "outputs": [],
   "source": [
    "y_MSFT = returns['excess_return_MSFT']"
   ]
  },
  {
   "cell_type": "code",
   "execution_count": 97,
   "metadata": {},
   "outputs": [],
   "source": [
    "X = sm.add_constant(X, prepend=False)\n",
    "CAPM_MSFT = sm.OLS(y_MSFT, X)\n",
    "CAPM_results_MSFT = CAPM_MSFT.fit()"
   ]
  },
  {
   "cell_type": "code",
   "execution_count": 98,
   "metadata": {},
   "outputs": [
    {
     "data": {
      "text/html": [
       "<table class=\"simpletable\">\n",
       "<caption>OLS Regression Results</caption>\n",
       "<tr>\n",
       "  <th>Dep. Variable:</th>    <td>excess_return_MSFT</td> <th>  R-squared:         </th> <td>   0.445</td>\n",
       "</tr>\n",
       "<tr>\n",
       "  <th>Model:</th>                    <td>OLS</td>        <th>  Adj. R-squared:    </th> <td>   0.435</td>\n",
       "</tr>\n",
       "<tr>\n",
       "  <th>Method:</th>              <td>Least Squares</td>   <th>  F-statistic:       </th> <td>   47.26</td>\n",
       "</tr>\n",
       "<tr>\n",
       "  <th>Date:</th>              <td>Thu, 16 Sep 2021</td>  <th>  Prob (F-statistic):</th> <td>4.41e-09</td>\n",
       "</tr>\n",
       "<tr>\n",
       "  <th>Time:</th>                  <td>23:06:13</td>      <th>  Log-Likelihood:    </th> <td>  184.67</td>\n",
       "</tr>\n",
       "<tr>\n",
       "  <th>No. Observations:</th>       <td>    61</td>       <th>  AIC:               </th> <td>  -365.3</td>\n",
       "</tr>\n",
       "<tr>\n",
       "  <th>Df Residuals:</th>           <td>    59</td>       <th>  BIC:               </th> <td>  -361.1</td>\n",
       "</tr>\n",
       "<tr>\n",
       "  <th>Df Model:</th>               <td>     1</td>       <th>                     </th>     <td> </td>   \n",
       "</tr>\n",
       "<tr>\n",
       "  <th>Covariance Type:</th>       <td>nonrobust</td>     <th>                     </th>     <td> </td>   \n",
       "</tr>\n",
       "</table>\n",
       "<table class=\"simpletable\">\n",
       "<tr>\n",
       "           <td></td>             <th>coef</th>     <th>std err</th>      <th>t</th>      <th>P>|t|</th>  <th>[0.025</th>    <th>0.975]</th>  \n",
       "</tr>\n",
       "<tr>\n",
       "  <th>excess_return_GSPC</th> <td>    1.0595</td> <td>    0.154</td> <td>    6.875</td> <td> 0.000</td> <td>    0.751</td> <td>    1.368</td>\n",
       "</tr>\n",
       "<tr>\n",
       "  <th>const</th>              <td> 8.649e-05</td> <td>    0.002</td> <td>    0.057</td> <td> 0.955</td> <td>   -0.003</td> <td>    0.003</td>\n",
       "</tr>\n",
       "</table>\n",
       "<table class=\"simpletable\">\n",
       "<tr>\n",
       "  <th>Omnibus:</th>       <td> 0.098</td> <th>  Durbin-Watson:     </th> <td>   1.988</td>\n",
       "</tr>\n",
       "<tr>\n",
       "  <th>Prob(Omnibus):</th> <td> 0.952</td> <th>  Jarque-Bera (JB):  </th> <td>   0.160</td>\n",
       "</tr>\n",
       "<tr>\n",
       "  <th>Skew:</th>          <td> 0.088</td> <th>  Prob(JB):          </th> <td>   0.923</td>\n",
       "</tr>\n",
       "<tr>\n",
       "  <th>Kurtosis:</th>      <td> 2.823</td> <th>  Cond. No.          </th> <td>    101.</td>\n",
       "</tr>\n",
       "</table><br/><br/>Notes:<br/>[1] Standard Errors assume that the covariance matrix of the errors is correctly specified."
      ],
      "text/plain": [
       "<class 'statsmodels.iolib.summary.Summary'>\n",
       "\"\"\"\n",
       "                            OLS Regression Results                            \n",
       "==============================================================================\n",
       "Dep. Variable:     excess_return_MSFT   R-squared:                       0.445\n",
       "Model:                            OLS   Adj. R-squared:                  0.435\n",
       "Method:                 Least Squares   F-statistic:                     47.26\n",
       "Date:                Thu, 16 Sep 2021   Prob (F-statistic):           4.41e-09\n",
       "Time:                        23:06:13   Log-Likelihood:                 184.67\n",
       "No. Observations:                  61   AIC:                            -365.3\n",
       "Df Residuals:                      59   BIC:                            -361.1\n",
       "Df Model:                           1                                         \n",
       "Covariance Type:            nonrobust                                         \n",
       "======================================================================================\n",
       "                         coef    std err          t      P>|t|      [0.025      0.975]\n",
       "--------------------------------------------------------------------------------------\n",
       "excess_return_GSPC     1.0595      0.154      6.875      0.000       0.751       1.368\n",
       "const               8.649e-05      0.002      0.057      0.955      -0.003       0.003\n",
       "==============================================================================\n",
       "Omnibus:                        0.098   Durbin-Watson:                   1.988\n",
       "Prob(Omnibus):                  0.952   Jarque-Bera (JB):                0.160\n",
       "Skew:                           0.088   Prob(JB):                        0.923\n",
       "Kurtosis:                       2.823   Cond. No.                         101.\n",
       "==============================================================================\n",
       "\n",
       "Notes:\n",
       "[1] Standard Errors assume that the covariance matrix of the errors is correctly specified.\n",
       "\"\"\""
      ]
     },
     "execution_count": 98,
     "metadata": {},
     "output_type": "execute_result"
    }
   ],
   "source": [
    "CAPM_results_MSFT.summary()"
   ]
  },
  {
   "cell_type": "code",
   "execution_count": 99,
   "metadata": {},
   "outputs": [],
   "source": [
    "y_INTC = returns['excess_return_INTC']"
   ]
  },
  {
   "cell_type": "code",
   "execution_count": 100,
   "metadata": {},
   "outputs": [],
   "source": [
    "X = sm.add_constant(X, prepend=False)\n",
    "CAPM_INTC= sm.OLS(y_INTC, X)\n",
    "CAPM_results_INTC = CAPM_INTC.fit()"
   ]
  },
  {
   "cell_type": "code",
   "execution_count": 101,
   "metadata": {},
   "outputs": [
    {
     "data": {
      "text/html": [
       "<table class=\"simpletable\">\n",
       "<caption>OLS Regression Results</caption>\n",
       "<tr>\n",
       "  <th>Dep. Variable:</th>    <td>excess_return_INTC</td> <th>  R-squared:         </th> <td>   0.382</td>\n",
       "</tr>\n",
       "<tr>\n",
       "  <th>Model:</th>                    <td>OLS</td>        <th>  Adj. R-squared:    </th> <td>   0.371</td>\n",
       "</tr>\n",
       "<tr>\n",
       "  <th>Method:</th>              <td>Least Squares</td>   <th>  F-statistic:       </th> <td>   36.41</td>\n",
       "</tr>\n",
       "<tr>\n",
       "  <th>Date:</th>              <td>Thu, 16 Sep 2021</td>  <th>  Prob (F-statistic):</th> <td>1.14e-07</td>\n",
       "</tr>\n",
       "<tr>\n",
       "  <th>Time:</th>                  <td>23:06:14</td>      <th>  Log-Likelihood:    </th> <td>  146.81</td>\n",
       "</tr>\n",
       "<tr>\n",
       "  <th>No. Observations:</th>       <td>    61</td>       <th>  AIC:               </th> <td>  -289.6</td>\n",
       "</tr>\n",
       "<tr>\n",
       "  <th>Df Residuals:</th>           <td>    59</td>       <th>  BIC:               </th> <td>  -285.4</td>\n",
       "</tr>\n",
       "<tr>\n",
       "  <th>Df Model:</th>               <td>     1</td>       <th>                     </th>     <td> </td>   \n",
       "</tr>\n",
       "<tr>\n",
       "  <th>Covariance Type:</th>       <td>nonrobust</td>     <th>                     </th>     <td> </td>   \n",
       "</tr>\n",
       "</table>\n",
       "<table class=\"simpletable\">\n",
       "<tr>\n",
       "           <td></td>             <th>coef</th>     <th>std err</th>      <th>t</th>      <th>P>|t|</th>  <th>[0.025</th>    <th>0.975]</th>  \n",
       "</tr>\n",
       "<tr>\n",
       "  <th>excess_return_GSPC</th> <td>    1.7298</td> <td>    0.287</td> <td>    6.034</td> <td> 0.000</td> <td>    1.156</td> <td>    2.304</td>\n",
       "</tr>\n",
       "<tr>\n",
       "  <th>const</th>              <td>    0.0032</td> <td>    0.003</td> <td>    1.140</td> <td> 0.259</td> <td>   -0.002</td> <td>    0.009</td>\n",
       "</tr>\n",
       "</table>\n",
       "<table class=\"simpletable\">\n",
       "<tr>\n",
       "  <th>Omnibus:</th>       <td>14.511</td> <th>  Durbin-Watson:     </th> <td>   1.934</td>\n",
       "</tr>\n",
       "<tr>\n",
       "  <th>Prob(Omnibus):</th> <td> 0.001</td> <th>  Jarque-Bera (JB):  </th> <td>  56.109</td>\n",
       "</tr>\n",
       "<tr>\n",
       "  <th>Skew:</th>          <td>-0.257</td> <th>  Prob(JB):          </th> <td>6.55e-13</td>\n",
       "</tr>\n",
       "<tr>\n",
       "  <th>Kurtosis:</th>      <td> 7.670</td> <th>  Cond. No.          </th> <td>    101.</td>\n",
       "</tr>\n",
       "</table><br/><br/>Notes:<br/>[1] Standard Errors assume that the covariance matrix of the errors is correctly specified."
      ],
      "text/plain": [
       "<class 'statsmodels.iolib.summary.Summary'>\n",
       "\"\"\"\n",
       "                            OLS Regression Results                            \n",
       "==============================================================================\n",
       "Dep. Variable:     excess_return_INTC   R-squared:                       0.382\n",
       "Model:                            OLS   Adj. R-squared:                  0.371\n",
       "Method:                 Least Squares   F-statistic:                     36.41\n",
       "Date:                Thu, 16 Sep 2021   Prob (F-statistic):           1.14e-07\n",
       "Time:                        23:06:14   Log-Likelihood:                 146.81\n",
       "No. Observations:                  61   AIC:                            -289.6\n",
       "Df Residuals:                      59   BIC:                            -285.4\n",
       "Df Model:                           1                                         \n",
       "Covariance Type:            nonrobust                                         \n",
       "======================================================================================\n",
       "                         coef    std err          t      P>|t|      [0.025      0.975]\n",
       "--------------------------------------------------------------------------------------\n",
       "excess_return_GSPC     1.7298      0.287      6.034      0.000       1.156       2.304\n",
       "const                  0.0032      0.003      1.140      0.259      -0.002       0.009\n",
       "==============================================================================\n",
       "Omnibus:                       14.511   Durbin-Watson:                   1.934\n",
       "Prob(Omnibus):                  0.001   Jarque-Bera (JB):               56.109\n",
       "Skew:                          -0.257   Prob(JB):                     6.55e-13\n",
       "Kurtosis:                       7.670   Cond. No.                         101.\n",
       "==============================================================================\n",
       "\n",
       "Notes:\n",
       "[1] Standard Errors assume that the covariance matrix of the errors is correctly specified.\n",
       "\"\"\""
      ]
     },
     "execution_count": 101,
     "metadata": {},
     "output_type": "execute_result"
    }
   ],
   "source": [
    "CAPM_results_INTC.summary()"
   ]
  },
  {
   "cell_type": "markdown",
   "metadata": {},
   "source": [
    "First, we run the CAPM analysis for `Apple` and it turns out that Apple is more volatile than the S&P-500 as we have a beta coefficient of 1.3845. This estimated beta coefficient is statistically significant at 1% level since we have a t-value of 6.847 (or p-value of 0.0000). However, the intercept term is not statistically significant. Therefore, interpretation of the intercept term, which indicates the performance of the technical analysis, does not make sense."
   ]
  },
  {
   "cell_type": "markdown",
   "metadata": {},
   "source": [
    "When it comes to `IBM`, the result is quite similar in terms of slope coefficien $\\beta$ and intercept term. The beta coefficient of 0.4899 implies that there is a correlation between excess market return and excess return of the IBM. More specifically, 1-unit increase in S&P-500 leads to an increase in IBM return by nearly 0.4899. The result also suggests that the IBM is less risky than market index.  Again, the intercept term is not statistically significant at conventional confidence interval."
   ]
  },
  {
   "cell_type": "markdown",
   "metadata": {},
   "source": [
    "`Microsoft` does tell us a similar story with positive and statistically significant beta coefficient and statistically insignificant intercept term. The magnitude of beta coefficient is 1.0577 indicating that 1-unit increase in S&P-500 results in an increase of 1.0577 in Microsoft's return."
   ]
  },
  {
   "cell_type": "markdown",
   "metadata": {},
   "source": [
    "In summary, given the result obtained via CAPM, the most and least risky or volatile stocks are INTEL and IBM, respectively."
   ]
  },
  {
   "cell_type": "markdown",
   "metadata": {},
   "source": [
    "## Compare the Performance"
   ]
  },
  {
   "cell_type": "markdown",
   "metadata": {},
   "source": [
    "CAPM is also a tool for investor to understand whether an asset is fairly priced. To determine that, we need to use $\\beta$ that we obtained from CAPM analysis and compare with the investor estimates. The `Security Market Line`(SML) is able to test whether securities are fairly priced or not."
   ]
  },
  {
   "cell_type": "markdown",
   "metadata": {},
   "source": [
    "More elaborately, SML exhibits the linear relationship between expected asset returns and betas obtained from CAPM. All the correctly priced securities are plotted on the SML. If the assets lie above the SML line, the assets are undervalued due to the higher return for a given amount of risk. Conversely, the assets lie below the SML are overvalued because it return of this stock is lower for a given amount of risk."
   ]
  },
  {
   "cell_type": "code",
   "execution_count": 32,
   "metadata": {},
   "outputs": [],
   "source": [
    "import matplotlib.pyplot as plt"
   ]
  },
  {
   "cell_type": "code",
   "execution_count": 33,
   "metadata": {},
   "outputs": [],
   "source": [
    "#rf:risk_free rate\n",
    "#ret:return\n",
    "#rm: market return\n",
    "def SML(rf,ret,betas):\n",
    "    asset_ret = [rf + (rm - rf) * i for i in betas]\n",
    "    plt.plot(betas,asset_ret)\n",
    "    plt.xlabel(\"Asset Beta\")\n",
    "    plt.ylabel(\"Asset Return\")\n",
    "    plt.title(\"Security Market Line\")\n",
    "    plt.plot(1,ret,\"ro\")"
   ]
  },
  {
   "cell_type": "code",
   "execution_count": 34,
   "metadata": {},
   "outputs": [],
   "source": [
    "ret_cov = returns.iloc[:,:4].cov()\n",
    "\n",
    "rm = returns['GSPC'].mean()\n",
    "risk_free_mean = risk_free.mean()\n",
    "\n",
    "betas = [CAPM_results_AAPL.params[0], CAPM_results_IBM.params[0],\n",
    "       CAPM_results_MSFT.params[0], CAPM_results_INTC.params[0]]"
   ]
  },
  {
   "cell_type": "code",
   "execution_count": 35,
   "metadata": {},
   "outputs": [
    {
     "data": {
      "image/png": "[encoded data removed]",
      "text/plain": [
       "<Figure size 432x288 with 1 Axes>"
      ]
     },
     "metadata": {
      "needs_background": "light"
     },
     "output_type": "display_data"
    }
   ],
   "source": [
    "SML(risk_free_mean, rm, betas)"
   ]
  },
  {
   "cell_type": "markdown",
   "metadata": {},
   "source": [
    "Given the beta, if the stock locates below the SML, this implies that stock has a higher return per unit of risk assumed. Hence, it can be concluded that the stock is overvalued and decide to sell the stock. Conversely, if the stock locates above the SML, stock has a lower return per unit of risk assumed, which is considered to be undervalued and buying a stock would be wise choice. "
   ]
  },
  {
   "cell_type": "markdown",
   "metadata": {},
   "source": [
    "Now suppose that the return expectations for \n",
    "\n",
    "* Apple is 0.1% \n",
    "* IBM is 0.05% \n",
    "* Microsoft is 0.025%\n",
    "* Intel is 0.09%\n"
   ]
  },
  {
   "cell_type": "code",
   "execution_count": 36,
   "metadata": {},
   "outputs": [],
   "source": [
    "ret_exp = [0.0010, 0.005, 0.0025, 0.0009]\n",
    "df_ret_exp = pd.DataFrame(ret_exp)\n",
    "df_betas = pd.DataFrame(betas)\n",
    "df_all = pd.concat([df_betas, df_ret_exp],axis=1)\n",
    "df_all.columns = ['betas', 'ret_exp']\n",
    "df_all.index = returns.columns[:4]"
   ]
  },
  {
   "cell_type": "code",
   "execution_count": 37,
   "metadata": {},
   "outputs": [],
   "source": [
    "def over_under_val(rf,rm,stock):\n",
    "    x = rf+(rm - rf) * df_all['betas'].loc[stock]\n",
    "    y = df_all['ret_exp'].loc[stock]\n",
    "    \n",
    "    if x < y:\n",
    "        print('The stock is undervalued')\n",
    "        \n",
    "    elif x > y:\n",
    "        print('The stock is overvalued')\n",
    "        \n",
    "    else:\n",
    "        print('The stock is fairly priced')"
   ]
  },
  {
   "cell_type": "code",
   "execution_count": 38,
   "metadata": {},
   "outputs": [
    {
     "name": "stdout",
     "output_type": "stream",
     "text": [
      "The stock is undervalued\n"
     ]
    }
   ],
   "source": [
    "over_under_val(risk_free_mean, rm, 'INTC')"
   ]
  },
  {
   "cell_type": "code",
   "execution_count": 39,
   "metadata": {},
   "outputs": [],
   "source": [
    "market_std = returns['excess_return_GSPC'].std()"
   ]
  },
  {
   "cell_type": "markdown",
   "metadata": {},
   "source": [
    "Now, it seem like you obtained  every inputs required to compute the ratios used for gauging the risk-reward combinations. We will do that using the scenarios provided in the instructions. Let me start with the first scenario, which is:\n",
    "\n",
    "* If portfolio is not well-diversified\n",
    "\n",
    "In this scenario, we are supposed to use Sharpe ratio in that if an investor holds a portfolio that is not fully diversified, total risk matters and Sharpe ratio consider the total risk. Recall that Sharpe ratio is:\n",
    "\n",
    "\\begin{equation}Sharpe=\\frac{r_i-r_f}{\\sigma_i}\\end{equation}\n",
    "\n",
    "where $r_i$ and $\\sigma_i$ denote return and standard deviation of the stock, respectively."
   ]
  },
  {
   "cell_type": "code",
   "execution_count": 40,
   "metadata": {},
   "outputs": [],
   "source": [
    "def sharpe(stocks, rf, n_assets):\n",
    "    sharpe_ratios = {}\n",
    "    for i,j in zip(stocks,range(n_assets)):\n",
    "        sharpe_ratios[i] = (returns.iloc[:,j].mean() - rf) / np.std(returns.iloc[:,j])\n",
    "    return sharpe_ratios"
   ]
  },
  {
   "cell_type": "code",
   "execution_count": 41,
   "metadata": {},
   "outputs": [
    {
     "data": {
      "text/plain": [
       "{'AAPL': -0.08247667248153343,\n",
       " 'IBM': 0.029469582728927773,\n",
       " 'INTC': 0.14162756789859562,\n",
       " 'MSFT': 0.03246440962770896}"
      ]
     },
     "execution_count": 41,
     "metadata": {},
     "output_type": "execute_result"
    }
   ],
   "source": [
    "stocks = returns.columns[:4]\n",
    "sharpe_ratios = sharpe(stocks, risk_free_mean,4)\n",
    "sharpe_ratios"
   ]
  },
  {
   "cell_type": "markdown",
   "metadata": {},
   "source": [
    "The second scenario is:\n",
    "* If portfolio is well-diversified\n",
    "\n",
    "This is an ideal situation for Treynor ratio, because Treynor ratio takes systematic risk into account to assess the risk-reward situation of an asset or a portfolio."
   ]
  },
  {
   "cell_type": "markdown",
   "metadata": {},
   "source": [
    "\\begin{equation}\\text{Treynor ratio}=\\frac{r_i-r_f}{\\beta_i}\\end{equation}"
   ]
  },
  {
   "cell_type": "code",
   "execution_count": 42,
   "metadata": {},
   "outputs": [],
   "source": [
    "def treynor(stocks,rf,n_assets):\n",
    "    treynor_ratios = {}\n",
    "    for i, stock in enumerate(stocks):\n",
    "        treynor_ratios[stock] = (returns.iloc[:,i].mean() - rf) / df_all['betas'][stock]\n",
    "    return treynor_ratios"
   ]
  },
  {
   "cell_type": "code",
   "execution_count": 43,
   "metadata": {},
   "outputs": [
    {
     "data": {
      "text/plain": [
       "{'AAPL': -0.0012308467968676817,\n",
       " 'IBM': 0.0011316618066977045,\n",
       " 'INTC': 0.003712412727788738,\n",
       " 'MSFT': 0.0002957999025164491}"
      ]
     },
     "execution_count": 43,
     "metadata": {},
     "output_type": "execute_result"
    }
   ],
   "source": [
    "treynor_ratios = treynor(stocks,risk_free_mean,4)\n",
    "treynor_ratios"
   ]
  },
  {
   "cell_type": "markdown",
   "metadata": {},
   "source": [
    "It is time to interpret the result. Let's start off with the Sharpe ratio. The higher the Sharpe ratio is, the higher the return we gain per risk is. In this context, we are looking for highest stock with Sharpe ratio, which is `Intel`. It would be a good choice to invest in Microsoft, because we gain more in relative to risk we assumed."
   ]
  },
  {
   "cell_type": "code",
   "execution_count": 44,
   "metadata": {},
   "outputs": [
    {
     "name": "stdout",
     "output_type": "stream",
     "text": [
      "INTC\n",
      "0.14162756789859562\n"
     ]
    }
   ],
   "source": [
    "print(max(sharpe_ratios, key=sharpe_ratios.get))\n",
    "print(max(sharpe_ratios.values()))"
   ]
  },
  {
   "cell_type": "markdown",
   "metadata": {},
   "source": [
    "The `Apple` has the lowest Sharpe ratio indicating that it assumes higher risk per return in relative to other stocks considered."
   ]
  },
  {
   "cell_type": "code",
   "execution_count": 45,
   "metadata": {},
   "outputs": [
    {
     "name": "stdout",
     "output_type": "stream",
     "text": [
      "AAPL\n",
      "-0.08247667248153343\n"
     ]
    }
   ],
   "source": [
    "print(min(sharpe_ratios, key=sharpe_ratios.get))\n",
    "print(min(sharpe_ratios.values()))"
   ]
  },
  {
   "cell_type": "markdown",
   "metadata": {},
   "source": [
    "Once we calculate maximum and minimum Treynor ratios, it turns out that the results confirm the one we found via Sharpe ratio. Still, the most and least feasible stocks are Intel and Apple, respectively."
   ]
  },
  {
   "cell_type": "code",
   "execution_count": 46,
   "metadata": {},
   "outputs": [
    {
     "name": "stdout",
     "output_type": "stream",
     "text": [
      "INTC\n",
      "0.003712412727788738\n"
     ]
    }
   ],
   "source": [
    "print(max(treynor_ratios, key=treynor_ratios.get))\n",
    "print(max(treynor_ratios.values()))"
   ]
  },
  {
   "cell_type": "code",
   "execution_count": 47,
   "metadata": {},
   "outputs": [
    {
     "name": "stdout",
     "output_type": "stream",
     "text": [
      "AAPL\n",
      "-0.0012308467968676817\n"
     ]
    }
   ],
   "source": [
    "print(min(treynor_ratios, key=treynor_ratios.get))\n",
    "print(min(treynor_ratios.values()))"
   ]
  }
 ],
 "metadata": {
  "kernelspec": {
   "display_name": "Python 3 (ipykernel)",
   "language": "python",
   "name": "python3"
  },
  "language_info": {
   "codemirror_mode": {
    "name": "ipython",
    "version": 3
   },
   "file_extension": ".py",
   "mimetype": "text/x-python",
   "name": "python",
   "nbconvert_exporter": "python",
   "pygments_lexer": "ipython3",
   "version": "3.9.6"
  },
  "latex_envs": {
   "LaTeX_envs_menu_present": true,
   "autoclose": false,
   "autocomplete": true,
   "bibliofile": "biblio.bib",
   "cite_by": "apalike",
   "current_citInitial": 1,
   "eqLabelWithNumbers": true,
   "eqNumInitial": 1,
   "hotkeys": {
    "equation": "Ctrl-E",
    "itemize": "Ctrl-I"
   },
   "labels_anchors": false,
   "latex_user_defs": false,
   "report_style_numbering": false,
   "user_envs_cfg": false
  },
  "toc": {
   "base_numbering": 1,
   "nav_menu": {},
   "number_sections": false,
   "sideBar": true,
   "skip_h1_title": false,
   "title_cell": "Table of Contents",
   "title_sidebar": "Contents",
   "toc_cell": false,
   "toc_position": {},
   "toc_section_display": true,
   "toc_window_display": false
  }
 },
 "nbformat": 4,
 "nbformat_minor": 4
}
