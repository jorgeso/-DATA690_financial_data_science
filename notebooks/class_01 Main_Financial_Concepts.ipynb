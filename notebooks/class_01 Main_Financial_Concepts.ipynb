{
 "cells": [
  {
   "cell_type": "markdown",
   "metadata": {},
   "source": [
    "# 3. Main Financial Concepts\n",
    "## Abdullah Karasan"
   ]
  },
  {
   "cell_type": "markdown",
   "metadata": {},
   "source": [
    "In this part of the lesson, we will go through the main financial concepts, which are:\n",
    "\n",
    "    * Risk\n",
    "    * Return\n",
    "    * Covariance\n",
    "    * Correlation\n",
    "    * Risk-Return Relation"
   ]
  },
  {
   "cell_type": "markdown",
   "metadata": {},
   "source": [
    "## 3.1. Risk"
   ]
  },
  {
   "cell_type": "markdown",
   "metadata": {},
   "source": [
    "Financial risk can be defined as the possibility of losing money on an investment. Risk arises as a result of exposure. "
   ]
  },
  {
   "cell_type": "markdown",
   "metadata": {},
   "source": [
    "Exposure to financial markets affects most organizations, either directly or indirectly. When an organization has financial market exposure, there is a possibility of loss but also an opportunity for gain or profit. Financial market exposure may provide strategic or competitive benefits."
   ]
  },
  {
   "cell_type": "markdown",
   "metadata": {},
   "source": [
    "As you can note that there is no general consensus on the definition of risk. However, these definitions focus on the downside of the risk implying that cost goes hand in hand with risk but it should be noted that there is no necessarily one-to-one relationship among them."
   ]
  },
  {
   "cell_type": "markdown",
   "metadata": {},
   "source": [
    "## 3.2. Return"
   ]
  },
  {
   "cell_type": "markdown",
   "metadata": {},
   "source": [
    "All financial investments are undertaken to gain profit, which is also called return. More formally, return is the gain made on an investment in a  given period of time. Thus, return refers to the upside of the risk. Throughout the book, risk and return will refer to downside and upside risk, respectively."
   ]
  },
  {
   "cell_type": "markdown",
   "metadata": {},
   "source": [
    "Mathematically, return can be defined as:"
   ]
  },
  {
   "cell_type": "markdown",
   "metadata": {},
   "source": [
    "$$r=\\frac{P_t-P_{t-1}}{P_{t-1}}$$"
   ]
  },
  {
   "cell_type": "code",
   "execution_count": 1,
   "metadata": {},
   "outputs": [],
   "source": [
    "import numpy as np\n",
    "import pandas as pd"
   ]
  },
  {
   "cell_type": "code",
   "execution_count": 2,
   "metadata": {},
   "outputs": [
    {
     "data": {
      "text/html": [
       "<div>\n",
       "<style scoped>\n",
       "    .dataframe tbody tr th:only-of-type {\n",
       "        vertical-align: middle;\n",
       "    }\n",
       "\n",
       "    .dataframe tbody tr th {\n",
       "        vertical-align: top;\n",
       "    }\n",
       "\n",
       "    .dataframe thead th {\n",
       "        text-align: right;\n",
       "    }\n",
       "</style>\n",
       "<table border=\"1\" class=\"dataframe\">\n",
       "  <thead>\n",
       "    <tr style=\"text-align: right;\">\n",
       "      <th></th>\n",
       "      <th>0</th>\n",
       "    </tr>\n",
       "  </thead>\n",
       "  <tbody>\n",
       "    <tr>\n",
       "      <th>0</th>\n",
       "      <td>0.808007</td>\n",
       "    </tr>\n",
       "    <tr>\n",
       "      <th>1</th>\n",
       "      <td>0.894510</td>\n",
       "    </tr>\n",
       "    <tr>\n",
       "      <th>2</th>\n",
       "      <td>0.993736</td>\n",
       "    </tr>\n",
       "    <tr>\n",
       "      <th>3</th>\n",
       "      <td>0.312729</td>\n",
       "    </tr>\n",
       "    <tr>\n",
       "      <th>4</th>\n",
       "      <td>0.705217</td>\n",
       "    </tr>\n",
       "    <tr>\n",
       "      <th>...</th>\n",
       "      <td>...</td>\n",
       "    </tr>\n",
       "    <tr>\n",
       "      <th>95</th>\n",
       "      <td>0.966159</td>\n",
       "    </tr>\n",
       "    <tr>\n",
       "      <th>96</th>\n",
       "      <td>0.642579</td>\n",
       "    </tr>\n",
       "    <tr>\n",
       "      <th>97</th>\n",
       "      <td>0.065215</td>\n",
       "    </tr>\n",
       "    <tr>\n",
       "      <th>98</th>\n",
       "      <td>0.260843</td>\n",
       "    </tr>\n",
       "    <tr>\n",
       "      <th>99</th>\n",
       "      <td>0.335697</td>\n",
       "    </tr>\n",
       "  </tbody>\n",
       "</table>\n",
       "<p>100 rows × 1 columns</p>\n",
       "</div>"
      ],
      "text/plain": [
       "           0\n",
       "0   0.808007\n",
       "1   0.894510\n",
       "2   0.993736\n",
       "3   0.312729\n",
       "4   0.705217\n",
       "..       ...\n",
       "95  0.966159\n",
       "96  0.642579\n",
       "97  0.065215\n",
       "98  0.260843\n",
       "99  0.335697\n",
       "\n",
       "[100 rows x 1 columns]"
      ]
     },
     "execution_count": 2,
     "metadata": {},
     "output_type": "execute_result"
    }
   ],
   "source": [
    "data = np.random.rand(1,100)\n",
    "df_data = pd.DataFrame(data).T\n",
    "df_data"
   ]
  },
  {
   "cell_type": "code",
   "execution_count": 3,
   "metadata": {},
   "outputs": [
    {
     "data": {
      "text/html": [
       "<div>\n",
       "<style scoped>\n",
       "    .dataframe tbody tr th:only-of-type {\n",
       "        vertical-align: middle;\n",
       "    }\n",
       "\n",
       "    .dataframe tbody tr th {\n",
       "        vertical-align: top;\n",
       "    }\n",
       "\n",
       "    .dataframe thead th {\n",
       "        text-align: right;\n",
       "    }\n",
       "</style>\n",
       "<table border=\"1\" class=\"dataframe\">\n",
       "  <thead>\n",
       "    <tr style=\"text-align: right;\">\n",
       "      <th></th>\n",
       "      <th>0</th>\n",
       "    </tr>\n",
       "  </thead>\n",
       "  <tbody>\n",
       "    <tr>\n",
       "      <th>0</th>\n",
       "      <td>NaN</td>\n",
       "    </tr>\n",
       "    <tr>\n",
       "      <th>1</th>\n",
       "      <td>0.101706</td>\n",
       "    </tr>\n",
       "    <tr>\n",
       "      <th>2</th>\n",
       "      <td>0.105195</td>\n",
       "    </tr>\n",
       "    <tr>\n",
       "      <th>3</th>\n",
       "      <td>-1.156136</td>\n",
       "    </tr>\n",
       "    <tr>\n",
       "      <th>4</th>\n",
       "      <td>0.813170</td>\n",
       "    </tr>\n",
       "    <tr>\n",
       "      <th>...</th>\n",
       "      <td>...</td>\n",
       "    </tr>\n",
       "    <tr>\n",
       "      <th>95</th>\n",
       "      <td>0.808074</td>\n",
       "    </tr>\n",
       "    <tr>\n",
       "      <th>96</th>\n",
       "      <td>-0.407838</td>\n",
       "    </tr>\n",
       "    <tr>\n",
       "      <th>97</th>\n",
       "      <td>-2.287800</td>\n",
       "    </tr>\n",
       "    <tr>\n",
       "      <th>98</th>\n",
       "      <td>1.386230</td>\n",
       "    </tr>\n",
       "    <tr>\n",
       "      <th>99</th>\n",
       "      <td>0.252291</td>\n",
       "    </tr>\n",
       "  </tbody>\n",
       "</table>\n",
       "<p>100 rows × 1 columns</p>\n",
       "</div>"
      ],
      "text/plain": [
       "           0\n",
       "0        NaN\n",
       "1   0.101706\n",
       "2   0.105195\n",
       "3  -1.156136\n",
       "4   0.813170\n",
       "..       ...\n",
       "95  0.808074\n",
       "96 -0.407838\n",
       "97 -2.287800\n",
       "98  1.386230\n",
       "99  0.252291\n",
       "\n",
       "[100 rows x 1 columns]"
      ]
     },
     "execution_count": 3,
     "metadata": {},
     "output_type": "execute_result"
    }
   ],
   "source": [
    "stock_return = np.log(df_data) - np.log(df_data.shift(1))\n",
    "stock_return"
   ]
  },
  {
   "cell_type": "code",
   "execution_count": null,
   "metadata": {},
   "outputs": [],
   "source": [
    "stock_return = df_data.pct_change()"
   ]
  },
  {
   "cell_type": "markdown",
   "metadata": {},
   "source": [
    "One of the advantage to use log returns is that if we assume that prices are distributed log normally, then `log(1 + r_i)` is conveniently normally distributed."
   ]
  },
  {
   "cell_type": "markdown",
   "metadata": {},
   "source": [
    "## 3.3. Covariance"
   ]
  },
  {
   "cell_type": "markdown",
   "metadata": {},
   "source": [
    "Covariance is a measure for detecting the extent to which two random variables jointly vary. Covariance allows us to quantify the degree of dependence of two random variables."
   ]
  },
  {
   "cell_type": "markdown",
   "metadata": {},
   "source": [
    "The covariance between random variables X and Y can be defined as:"
   ]
  },
  {
   "cell_type": "markdown",
   "metadata": {},
   "source": [
    "$$Cov(X,Y)=\\mathbb{E}[(X-\\mu_X)(Y-\\mu_Y)]$$\n",
    "or\n",
    "$$Cov(X,Y)=\\mathbb{E}(XY)-\\mu_X\\mu_Y$$"
   ]
  },
  {
   "cell_type": "markdown",
   "metadata": {},
   "source": [
    "where $\\mu_X \\text{ and } \\mu_Y$ are the means of the random variables X and Y, respectively."
   ]
  },
  {
   "cell_type": "markdown",
   "metadata": {},
   "source": [
    "* A covariance,$\\sigma_{XY}$, of 0 indicates that X and Y are unrelated\n",
    "* A covariance greater than 0 indicates that X and Y are positively related\n",
    "* A covariance less than 0 indicates that X and Y are negatively related"
   ]
  },
  {
   "cell_type": "markdown",
   "metadata": {},
   "source": [
    "Let's make a practice about calculating the covariance. For this purpose, I will use `Tips` dataset, which is in `seaborn` module and it has 7 columns."
   ]
  },
  {
   "cell_type": "code",
   "execution_count": 4,
   "metadata": {},
   "outputs": [],
   "source": [
    "import numpy as np\n",
    "import seaborn as sns\n",
    "import matplotlib.pyplot as plt"
   ]
  },
  {
   "cell_type": "code",
   "execution_count": 5,
   "metadata": {},
   "outputs": [],
   "source": [
    "tips= sns.load_dataset('tips')"
   ]
  },
  {
   "cell_type": "code",
   "execution_count": 6,
   "metadata": {},
   "outputs": [
    {
     "data": {
      "text/html": [
       "<div>\n",
       "<style scoped>\n",
       "    .dataframe tbody tr th:only-of-type {\n",
       "        vertical-align: middle;\n",
       "    }\n",
       "\n",
       "    .dataframe tbody tr th {\n",
       "        vertical-align: top;\n",
       "    }\n",
       "\n",
       "    .dataframe thead th {\n",
       "        text-align: right;\n",
       "    }\n",
       "</style>\n",
       "<table border=\"1\" class=\"dataframe\">\n",
       "  <thead>\n",
       "    <tr style=\"text-align: right;\">\n",
       "      <th></th>\n",
       "      <th>total_bill</th>\n",
       "      <th>tip</th>\n",
       "      <th>sex</th>\n",
       "      <th>smoker</th>\n",
       "      <th>day</th>\n",
       "      <th>time</th>\n",
       "      <th>size</th>\n",
       "    </tr>\n",
       "  </thead>\n",
       "  <tbody>\n",
       "    <tr>\n",
       "      <th>0</th>\n",
       "      <td>16.99</td>\n",
       "      <td>1.01</td>\n",
       "      <td>Female</td>\n",
       "      <td>No</td>\n",
       "      <td>Sun</td>\n",
       "      <td>Dinner</td>\n",
       "      <td>2</td>\n",
       "    </tr>\n",
       "    <tr>\n",
       "      <th>1</th>\n",
       "      <td>10.34</td>\n",
       "      <td>1.66</td>\n",
       "      <td>Male</td>\n",
       "      <td>No</td>\n",
       "      <td>Sun</td>\n",
       "      <td>Dinner</td>\n",
       "      <td>3</td>\n",
       "    </tr>\n",
       "    <tr>\n",
       "      <th>2</th>\n",
       "      <td>21.01</td>\n",
       "      <td>3.50</td>\n",
       "      <td>Male</td>\n",
       "      <td>No</td>\n",
       "      <td>Sun</td>\n",
       "      <td>Dinner</td>\n",
       "      <td>3</td>\n",
       "    </tr>\n",
       "    <tr>\n",
       "      <th>3</th>\n",
       "      <td>23.68</td>\n",
       "      <td>3.31</td>\n",
       "      <td>Male</td>\n",
       "      <td>No</td>\n",
       "      <td>Sun</td>\n",
       "      <td>Dinner</td>\n",
       "      <td>2</td>\n",
       "    </tr>\n",
       "    <tr>\n",
       "      <th>4</th>\n",
       "      <td>24.59</td>\n",
       "      <td>3.61</td>\n",
       "      <td>Female</td>\n",
       "      <td>No</td>\n",
       "      <td>Sun</td>\n",
       "      <td>Dinner</td>\n",
       "      <td>4</td>\n",
       "    </tr>\n",
       "  </tbody>\n",
       "</table>\n",
       "</div>"
      ],
      "text/plain": [
       "   total_bill   tip     sex smoker  day    time  size\n",
       "0       16.99  1.01  Female     No  Sun  Dinner     2\n",
       "1       10.34  1.66    Male     No  Sun  Dinner     3\n",
       "2       21.01  3.50    Male     No  Sun  Dinner     3\n",
       "3       23.68  3.31    Male     No  Sun  Dinner     2\n",
       "4       24.59  3.61  Female     No  Sun  Dinner     4"
      ]
     },
     "execution_count": 6,
     "metadata": {},
     "output_type": "execute_result"
    }
   ],
   "source": [
    "tips.head()"
   ]
  },
  {
   "cell_type": "code",
   "execution_count": 7,
   "metadata": {},
   "outputs": [
    {
     "data": {
      "text/plain": [
       "array([[ 1.91445464,  8.32350163],\n",
       "       [ 8.32350163, 79.25293861]])"
      ]
     },
     "execution_count": 7,
     "metadata": {},
     "output_type": "execute_result"
    }
   ],
   "source": [
    "np.cov(tips.tip,tips.total_bill)"
   ]
  },
  {
   "cell_type": "markdown",
   "metadata": {},
   "source": [
    "Note that off-diagonal elements  shows the covariance between total bill and tips, which is 8.32. The diagonal entries, on the other hand, indicates the variance of total bill and of tips, which are 79.25 and 1.91."
   ]
  },
  {
   "cell_type": "markdown",
   "metadata": {},
   "source": [
    "For more information for the `numpy.cov()` module, please refer to this [website](https://numpy.org/doc/stable/reference/generated/numpy.cov.html)."
   ]
  },
  {
   "cell_type": "markdown",
   "metadata": {},
   "source": [
    "## 3.4. Correlation"
   ]
  },
  {
   "cell_type": "markdown",
   "metadata": {},
   "source": [
    "Corelation can be thought of as a normalized version of covariance so that correlation measures both strength and direction of the linear relationship between two random variables. Whereas covariance reflects the units of both random variables. "
   ]
  },
  {
   "cell_type": "markdown",
   "metadata": {},
   "source": [
    "$$\\rho=\\frac{\\sigma_{xy}}{\\sigma_x\\sigma_y}$$"
   ]
  },
  {
   "cell_type": "markdown",
   "metadata": {},
   "source": [
    "Correlation coefficient, $\\rho$, tells is the characteristics of the relationship. $\\rho$ takes on values between -1 and 1."
   ]
  },
  {
   "cell_type": "markdown",
   "metadata": {},
   "source": [
    "* If $\\rho_{XY}$>0, then X and Y are positively correlated\n",
    "* If $\\rho_{XY}$<0, then X and Y are negatively correlated\n",
    "* If $\\rho_{XY}$=0, then X and Y are unlinearly correlated (Maybe correlated in higher dimensions)\n",
    "* If $\\rho_{XY}$=1, then X and Y are perfectly positively correlated\n",
    "* If $\\rho_{XY}$=-1, then X and Y are perfectly negatively correlated\n"
   ]
  },
  {
   "cell_type": "markdown",
   "metadata": {},
   "source": [
    "For the sake of practice, I will again use the `tips` dataset but this time we have many more option to explore the correlation in Python."
   ]
  },
  {
   "cell_type": "code",
   "execution_count": 8,
   "metadata": {},
   "outputs": [
    {
     "data": {
      "text/plain": [
       "0.6757341092113641"
      ]
     },
     "execution_count": 8,
     "metadata": {},
     "output_type": "execute_result"
    }
   ],
   "source": [
    "tips.tip.corr(tips.total_bill)"
   ]
  },
  {
   "cell_type": "markdown",
   "metadata": {},
   "source": [
    "Off-diagonal elements exhibits the correlation between numerical columns in the `tips` dataset. Accordingly, the correlation between `tip` and `total_bill` is the highest."
   ]
  },
  {
   "cell_type": "markdown",
   "metadata": {},
   "source": [
    "`Seaborn` has a fancy tool for displaying the correlation called `heatmap`. For the sake of easiness, `annot=True` argument can be used."
   ]
  },
  {
   "cell_type": "code",
   "execution_count": 9,
   "metadata": {},
   "outputs": [
    {
     "data": {
      "image/png": "[encoded data removed]",
      "text/plain": [
       "<Figure size 576x360 with 2 Axes>"
      ]
     },
     "metadata": {
      "needs_background": "light"
     },
     "output_type": "display_data"
    }
   ],
   "source": [
    "plt.figure(figsize=(8,5))\n",
    "sns.heatmap(tips.corr(),annot = True)\n",
    "plt.show()"
   ]
  },
  {
   "cell_type": "markdown",
   "metadata": {},
   "source": [
    "I can rescaling the color bar by using three arguments: \n",
    "* `vmin`, which is the minimum value of the bar;\n",
    "* `vmax`, which is the maximum value of the bar; and \n",
    "* `center` "
   ]
  },
  {
   "cell_type": "code",
   "execution_count": 10,
   "metadata": {},
   "outputs": [
    {
     "data": {
      "image/png": "[encoded data removed]",
      "text/plain": [
       "<Figure size 720x432 with 2 Axes>"
      ]
     },
     "metadata": {
      "needs_background": "light"
     },
     "output_type": "display_data"
    }
   ],
   "source": [
    "plt.figure(figsize=(10,6))\n",
    "sns.heatmap(tips.corr(), annot = True, vmin=-1, vmax=1, center= 0)\n",
    "plt.show()"
   ]
  },
  {
   "cell_type": "markdown",
   "metadata": {},
   "source": [
    "## 2.5. Risk-Return Relation"
   ]
  },
  {
   "cell_type": "markdown",
   "metadata": {},
   "source": [
    "The ultimate aim of investments is to get positive return and return is the gain made on an investment in a  given period of time. As you can imagine, there is a trade-off between risk and return, that is to say the higher risk assumed, the greater the return realized. As it is a formidable task to come up with a optimum solution, this trade-off is one of the most controversial issues in finance."
   ]
  },
  {
   "cell_type": "markdown",
   "metadata": {},
   "source": [
    "Investors prefer the get positive return at the expense of the lowest risk. At a given level of risk, the investment with highest level of return is the best choice. Let's try to understand the risk-return relationship via interactive plot in Python."
   ]
  },
  {
   "cell_type": "code",
   "execution_count": 5,
   "metadata": {},
   "outputs": [],
   "source": [
    "import statsmodels.api as sm\n",
    "import plotly.graph_objs as go\n",
    "import matplotlib.pyplot as plt\n",
    "import plotly\n",
    "import numpy as np\n",
    "import warnings\n",
    "warnings.filterwarnings('ignore')"
   ]
  },
  {
   "cell_type": "code",
   "execution_count": 6,
   "metadata": {},
   "outputs": [],
   "source": [
    "n_assets = 5\n",
    "n_simulation = 500"
   ]
  },
  {
   "cell_type": "code",
   "execution_count": 14,
   "metadata": {},
   "outputs": [],
   "source": [
    "returns = np.random.randn(n_assets, n_simulation)"
   ]
  },
  {
   "cell_type": "code",
   "execution_count": 15,
   "metadata": {},
   "outputs": [],
   "source": [
    "random = np.random.rand(n_assets)\n",
    "weights = random/sum(random)\n",
    "def exp_port_return(returns):\n",
    "    rets = np.mean(returns,axis=1) \n",
    "    cov = np.cov(rets.T, aweights=weights, ddof=0)\n",
    "    portfolio_returns = np.dot(weights,rets.T)\n",
    "    portfolio_std_dev = np.sqrt(np.dot(weights,np.dot(cov, weights)))\n",
    "    return portfolio_returns,portfolio_std_dev"
   ]
  },
  {
   "cell_type": "code",
   "execution_count": 16,
   "metadata": {},
   "outputs": [],
   "source": [
    "portfolio_returns,portfolio_std_dev = exp_port_return(returns)"
   ]
  },
  {
   "cell_type": "code",
   "execution_count": 17,
   "metadata": {},
   "outputs": [
    {
     "name": "stdout",
     "output_type": "stream",
     "text": [
      "0.008331250860990833\n",
      "0.029564390615291692\n"
     ]
    }
   ],
   "source": [
    "print(portfolio_returns)\n",
    "print(portfolio_std_dev)"
   ]
  },
  {
   "cell_type": "code",
   "execution_count": 18,
   "metadata": {},
   "outputs": [],
   "source": [
    "portfolio = np.array([exp_port_return(np.random.randn(5, i)) \n",
    "                    for i in range(1,101)])"
   ]
  },
  {
   "cell_type": "code",
   "execution_count": 19,
   "metadata": {},
   "outputs": [],
   "source": [
    "best_fit = sm.OLS(portfolio[:,1],\n",
    "                sm.add_constant(portfolio[:,0])).fit().fittedvalues"
   ]
  },
  {
   "cell_type": "code",
   "execution_count": 20,
   "metadata": {
    "scrolled": false
   },
   "outputs": [
    {
     "data": {
      "application/vnd.plotly.v1+json": {
       "config": {
        "plotlyServerURL": "https://plot.ly"
       },
       "data": [
        {
         "mode": "markers",
         "name": "Risk-Return Relationship",
         "type": "scatter",
         "x": [
          -0.47498438740864246,
          -0.0075604342422243564,
          0.2906228902718221,
          0.48263829955737275,
          -0.16417287343724946,
          0.04866152978180818,
          0.09209906737052652,
          -0.03482541435374318,
          0.01173839624068898,
          -0.28945349774914264,
          0.1413697044671548,
          -0.01412603413052342,
          0.1132280184419208,
          -0.14659437989333535,
          -0.2021935940174203,
          -0.11286637056512902,
          -0.0426851772857616,
          0.2557369511590779,
          0.19111503899737176,
          0.08847706843345404,
          0.06604787196772438,
          0.25715922050928824,
          -0.015865742677022655,
          -0.11773350527870237,
          -0.0031943988420073755,
          -0.11732032845071319,
          -0.2012660355509063,
          -0.05971409401391561,
          -0.008932411507068937,
          0.07845810744326107,
          0.23656334873402324,
          0.0894225908975531,
          0.1507352535523454,
          0.09793021694500946,
          -0.04891040226905869,
          0.1953555838089452,
          0.1303423717993968,
          0.021907518821824137,
          0.1572139753808058,
          -0.03445268319041857,
          -0.05368404425684885,
          0.10065248713899602,
          -0.01203728646940867,
          0.05820990950046752,
          0.09957414274681425,
          0.048214131989506304,
          0.09384904385973895,
          0.02131040156463316,
          0.03765229484221049,
          0.016370460401007668,
          -0.10919113843060732,
          0.013347587012366255,
          0.062047639691851585,
          0.06804774903735428,
          -0.010062087479116117,
          0.0066411029075251135,
          0.04935641135117897,
          0.07792320081576751,
          -0.1657973393313057,
          0.04478249815727928,
          0.11800421345203954,
          0.0045376735030752445,
          0.1098006122908517,
          -0.0657405312804605,
          0.1620249076314968,
          0.06725996728035277,
          0.06381390544649827,
          -0.0014004770454469524,
          0.04783164184104357,
          0.04227421685572809,
          0.06492969045509533,
          0.06548606108508567,
          -0.011387687584781862,
          0.06905644126348506,
          0.03882410336111528,
          0.001640343309134644,
          -0.08720438128909416,
          -0.0057919885421932465,
          -0.016757543951042304,
          0.13637572193618225,
          -0.026774158479839372,
          0.0023053344387039404,
          0.055832604362287756,
          -0.06420594769128728,
          -0.022165977886741173,
          -0.03342092117648686,
          0.03785278077350432,
          -0.06387753813151213,
          0.06548489773711401,
          -0.07674939142452543,
          0.04688571862080561,
          -0.07067080583714207,
          0.01043369902852908,
          -0.03277718159501663,
          -0.022315578985019582,
          0.010047093766935033,
          0.0516248667919767,
          -0.015167040730181717,
          -0.0281622308240827,
          -0.011782888039367046
         ],
         "y": [
          0.10529603834425647,
          0.34897546513096955,
          0.19522343397005493,
          0.523994431339911,
          0.16297538801329992,
          0.2668123452765528,
          0.11552908406420344,
          0.07329217551123066,
          0.17532326700912143,
          0.2190756220071109,
          0.04974647082088814,
          0.23505757049298953,
          0.09308515348846234,
          0.058104860223991535,
          0.12845104591656728,
          0.0521324413408465,
          0.14191363428562595,
          0.03742331407135009,
          0.09066776799627956,
          0.14755105504011204,
          0.23101112273304966,
          0.15421770566374324,
          0.032399499507074464,
          0.07903868732131686,
          0.042957989015264805,
          0.05102964038704296,
          0.24300585899411709,
          0.10593885755049175,
          0.1164888542985774,
          0.08212381503230719,
          0.0539454984243736,
          0.045428991346939694,
          0.09065661586656186,
          0.10899310411401554,
          0.13473112545311794,
          0.1465057822703066,
          0.08818690766137068,
          0.08560702336226751,
          0.048731484158568414,
          0.048376061938536746,
          0.04820770652348674,
          0.08529117009454233,
          0.0750818483402362,
          0.022804930631610085,
          0.044274646572117125,
          0.048670392554999546,
          0.06270955452418756,
          0.10954721936940938,
          0.039352533206179666,
          0.030046398755011423,
          0.04403686525965576,
          0.06287585895731006,
          0.03103051255932862,
          0.04669281944977693,
          0.029247007216522822,
          0.06354657807132957,
          0.04535454704017039,
          0.058997529939023304,
          0.11182972319103408,
          0.08540070368618789,
          0.06073002131681161,
          0.07515261983668979,
          0.056394502833373036,
          0.09975469303357419,
          0.13089042594329903,
          0.04498177223572815,
          0.06062460248635228,
          0.03792945025888084,
          0.041169958336596583,
          0.07113068674922862,
          0.05424787193881785,
          0.01343844484964057,
          0.10995087567428785,
          0.018515661057922787,
          0.042108028930222106,
          0.07886504035247245,
          0.01938241298826219,
          0.03853779140029555,
          0.010508224916735575,
          0.07018532650691252,
          0.05252936301987191,
          0.04086080275324331,
          0.025340226107074083,
          0.06401371005517034,
          0.05471875735385272,
          0.02025984400438878,
          0.044812848331187434,
          0.017229588201229912,
          0.07155036619150382,
          0.01481164208366686,
          0.07264125057714337,
          0.0700897861731716,
          0.06786972907777322,
          0.025582831196199897,
          0.0166296505020552,
          0.02695254150654917,
          0.019313150590630632,
          0.02059911595885798,
          0.015463458335131767,
          0.047460272256998
         ]
        },
        {
         "mode": "lines",
         "name": "Best Fit Line",
         "type": "scatter",
         "x": [
          -0.47498438740864246,
          -0.0075604342422243564,
          0.2906228902718221,
          0.48263829955737275,
          -0.16417287343724946,
          0.04866152978180818,
          0.09209906737052652,
          -0.03482541435374318,
          0.01173839624068898,
          -0.28945349774914264,
          0.1413697044671548,
          -0.01412603413052342,
          0.1132280184419208,
          -0.14659437989333535,
          -0.2021935940174203,
          -0.11286637056512902,
          -0.0426851772857616,
          0.2557369511590779,
          0.19111503899737176,
          0.08847706843345404,
          0.06604787196772438,
          0.25715922050928824,
          -0.015865742677022655,
          -0.11773350527870237,
          -0.0031943988420073755,
          -0.11732032845071319,
          -0.2012660355509063,
          -0.05971409401391561,
          -0.008932411507068937,
          0.07845810744326107,
          0.23656334873402324,
          0.0894225908975531,
          0.1507352535523454,
          0.09793021694500946,
          -0.04891040226905869,
          0.1953555838089452,
          0.1303423717993968,
          0.021907518821824137,
          0.1572139753808058,
          -0.03445268319041857,
          -0.05368404425684885,
          0.10065248713899602,
          -0.01203728646940867,
          0.05820990950046752,
          0.09957414274681425,
          0.048214131989506304,
          0.09384904385973895,
          0.02131040156463316,
          0.03765229484221049,
          0.016370460401007668,
          -0.10919113843060732,
          0.013347587012366255,
          0.062047639691851585,
          0.06804774903735428,
          -0.010062087479116117,
          0.0066411029075251135,
          0.04935641135117897,
          0.07792320081576751,
          -0.1657973393313057,
          0.04478249815727928,
          0.11800421345203954,
          0.0045376735030752445,
          0.1098006122908517,
          -0.0657405312804605,
          0.1620249076314968,
          0.06725996728035277,
          0.06381390544649827,
          -0.0014004770454469524,
          0.04783164184104357,
          0.04227421685572809,
          0.06492969045509533,
          0.06548606108508567,
          -0.011387687584781862,
          0.06905644126348506,
          0.03882410336111528,
          0.001640343309134644,
          -0.08720438128909416,
          -0.0057919885421932465,
          -0.016757543951042304,
          0.13637572193618225,
          -0.026774158479839372,
          0.0023053344387039404,
          0.055832604362287756,
          -0.06420594769128728,
          -0.022165977886741173,
          -0.03342092117648686,
          0.03785278077350432,
          -0.06387753813151213,
          0.06548489773711401,
          -0.07674939142452543,
          0.04688571862080561,
          -0.07067080583714207,
          0.01043369902852908,
          -0.03277718159501663,
          -0.022315578985019582,
          0.010047093766935033,
          0.0516248667919767,
          -0.015167040730181717,
          -0.0281622308240827,
          -0.011782888039367046
         ],
         "y": [
          0.027646913994733756,
          0.07954135478630074,
          0.11264632678057404,
          0.13396430208059,
          0.062153895504479285,
          0.08578324154342207,
          0.09060577301032499,
          0.07651433640930988,
          0.08168395361774203,
          0.04824496358808391,
          0.09607590808203671,
          0.07881242736964533,
          0.09295155587603963,
          0.06410549872515295,
          0.057932751038872674,
          0.06785005689604509,
          0.07564172815004473,
          0.1087732126847289,
          0.10159874511241872,
          0.0902036506798074,
          0.08771351169546908,
          0.10893111617273837,
          0.07861928108018092,
          0.06730969683852749,
          0.08002608169007963,
          0.06735556864353723,
          0.0580357306307296,
          0.07375114016261422,
          0.07938903483680833,
          0.08909132347796742,
          0.10664451694916015,
          0.09030862467439603,
          0.09711569204943836,
          0.09125316012921328,
          0.07495058990793826,
          0.10206953977357686,
          0.09485162922696457,
          0.08281295209142749,
          0.09783497407179627,
          0.07655571784720003,
          0.07442060961955686,
          0.09155539258530263,
          0.07904432475336724,
          0.0868433237720043,
          0.09143567240657856,
          0.0857335704512891,
          0.09080005926949267,
          0.08274665881326104,
          0.08456097193814578,
          0.08219821562267787,
          0.06825808929384627,
          0.08186260953526069,
          0.08726939706337429,
          0.08793554246962448,
          0.07926361571258946,
          0.08111804084137872,
          0.08586038883169128,
          0.08903193696146255,
          0.061973543709099625,
          0.08535258287562363,
          0.0934818196066049,
          0.08088451345804927,
          0.09257103766688406,
          0.07308207177235682,
          0.09836909440761663,
          0.0878480811971149,
          0.08746549179280731,
          0.0802252468544356,
          0.08569110554929105,
          0.08507410793951868,
          0.08758936871154994,
          0.08765113820907058,
          0.07911644465785261,
          0.08804752971086717,
          0.08469106871087516,
          0.08056284545369362,
          0.07069910768614203,
          0.07973769153809038,
          0.07852027133089667,
          0.09552146509936098,
          0.07740820463838906,
          0.08063667423924596,
          0.08657939009915541,
          0.07325244463551153,
          0.07791981503688364,
          0.07667026634729347,
          0.08458323032952814,
          0.07328890539097707,
          0.08765100905160653,
          0.07185984377770926,
          0.08558608706186978,
          0.07253470178985019,
          0.08153910324846014,
          0.07674173573898702,
          0.07790320599217301,
          0.08149618147750341,
          0.08611223777046159,
          0.07869685251520402,
          0.07725409777759432,
          0.07907256862956535
         ]
        }
       ],
       "layout": {
        "height": 470,
        "template": {
         "data": {
          "bar": [
           {
            "error_x": {
             "color": "#2a3f5f"
            },
            "error_y": {
             "color": "#2a3f5f"
            },
            "marker": {
             "line": {
              "color": "#E5ECF6",
              "width": 0.5
             },
             "pattern": {
              "fillmode": "overlay",
              "size": 10,
              "solidity": 0.2
             }
            },
            "type": "bar"
           }
          ],
          "barpolar": [
           {
            "marker": {
             "line": {
              "color": "#E5ECF6",
              "width": 0.5
             },
             "pattern": {
              "fillmode": "overlay",
              "size": 10,
              "solidity": 0.2
             }
            },
            "type": "barpolar"
           }
          ],
          "carpet": [
           {
            "aaxis": {
             "endlinecolor": "#2a3f5f",
             "gridcolor": "white",
             "linecolor": "white",
             "minorgridcolor": "white",
             "startlinecolor": "#2a3f5f"
            },
            "baxis": {
             "endlinecolor": "#2a3f5f",
             "gridcolor": "white",
             "linecolor": "white",
             "minorgridcolor": "white",
             "startlinecolor": "#2a3f5f"
            },
            "type": "carpet"
           }
          ],
          "choropleth": [
           {
            "colorbar": {
             "outlinewidth": 0,
             "ticks": ""
            },
            "type": "choropleth"
           }
          ],
          "contour": [
           {
            "colorbar": {
             "outlinewidth": 0,
             "ticks": ""
            },
            "colorscale": [
             [
              0,
              "#0d0887"
             ],
             [
              0.1111111111111111,
              "#46039f"
             ],
             [
              0.2222222222222222,
              "#7201a8"
             ],
             [
              0.3333333333333333,
              "#9c179e"
             ],
             [
              0.4444444444444444,
              "#bd3786"
             ],
             [
              0.5555555555555556,
              "#d8576b"
             ],
             [
              0.6666666666666666,
              "#ed7953"
             ],
             [
              0.7777777777777778,
              "#fb9f3a"
             ],
             [
              0.8888888888888888,
              "#fdca26"
             ],
             [
              1,
              "#f0f921"
             ]
            ],
            "type": "contour"
           }
          ],
          "contourcarpet": [
           {
            "colorbar": {
             "outlinewidth": 0,
             "ticks": ""
            },
            "type": "contourcarpet"
           }
          ],
          "heatmap": [
           {
            "colorbar": {
             "outlinewidth": 0,
             "ticks": ""
            },
            "colorscale": [
             [
              0,
              "#0d0887"
             ],
             [
              0.1111111111111111,
              "#46039f"
             ],
             [
              0.2222222222222222,
              "#7201a8"
             ],
             [
              0.3333333333333333,
              "#9c179e"
             ],
             [
              0.4444444444444444,
              "#bd3786"
             ],
             [
              0.5555555555555556,
              "#d8576b"
             ],
             [
              0.6666666666666666,
              "#ed7953"
             ],
             [
              0.7777777777777778,
              "#fb9f3a"
             ],
             [
              0.8888888888888888,
              "#fdca26"
             ],
             [
              1,
              "#f0f921"
             ]
            ],
            "type": "heatmap"
           }
          ],
          "heatmapgl": [
           {
            "colorbar": {
             "outlinewidth": 0,
             "ticks": ""
            },
            "colorscale": [
             [
              0,
              "#0d0887"
             ],
             [
              0.1111111111111111,
              "#46039f"
             ],
             [
              0.2222222222222222,
              "#7201a8"
             ],
             [
              0.3333333333333333,
              "#9c179e"
             ],
             [
              0.4444444444444444,
              "#bd3786"
             ],
             [
              0.5555555555555556,
              "#d8576b"
             ],
             [
              0.6666666666666666,
              "#ed7953"
             ],
             [
              0.7777777777777778,
              "#fb9f3a"
             ],
             [
              0.8888888888888888,
              "#fdca26"
             ],
             [
              1,
              "#f0f921"
             ]
            ],
            "type": "heatmapgl"
           }
          ],
          "histogram": [
           {
            "marker": {
             "pattern": {
              "fillmode": "overlay",
              "size": 10,
              "solidity": 0.2
             }
            },
            "type": "histogram"
           }
          ],
          "histogram2d": [
           {
            "colorbar": {
             "outlinewidth": 0,
             "ticks": ""
            },
            "colorscale": [
             [
              0,
              "#0d0887"
             ],
             [
              0.1111111111111111,
              "#46039f"
             ],
             [
              0.2222222222222222,
              "#7201a8"
             ],
             [
              0.3333333333333333,
              "#9c179e"
             ],
             [
              0.4444444444444444,
              "#bd3786"
             ],
             [
              0.5555555555555556,
              "#d8576b"
             ],
             [
              0.6666666666666666,
              "#ed7953"
             ],
             [
              0.7777777777777778,
              "#fb9f3a"
             ],
             [
              0.8888888888888888,
              "#fdca26"
             ],
             [
              1,
              "#f0f921"
             ]
            ],
            "type": "histogram2d"
           }
          ],
          "histogram2dcontour": [
           {
            "colorbar": {
             "outlinewidth": 0,
             "ticks": ""
            },
            "colorscale": [
             [
              0,
              "#0d0887"
             ],
             [
              0.1111111111111111,
              "#46039f"
             ],
             [
              0.2222222222222222,
              "#7201a8"
             ],
             [
              0.3333333333333333,
              "#9c179e"
             ],
             [
              0.4444444444444444,
              "#bd3786"
             ],
             [
              0.5555555555555556,
              "#d8576b"
             ],
             [
              0.6666666666666666,
              "#ed7953"
             ],
             [
              0.7777777777777778,
              "#fb9f3a"
             ],
             [
              0.8888888888888888,
              "#fdca26"
             ],
             [
              1,
              "#f0f921"
             ]
            ],
            "type": "histogram2dcontour"
           }
          ],
          "mesh3d": [
           {
            "colorbar": {
             "outlinewidth": 0,
             "ticks": ""
            },
            "type": "mesh3d"
           }
          ],
          "parcoords": [
           {
            "line": {
             "colorbar": {
              "outlinewidth": 0,
              "ticks": ""
             }
            },
            "type": "parcoords"
           }
          ],
          "pie": [
           {
            "automargin": true,
            "type": "pie"
           }
          ],
          "scatter": [
           {
            "marker": {
             "colorbar": {
              "outlinewidth": 0,
              "ticks": ""
             }
            },
            "type": "scatter"
           }
          ],
          "scatter3d": [
           {
            "line": {
             "colorbar": {
              "outlinewidth": 0,
              "ticks": ""
             }
            },
            "marker": {
             "colorbar": {
              "outlinewidth": 0,
              "ticks": ""
             }
            },
            "type": "scatter3d"
           }
          ],
          "scattercarpet": [
           {
            "marker": {
             "colorbar": {
              "outlinewidth": 0,
              "ticks": ""
             }
            },
            "type": "scattercarpet"
           }
          ],
          "scattergeo": [
           {
            "marker": {
             "colorbar": {
              "outlinewidth": 0,
              "ticks": ""
             }
            },
            "type": "scattergeo"
           }
          ],
          "scattergl": [
           {
            "marker": {
             "colorbar": {
              "outlinewidth": 0,
              "ticks": ""
             }
            },
            "type": "scattergl"
           }
          ],
          "scattermapbox": [
           {
            "marker": {
             "colorbar": {
              "outlinewidth": 0,
              "ticks": ""
             }
            },
            "type": "scattermapbox"
           }
          ],
          "scatterpolar": [
           {
            "marker": {
             "colorbar": {
              "outlinewidth": 0,
              "ticks": ""
             }
            },
            "type": "scatterpolar"
           }
          ],
          "scatterpolargl": [
           {
            "marker": {
             "colorbar": {
              "outlinewidth": 0,
              "ticks": ""
             }
            },
            "type": "scatterpolargl"
           }
          ],
          "scatterternary": [
           {
            "marker": {
             "colorbar": {
              "outlinewidth": 0,
              "ticks": ""
             }
            },
            "type": "scatterternary"
           }
          ],
          "surface": [
           {
            "colorbar": {
             "outlinewidth": 0,
             "ticks": ""
            },
            "colorscale": [
             [
              0,
              "#0d0887"
             ],
             [
              0.1111111111111111,
              "#46039f"
             ],
             [
              0.2222222222222222,
              "#7201a8"
             ],
             [
              0.3333333333333333,
              "#9c179e"
             ],
             [
              0.4444444444444444,
              "#bd3786"
             ],
             [
              0.5555555555555556,
              "#d8576b"
             ],
             [
              0.6666666666666666,
              "#ed7953"
             ],
             [
              0.7777777777777778,
              "#fb9f3a"
             ],
             [
              0.8888888888888888,
              "#fdca26"
             ],
             [
              1,
              "#f0f921"
             ]
            ],
            "type": "surface"
           }
          ],
          "table": [
           {
            "cells": {
             "fill": {
              "color": "#EBF0F8"
             },
             "line": {
              "color": "white"
             }
            },
            "header": {
             "fill": {
              "color": "#C8D4E3"
             },
             "line": {
              "color": "white"
             }
            },
            "type": "table"
           }
          ]
         },
         "layout": {
          "annotationdefaults": {
           "arrowcolor": "#2a3f5f",
           "arrowhead": 0,
           "arrowwidth": 1
          },
          "autotypenumbers": "strict",
          "coloraxis": {
           "colorbar": {
            "outlinewidth": 0,
            "ticks": ""
           }
          },
          "colorscale": {
           "diverging": [
            [
             0,
             "#8e0152"
            ],
            [
             0.1,
             "#c51b7d"
            ],
            [
             0.2,
             "#de77ae"
            ],
            [
             0.3,
             "#f1b6da"
            ],
            [
             0.4,
             "#fde0ef"
            ],
            [
             0.5,
             "#f7f7f7"
            ],
            [
             0.6,
             "#e6f5d0"
            ],
            [
             0.7,
             "#b8e186"
            ],
            [
             0.8,
             "#7fbc41"
            ],
            [
             0.9,
             "#4d9221"
            ],
            [
             1,
             "#276419"
            ]
           ],
           "sequential": [
            [
             0,
             "#0d0887"
            ],
            [
             0.1111111111111111,
             "#46039f"
            ],
            [
             0.2222222222222222,
             "#7201a8"
            ],
            [
             0.3333333333333333,
             "#9c179e"
            ],
            [
             0.4444444444444444,
             "#bd3786"
            ],
            [
             0.5555555555555556,
             "#d8576b"
            ],
            [
             0.6666666666666666,
             "#ed7953"
            ],
            [
             0.7777777777777778,
             "#fb9f3a"
            ],
            [
             0.8888888888888888,
             "#fdca26"
            ],
            [
             1,
             "#f0f921"
            ]
           ],
           "sequentialminus": [
            [
             0,
             "#0d0887"
            ],
            [
             0.1111111111111111,
             "#46039f"
            ],
            [
             0.2222222222222222,
             "#7201a8"
            ],
            [
             0.3333333333333333,
             "#9c179e"
            ],
            [
             0.4444444444444444,
             "#bd3786"
            ],
            [
             0.5555555555555556,
             "#d8576b"
            ],
            [
             0.6666666666666666,
             "#ed7953"
            ],
            [
             0.7777777777777778,
             "#fb9f3a"
            ],
            [
             0.8888888888888888,
             "#fdca26"
            ],
            [
             1,
             "#f0f921"
            ]
           ]
          },
          "colorway": [
           "#636efa",
           "#EF553B",
           "#00cc96",
           "#ab63fa",
           "#FFA15A",
           "#19d3f3",
           "#FF6692",
           "#B6E880",
           "#FF97FF",
           "#FECB52"
          ],
          "font": {
           "color": "#2a3f5f"
          },
          "geo": {
           "bgcolor": "white",
           "lakecolor": "white",
           "landcolor": "#E5ECF6",
           "showlakes": true,
           "showland": true,
           "subunitcolor": "white"
          },
          "hoverlabel": {
           "align": "left"
          },
          "hovermode": "closest",
          "mapbox": {
           "style": "light"
          },
          "paper_bgcolor": "white",
          "plot_bgcolor": "#E5ECF6",
          "polar": {
           "angularaxis": {
            "gridcolor": "white",
            "linecolor": "white",
            "ticks": ""
           },
           "bgcolor": "#E5ECF6",
           "radialaxis": {
            "gridcolor": "white",
            "linecolor": "white",
            "ticks": ""
           }
          },
          "scene": {
           "xaxis": {
            "backgroundcolor": "#E5ECF6",
            "gridcolor": "white",
            "gridwidth": 2,
            "linecolor": "white",
            "showbackground": true,
            "ticks": "",
            "zerolinecolor": "white"
           },
           "yaxis": {
            "backgroundcolor": "#E5ECF6",
            "gridcolor": "white",
            "gridwidth": 2,
            "linecolor": "white",
            "showbackground": true,
            "ticks": "",
            "zerolinecolor": "white"
           },
           "zaxis": {
            "backgroundcolor": "#E5ECF6",
            "gridcolor": "white",
            "gridwidth": 2,
            "linecolor": "white",
            "showbackground": true,
            "ticks": "",
            "zerolinecolor": "white"
           }
          },
          "shapedefaults": {
           "line": {
            "color": "#2a3f5f"
           }
          },
          "ternary": {
           "aaxis": {
            "gridcolor": "white",
            "linecolor": "white",
            "ticks": ""
           },
           "baxis": {
            "gridcolor": "white",
            "linecolor": "white",
            "ticks": ""
           },
           "bgcolor": "#E5ECF6",
           "caxis": {
            "gridcolor": "white",
            "linecolor": "white",
            "ticks": ""
           }
          },
          "title": {
           "x": 0.05
          },
          "xaxis": {
           "automargin": true,
           "gridcolor": "white",
           "linecolor": "white",
           "ticks": "",
           "title": {
            "standoff": 15
           },
           "zerolinecolor": "white",
           "zerolinewidth": 2
          },
          "yaxis": {
           "automargin": true,
           "gridcolor": "white",
           "linecolor": "white",
           "ticks": "",
           "title": {
            "standoff": 15
           },
           "zerolinecolor": "white",
           "zerolinewidth": 2
          }
         }
        },
        "width": 900,
        "xaxis": {
         "title": {
          "text": "Standard Deviation"
         }
        },
        "yaxis": {
         "title": {
          "text": "Mean"
         }
        }
       }
      },
      "text/html": [
       "<div>                            <div id=\"878ad908-fc4c-4469-b69b-66946dac3352\" class=\"plotly-graph-div\" style=\"height:470px; width:900px;\"></div>            <script type=\"text/javascript\">                require([\"plotly\"], function(Plotly) {                    window.PLOTLYENV=window.PLOTLYENV || {};                                    if (document.getElementById(\"878ad908-fc4c-4469-b69b-66946dac3352\")) {                    Plotly.newPlot(                        \"878ad908-fc4c-4469-b69b-66946dac3352\",                        [{\"mode\":\"markers\",\"name\":\"Risk-Return Relationship\",\"type\":\"scatter\",\"x\":[-0.47498438740864246,-0.0075604342422243564,0.2906228902718221,0.48263829955737275,-0.16417287343724946,0.04866152978180818,0.09209906737052652,-0.03482541435374318,0.01173839624068898,-0.28945349774914264,0.1413697044671548,-0.01412603413052342,0.1132280184419208,-0.14659437989333535,-0.2021935940174203,-0.11286637056512902,-0.0426851772857616,0.2557369511590779,0.19111503899737176,0.08847706843345404,0.06604787196772438,0.25715922050928824,-0.015865742677022655,-0.11773350527870237,-0.0031943988420073755,-0.11732032845071319,-0.2012660355509063,-0.05971409401391561,-0.008932411507068937,0.07845810744326107,0.23656334873402324,0.0894225908975531,0.1507352535523454,0.09793021694500946,-0.04891040226905869,0.1953555838089452,0.1303423717993968,0.021907518821824137,0.1572139753808058,-0.03445268319041857,-0.05368404425684885,0.10065248713899602,-0.01203728646940867,0.05820990950046752,0.09957414274681425,0.048214131989506304,0.09384904385973895,0.02131040156463316,0.03765229484221049,0.016370460401007668,-0.10919113843060732,0.013347587012366255,0.062047639691851585,0.06804774903735428,-0.010062087479116117,0.0066411029075251135,0.04935641135117897,0.07792320081576751,-0.1657973393313057,0.04478249815727928,0.11800421345203954,0.0045376735030752445,0.1098006122908517,-0.0657405312804605,0.1620249076314968,0.06725996728035277,0.06381390544649827,-0.0014004770454469524,0.04783164184104357,0.04227421685572809,0.06492969045509533,0.06548606108508567,-0.011387687584781862,0.06905644126348506,0.03882410336111528,0.001640343309134644,-0.08720438128909416,-0.0057919885421932465,-0.016757543951042304,0.13637572193618225,-0.026774158479839372,0.0023053344387039404,0.055832604362287756,-0.06420594769128728,-0.022165977886741173,-0.03342092117648686,0.03785278077350432,-0.06387753813151213,0.06548489773711401,-0.07674939142452543,0.04688571862080561,-0.07067080583714207,0.01043369902852908,-0.03277718159501663,-0.022315578985019582,0.010047093766935033,0.0516248667919767,-0.015167040730181717,-0.0281622308240827,-0.011782888039367046],\"y\":[0.10529603834425647,0.34897546513096955,0.19522343397005493,0.523994431339911,0.16297538801329992,0.2668123452765528,0.11552908406420344,0.07329217551123066,0.17532326700912143,0.2190756220071109,0.04974647082088814,0.23505757049298953,0.09308515348846234,0.058104860223991535,0.12845104591656728,0.0521324413408465,0.14191363428562595,0.03742331407135009,0.09066776799627956,0.14755105504011204,0.23101112273304966,0.15421770566374324,0.032399499507074464,0.07903868732131686,0.042957989015264805,0.05102964038704296,0.24300585899411709,0.10593885755049175,0.1164888542985774,0.08212381503230719,0.0539454984243736,0.045428991346939694,0.09065661586656186,0.10899310411401554,0.13473112545311794,0.1465057822703066,0.08818690766137068,0.08560702336226751,0.048731484158568414,0.048376061938536746,0.04820770652348674,0.08529117009454233,0.0750818483402362,0.022804930631610085,0.044274646572117125,0.048670392554999546,0.06270955452418756,0.10954721936940938,0.039352533206179666,0.030046398755011423,0.04403686525965576,0.06287585895731006,0.03103051255932862,0.04669281944977693,0.029247007216522822,0.06354657807132957,0.04535454704017039,0.058997529939023304,0.11182972319103408,0.08540070368618789,0.06073002131681161,0.07515261983668979,0.056394502833373036,0.09975469303357419,0.13089042594329903,0.04498177223572815,0.06062460248635228,0.03792945025888084,0.041169958336596583,0.07113068674922862,0.05424787193881785,0.01343844484964057,0.10995087567428785,0.018515661057922787,0.042108028930222106,0.07886504035247245,0.01938241298826219,0.03853779140029555,0.010508224916735575,0.07018532650691252,0.05252936301987191,0.04086080275324331,0.025340226107074083,0.06401371005517034,0.05471875735385272,0.02025984400438878,0.044812848331187434,0.017229588201229912,0.07155036619150382,0.01481164208366686,0.07264125057714337,0.0700897861731716,0.06786972907777322,0.025582831196199897,0.0166296505020552,0.02695254150654917,0.019313150590630632,0.02059911595885798,0.015463458335131767,0.047460272256998]},{\"mode\":\"lines\",\"name\":\"Best Fit Line\",\"type\":\"scatter\",\"x\":[-0.47498438740864246,-0.0075604342422243564,0.2906228902718221,0.48263829955737275,-0.16417287343724946,0.04866152978180818,0.09209906737052652,-0.03482541435374318,0.01173839624068898,-0.28945349774914264,0.1413697044671548,-0.01412603413052342,0.1132280184419208,-0.14659437989333535,-0.2021935940174203,-0.11286637056512902,-0.0426851772857616,0.2557369511590779,0.19111503899737176,0.08847706843345404,0.06604787196772438,0.25715922050928824,-0.015865742677022655,-0.11773350527870237,-0.0031943988420073755,-0.11732032845071319,-0.2012660355509063,-0.05971409401391561,-0.008932411507068937,0.07845810744326107,0.23656334873402324,0.0894225908975531,0.1507352535523454,0.09793021694500946,-0.04891040226905869,0.1953555838089452,0.1303423717993968,0.021907518821824137,0.1572139753808058,-0.03445268319041857,-0.05368404425684885,0.10065248713899602,-0.01203728646940867,0.05820990950046752,0.09957414274681425,0.048214131989506304,0.09384904385973895,0.02131040156463316,0.03765229484221049,0.016370460401007668,-0.10919113843060732,0.013347587012366255,0.062047639691851585,0.06804774903735428,-0.010062087479116117,0.0066411029075251135,0.04935641135117897,0.07792320081576751,-0.1657973393313057,0.04478249815727928,0.11800421345203954,0.0045376735030752445,0.1098006122908517,-0.0657405312804605,0.1620249076314968,0.06725996728035277,0.06381390544649827,-0.0014004770454469524,0.04783164184104357,0.04227421685572809,0.06492969045509533,0.06548606108508567,-0.011387687584781862,0.06905644126348506,0.03882410336111528,0.001640343309134644,-0.08720438128909416,-0.0057919885421932465,-0.016757543951042304,0.13637572193618225,-0.026774158479839372,0.0023053344387039404,0.055832604362287756,-0.06420594769128728,-0.022165977886741173,-0.03342092117648686,0.03785278077350432,-0.06387753813151213,0.06548489773711401,-0.07674939142452543,0.04688571862080561,-0.07067080583714207,0.01043369902852908,-0.03277718159501663,-0.022315578985019582,0.010047093766935033,0.0516248667919767,-0.015167040730181717,-0.0281622308240827,-0.011782888039367046],\"y\":[0.027646913994733756,0.07954135478630074,0.11264632678057404,0.13396430208059,0.062153895504479285,0.08578324154342207,0.09060577301032499,0.07651433640930988,0.08168395361774203,0.04824496358808391,0.09607590808203671,0.07881242736964533,0.09295155587603963,0.06410549872515295,0.057932751038872674,0.06785005689604509,0.07564172815004473,0.1087732126847289,0.10159874511241872,0.0902036506798074,0.08771351169546908,0.10893111617273837,0.07861928108018092,0.06730969683852749,0.08002608169007963,0.06735556864353723,0.0580357306307296,0.07375114016261422,0.07938903483680833,0.08909132347796742,0.10664451694916015,0.09030862467439603,0.09711569204943836,0.09125316012921328,0.07495058990793826,0.10206953977357686,0.09485162922696457,0.08281295209142749,0.09783497407179627,0.07655571784720003,0.07442060961955686,0.09155539258530263,0.07904432475336724,0.0868433237720043,0.09143567240657856,0.0857335704512891,0.09080005926949267,0.08274665881326104,0.08456097193814578,0.08219821562267787,0.06825808929384627,0.08186260953526069,0.08726939706337429,0.08793554246962448,0.07926361571258946,0.08111804084137872,0.08586038883169128,0.08903193696146255,0.061973543709099625,0.08535258287562363,0.0934818196066049,0.08088451345804927,0.09257103766688406,0.07308207177235682,0.09836909440761663,0.0878480811971149,0.08746549179280731,0.0802252468544356,0.08569110554929105,0.08507410793951868,0.08758936871154994,0.08765113820907058,0.07911644465785261,0.08804752971086717,0.08469106871087516,0.08056284545369362,0.07069910768614203,0.07973769153809038,0.07852027133089667,0.09552146509936098,0.07740820463838906,0.08063667423924596,0.08657939009915541,0.07325244463551153,0.07791981503688364,0.07667026634729347,0.08458323032952814,0.07328890539097707,0.08765100905160653,0.07185984377770926,0.08558608706186978,0.07253470178985019,0.08153910324846014,0.07674173573898702,0.07790320599217301,0.08149618147750341,0.08611223777046159,0.07869685251520402,0.07725409777759432,0.07907256862956535]}],                        {\"height\":470,\"template\":{\"data\":{\"bar\":[{\"error_x\":{\"color\":\"#2a3f5f\"},\"error_y\":{\"color\":\"#2a3f5f\"},\"marker\":{\"line\":{\"color\":\"#E5ECF6\",\"width\":0.5},\"pattern\":{\"fillmode\":\"overlay\",\"size\":10,\"solidity\":0.2}},\"type\":\"bar\"}],\"barpolar\":[{\"marker\":{\"line\":{\"color\":\"#E5ECF6\",\"width\":0.5},\"pattern\":{\"fillmode\":\"overlay\",\"size\":10,\"solidity\":0.2}},\"type\":\"barpolar\"}],\"carpet\":[{\"aaxis\":{\"endlinecolor\":\"#2a3f5f\",\"gridcolor\":\"white\",\"linecolor\":\"white\",\"minorgridcolor\":\"white\",\"startlinecolor\":\"#2a3f5f\"},\"baxis\":{\"endlinecolor\":\"#2a3f5f\",\"gridcolor\":\"white\",\"linecolor\":\"white\",\"minorgridcolor\":\"white\",\"startlinecolor\":\"#2a3f5f\"},\"type\":\"carpet\"}],\"choropleth\":[{\"colorbar\":{\"outlinewidth\":0,\"ticks\":\"\"},\"type\":\"choropleth\"}],\"contour\":[{\"colorbar\":{\"outlinewidth\":0,\"ticks\":\"\"},\"colorscale\":[[0.0,\"#0d0887\"],[0.1111111111111111,\"#46039f\"],[0.2222222222222222,\"#7201a8\"],[0.3333333333333333,\"#9c179e\"],[0.4444444444444444,\"#bd3786\"],[0.5555555555555556,\"#d8576b\"],[0.6666666666666666,\"#ed7953\"],[0.7777777777777778,\"#fb9f3a\"],[0.8888888888888888,\"#fdca26\"],[1.0,\"#f0f921\"]],\"type\":\"contour\"}],\"contourcarpet\":[{\"colorbar\":{\"outlinewidth\":0,\"ticks\":\"\"},\"type\":\"contourcarpet\"}],\"heatmap\":[{\"colorbar\":{\"outlinewidth\":0,\"ticks\":\"\"},\"colorscale\":[[0.0,\"#0d0887\"],[0.1111111111111111,\"#46039f\"],[0.2222222222222222,\"#7201a8\"],[0.3333333333333333,\"#9c179e\"],[0.4444444444444444,\"#bd3786\"],[0.5555555555555556,\"#d8576b\"],[0.6666666666666666,\"#ed7953\"],[0.7777777777777778,\"#fb9f3a\"],[0.8888888888888888,\"#fdca26\"],[1.0,\"#f0f921\"]],\"type\":\"heatmap\"}],\"heatmapgl\":[{\"colorbar\":{\"outlinewidth\":0,\"ticks\":\"\"},\"colorscale\":[[0.0,\"#0d0887\"],[0.1111111111111111,\"#46039f\"],[0.2222222222222222,\"#7201a8\"],[0.3333333333333333,\"#9c179e\"],[0.4444444444444444,\"#bd3786\"],[0.5555555555555556,\"#d8576b\"],[0.6666666666666666,\"#ed7953\"],[0.7777777777777778,\"#fb9f3a\"],[0.8888888888888888,\"#fdca26\"],[1.0,\"#f0f921\"]],\"type\":\"heatmapgl\"}],\"histogram\":[{\"marker\":{\"pattern\":{\"fillmode\":\"overlay\",\"size\":10,\"solidity\":0.2}},\"type\":\"histogram\"}],\"histogram2d\":[{\"colorbar\":{\"outlinewidth\":0,\"ticks\":\"\"},\"colorscale\":[[0.0,\"#0d0887\"],[0.1111111111111111,\"#46039f\"],[0.2222222222222222,\"#7201a8\"],[0.3333333333333333,\"#9c179e\"],[0.4444444444444444,\"#bd3786\"],[0.5555555555555556,\"#d8576b\"],[0.6666666666666666,\"#ed7953\"],[0.7777777777777778,\"#fb9f3a\"],[0.8888888888888888,\"#fdca26\"],[1.0,\"#f0f921\"]],\"type\":\"histogram2d\"}],\"histogram2dcontour\":[{\"colorbar\":{\"outlinewidth\":0,\"ticks\":\"\"},\"colorscale\":[[0.0,\"#0d0887\"],[0.1111111111111111,\"#46039f\"],[0.2222222222222222,\"#7201a8\"],[0.3333333333333333,\"#9c179e\"],[0.4444444444444444,\"#bd3786\"],[0.5555555555555556,\"#d8576b\"],[0.6666666666666666,\"#ed7953\"],[0.7777777777777778,\"#fb9f3a\"],[0.8888888888888888,\"#fdca26\"],[1.0,\"#f0f921\"]],\"type\":\"histogram2dcontour\"}],\"mesh3d\":[{\"colorbar\":{\"outlinewidth\":0,\"ticks\":\"\"},\"type\":\"mesh3d\"}],\"parcoords\":[{\"line\":{\"colorbar\":{\"outlinewidth\":0,\"ticks\":\"\"}},\"type\":\"parcoords\"}],\"pie\":[{\"automargin\":true,\"type\":\"pie\"}],\"scatter\":[{\"marker\":{\"colorbar\":{\"outlinewidth\":0,\"ticks\":\"\"}},\"type\":\"scatter\"}],\"scatter3d\":[{\"line\":{\"colorbar\":{\"outlinewidth\":0,\"ticks\":\"\"}},\"marker\":{\"colorbar\":{\"outlinewidth\":0,\"ticks\":\"\"}},\"type\":\"scatter3d\"}],\"scattercarpet\":[{\"marker\":{\"colorbar\":{\"outlinewidth\":0,\"ticks\":\"\"}},\"type\":\"scattercarpet\"}],\"scattergeo\":[{\"marker\":{\"colorbar\":{\"outlinewidth\":0,\"ticks\":\"\"}},\"type\":\"scattergeo\"}],\"scattergl\":[{\"marker\":{\"colorbar\":{\"outlinewidth\":0,\"ticks\":\"\"}},\"type\":\"scattergl\"}],\"scattermapbox\":[{\"marker\":{\"colorbar\":{\"outlinewidth\":0,\"ticks\":\"\"}},\"type\":\"scattermapbox\"}],\"scatterpolar\":[{\"marker\":{\"colorbar\":{\"outlinewidth\":0,\"ticks\":\"\"}},\"type\":\"scatterpolar\"}],\"scatterpolargl\":[{\"marker\":{\"colorbar\":{\"outlinewidth\":0,\"ticks\":\"\"}},\"type\":\"scatterpolargl\"}],\"scatterternary\":[{\"marker\":{\"colorbar\":{\"outlinewidth\":0,\"ticks\":\"\"}},\"type\":\"scatterternary\"}],\"surface\":[{\"colorbar\":{\"outlinewidth\":0,\"ticks\":\"\"},\"colorscale\":[[0.0,\"#0d0887\"],[0.1111111111111111,\"#46039f\"],[0.2222222222222222,\"#7201a8\"],[0.3333333333333333,\"#9c179e\"],[0.4444444444444444,\"#bd3786\"],[0.5555555555555556,\"#d8576b\"],[0.6666666666666666,\"#ed7953\"],[0.7777777777777778,\"#fb9f3a\"],[0.8888888888888888,\"#fdca26\"],[1.0,\"#f0f921\"]],\"type\":\"surface\"}],\"table\":[{\"cells\":{\"fill\":{\"color\":\"#EBF0F8\"},\"line\":{\"color\":\"white\"}},\"header\":{\"fill\":{\"color\":\"#C8D4E3\"},\"line\":{\"color\":\"white\"}},\"type\":\"table\"}]},\"layout\":{\"annotationdefaults\":{\"arrowcolor\":\"#2a3f5f\",\"arrowhead\":0,\"arrowwidth\":1},\"autotypenumbers\":\"strict\",\"coloraxis\":{\"colorbar\":{\"outlinewidth\":0,\"ticks\":\"\"}},\"colorscale\":{\"diverging\":[[0,\"#8e0152\"],[0.1,\"#c51b7d\"],[0.2,\"#de77ae\"],[0.3,\"#f1b6da\"],[0.4,\"#fde0ef\"],[0.5,\"#f7f7f7\"],[0.6,\"#e6f5d0\"],[0.7,\"#b8e186\"],[0.8,\"#7fbc41\"],[0.9,\"#4d9221\"],[1,\"#276419\"]],\"sequential\":[[0.0,\"#0d0887\"],[0.1111111111111111,\"#46039f\"],[0.2222222222222222,\"#7201a8\"],[0.3333333333333333,\"#9c179e\"],[0.4444444444444444,\"#bd3786\"],[0.5555555555555556,\"#d8576b\"],[0.6666666666666666,\"#ed7953\"],[0.7777777777777778,\"#fb9f3a\"],[0.8888888888888888,\"#fdca26\"],[1.0,\"#f0f921\"]],\"sequentialminus\":[[0.0,\"#0d0887\"],[0.1111111111111111,\"#46039f\"],[0.2222222222222222,\"#7201a8\"],[0.3333333333333333,\"#9c179e\"],[0.4444444444444444,\"#bd3786\"],[0.5555555555555556,\"#d8576b\"],[0.6666666666666666,\"#ed7953\"],[0.7777777777777778,\"#fb9f3a\"],[0.8888888888888888,\"#fdca26\"],[1.0,\"#f0f921\"]]},\"colorway\":[\"#636efa\",\"#EF553B\",\"#00cc96\",\"#ab63fa\",\"#FFA15A\",\"#19d3f3\",\"#FF6692\",\"#B6E880\",\"#FF97FF\",\"#FECB52\"],\"font\":{\"color\":\"#2a3f5f\"},\"geo\":{\"bgcolor\":\"white\",\"lakecolor\":\"white\",\"landcolor\":\"#E5ECF6\",\"showlakes\":true,\"showland\":true,\"subunitcolor\":\"white\"},\"hoverlabel\":{\"align\":\"left\"},\"hovermode\":\"closest\",\"mapbox\":{\"style\":\"light\"},\"paper_bgcolor\":\"white\",\"plot_bgcolor\":\"#E5ECF6\",\"polar\":{\"angularaxis\":{\"gridcolor\":\"white\",\"linecolor\":\"white\",\"ticks\":\"\"},\"bgcolor\":\"#E5ECF6\",\"radialaxis\":{\"gridcolor\":\"white\",\"linecolor\":\"white\",\"ticks\":\"\"}},\"scene\":{\"xaxis\":{\"backgroundcolor\":\"#E5ECF6\",\"gridcolor\":\"white\",\"gridwidth\":2,\"linecolor\":\"white\",\"showbackground\":true,\"ticks\":\"\",\"zerolinecolor\":\"white\"},\"yaxis\":{\"backgroundcolor\":\"#E5ECF6\",\"gridcolor\":\"white\",\"gridwidth\":2,\"linecolor\":\"white\",\"showbackground\":true,\"ticks\":\"\",\"zerolinecolor\":\"white\"},\"zaxis\":{\"backgroundcolor\":\"#E5ECF6\",\"gridcolor\":\"white\",\"gridwidth\":2,\"linecolor\":\"white\",\"showbackground\":true,\"ticks\":\"\",\"zerolinecolor\":\"white\"}},\"shapedefaults\":{\"line\":{\"color\":\"#2a3f5f\"}},\"ternary\":{\"aaxis\":{\"gridcolor\":\"white\",\"linecolor\":\"white\",\"ticks\":\"\"},\"baxis\":{\"gridcolor\":\"white\",\"linecolor\":\"white\",\"ticks\":\"\"},\"bgcolor\":\"#E5ECF6\",\"caxis\":{\"gridcolor\":\"white\",\"linecolor\":\"white\",\"ticks\":\"\"}},\"title\":{\"x\":0.05},\"xaxis\":{\"automargin\":true,\"gridcolor\":\"white\",\"linecolor\":\"white\",\"ticks\":\"\",\"title\":{\"standoff\":15},\"zerolinecolor\":\"white\",\"zerolinewidth\":2},\"yaxis\":{\"automargin\":true,\"gridcolor\":\"white\",\"linecolor\":\"white\",\"ticks\":\"\",\"title\":{\"standoff\":15},\"zerolinecolor\":\"white\",\"zerolinewidth\":2}}},\"width\":900,\"xaxis\":{\"title\":{\"text\":\"Standard Deviation\"}},\"yaxis\":{\"title\":{\"text\":\"Mean\"}}},                        {\"responsive\": true}                    ).then(function(){\n",
       "                            \n",
       "var gd = document.getElementById('878ad908-fc4c-4469-b69b-66946dac3352');\n",
       "var x = new MutationObserver(function (mutations, observer) {{\n",
       "        var display = window.getComputedStyle(gd).display;\n",
       "        if (!display || display === 'none') {{\n",
       "            console.log([gd, 'removed!']);\n",
       "            Plotly.purge(gd);\n",
       "            observer.disconnect();\n",
       "        }}\n",
       "}});\n",
       "\n",
       "// Listen for the removal of the full notebook cells\n",
       "var notebookContainer = gd.closest('#notebook-container');\n",
       "if (notebookContainer) {{\n",
       "    x.observe(notebookContainer, {childList: true});\n",
       "}}\n",
       "\n",
       "// Listen for the clearing of the current output cell\n",
       "var outputEl = gd.closest('.output');\n",
       "if (outputEl) {{\n",
       "    x.observe(outputEl, {childList: true});\n",
       "}}\n",
       "\n",
       "                        })                };                });            </script>        </div>"
      ]
     },
     "metadata": {},
     "output_type": "display_data"
    }
   ],
   "source": [
    "fig = go.Figure()\n",
    "fig.add_trace(go.Scatter(name='Risk-Return Relationship', \n",
    "                         x=portfolio[:,0], y=portfolio[:,1], \n",
    "                         mode='markers'))\n",
    "fig.add_trace(go.Scatter(name='Best Fit Line',\n",
    "                         x=np.array(portfolio[:,0]),\n",
    "                         y=best_fit, mode='lines'))\n",
    "fig.update_layout(xaxis_title = 'Standard Deviation',\n",
    "                  yaxis_title = 'Mean',width=900,height=470)\n",
    "fig.show()"
   ]
  },
  {
   "cell_type": "code",
   "execution_count": null,
   "metadata": {},
   "outputs": [],
   "source": []
  }
 ],
 "metadata": {
  "kernelspec": {
   "display_name": "Python 3 (ipykernel)",
   "language": "python",
   "name": "python3"
  },
  "language_info": {
   "codemirror_mode": {
    "name": "ipython",
    "version": 3
   },
   "file_extension": ".py",
   "mimetype": "text/x-python",
   "name": "python",
   "nbconvert_exporter": "python",
   "pygments_lexer": "ipython3",
   "version": "3.9.6"
  },
  "latex_envs": {
   "LaTeX_envs_menu_present": true,
   "autoclose": false,
   "autocomplete": true,
   "bibliofile": "biblio.bib",
   "cite_by": "apalike",
   "current_citInitial": 1,
   "eqLabelWithNumbers": true,
   "eqNumInitial": 1,
   "hotkeys": {
    "equation": "Ctrl-E",
    "itemize": "Ctrl-I"
   },
   "labels_anchors": false,
   "latex_user_defs": false,
   "report_style_numbering": false,
   "user_envs_cfg": false
  },
  "toc": {
   "base_numbering": 1,
   "nav_menu": {},
   "number_sections": false,
   "sideBar": true,
   "skip_h1_title": false,
   "title_cell": "Table of Contents",
   "title_sidebar": "Contents",
   "toc_cell": false,
   "toc_position": {},
   "toc_section_display": true,
   "toc_window_display": false
  }
 },
 "nbformat": 4,
 "nbformat_minor": 4
}
