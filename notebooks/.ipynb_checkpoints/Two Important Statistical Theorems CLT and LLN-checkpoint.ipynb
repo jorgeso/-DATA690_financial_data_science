{
 "cells": [
  {
   "cell_type": "markdown",
   "id": "38051938",
   "metadata": {},
   "source": [
    "# Two Important Statistical Theorems"
   ]
  },
  {
   "cell_type": "markdown",
   "id": "80466007",
   "metadata": {},
   "source": [
    "There are two important theorem in statistics, which are kind of building blocks of many statistical applications. These are `Central Limit Theorem` and `Law of Large Numbers`."
   ]
  },
  {
   "cell_type": "markdown",
   "id": "cdebbeb0",
   "metadata": {},
   "source": [
    "## Central Limit Theorem"
   ]
  },
  {
   "cell_type": "markdown",
   "id": "a1728503",
   "metadata": {},
   "source": [
    "The `central limit theorem` states that, irrespective of the distribution we have at first, if we take sufficiently large random samples (n>30) from the population with replacement, then the distribution of the sample means will be approximately normally distributed. "
   ]
  },
  {
   "cell_type": "markdown",
   "id": "266e04dc",
   "metadata": {},
   "source": [
    "In the context of simulation, the `central limit theorem` tells us that the distribution of the errors will converge to a normal distribution so that we can figure out the number of times we need to resample to achieve a certain accuracy. \n",
    "\n"
   ]
  },
  {
   "cell_type": "markdown",
   "id": "9f0ec00f",
   "metadata": {},
   "source": [
    "By assuming normal distribution of the errors, we have information to calculate the confidence interval and see what sample size is needed for the desired accuracy."
   ]
  },
  {
   "cell_type": "markdown",
   "id": "9528febf",
   "metadata": {},
   "source": [
    "Mathematically, the CLT states that:"
   ]
  },
  {
   "cell_type": "markdown",
   "id": "3c1adf3e",
   "metadata": {},
   "source": [
    "$$\\alpha_i\\xrightarrow[]{D}\\alpha +\\frac{\\sigma}{\\sqrt{n}}\\mathbb{N}(0,1)$$"
   ]
  },
  {
   "cell_type": "markdown",
   "id": "29ba511a",
   "metadata": {},
   "source": [
    "where D denotes convergence in distribution."
   ]
  },
  {
   "cell_type": "code",
   "execution_count": null,
   "id": "de8b53cb",
   "metadata": {},
   "outputs": [],
   "source": [
    "import numpy as np\n",
    "import pandas as pd\n",
    "import matplotlib.pyplot as plt\n",
    "from scipy import stats\n",
    "from scipy.stats import norm\n",
    "from scipy.stats import binom\n",
    "from numpy.random import randint\n",
    "import yfinance as yf\n",
    "import seaborn as sns; sns.set()"
   ]
  },
  {
   "cell_type": "code",
   "execution_count": 6,
   "id": "e6b6287c",
   "metadata": {},
   "outputs": [
    {
     "data": {
      "image/png": "[encoded data removed]",
      "text/plain": [
       "<Figure size 432x288 with 1 Axes>"
      ]
     },
     "metadata": {},
     "output_type": "display_data"
    },
    {
     "name": "stdout",
     "output_type": "stream",
     "text": [
      "DescribeResult(nobs=1000, minmax=(2.716666666666667, 4.116666666666666), mean=3.50325, variance=0.049192240851963075, skewness=-0.046801251380865466, kurtosis=-0.2950888726402572)\n"
     ]
    }
   ],
   "source": [
    "means = [np.mean(randint(1, 7, 60)) for _ in range(1000)]\n",
    "\n",
    "plt.hist(means)\n",
    "plt.show()\n",
    "\n",
    "print(stats.describe(means))"
   ]
  },
  {
   "cell_type": "markdown",
   "id": "48c75497",
   "metadata": {},
   "source": [
    "Great! The resulting histogram is normally distributed around a mean of approximately 3.5, indicating that Central Limit theorem is at work."
   ]
  },
  {
   "cell_type": "markdown",
   "id": "08af954d",
   "metadata": {},
   "source": [
    "## Law of Large Numbers"
   ]
  },
  {
   "cell_type": "markdown",
   "id": "59f48fe9",
   "metadata": {},
   "source": [
    "The Law of Large Numbers has an important place in both Statistics / Probability and Machine Learning. This theorem reveals that the sample obtained by taking more samples represents the population better."
   ]
  },
  {
   "cell_type": "markdown",
   "id": "2c12a7a2",
   "metadata": {},
   "source": [
    "According to the law of large numbers, as the sample size grows, the average of the sample approaches the average of the population. This approach tells us the importance of sample size. Simply, the larger the sample size, the better the representative sample population.\n",
    "\n"
   ]
  },
  {
   "cell_type": "markdown",
   "id": "bf3771ca",
   "metadata": {},
   "source": [
    "The Law of Large Numbers is very simple: as the number of samples with a uniform distribution and randomly selected variables increases, the sample mean approaches the theoretical average.\n",
    "\n"
   ]
  },
  {
   "cell_type": "markdown",
   "id": "696fc08f",
   "metadata": {},
   "source": [
    "So, the `Law of Large Number` stresses the importance of large sample size. Accordingly, as we increase the number of sample size, the sample mean becomes very close to the population mean.The Law of Large Numbers therefore explains why casinos make money in the long run."
   ]
  },
  {
   "cell_type": "markdown",
   "id": "136f8f60",
   "metadata": {},
   "source": [
    "The Law of Large Numbers is very simple: as the number of samples with a uniform distribution and randomly selected variables increases, the sample mean approaches the theoretical average.\n",
    "\n",
    "The Law of Large Numbers therefore explains why casinos make money in the long run.\n",
    "\n",
    "Let's see this on a dice sample. As we know in a membrane, there are 6 possibilities, and each probability is equal. This probability is approximately 0.166."
   ]
  },
  {
   "cell_type": "code",
   "execution_count": 2,
   "id": "dd457e0f",
   "metadata": {},
   "outputs": [],
   "source": [
    "sample = []\n",
    "sample_means = []\n",
    "for number_shots in range(1,2000):\n",
    "    shot = np.random.randint(low=1,high=7, size=1)[0]\n",
    "    sample.append(shot)\n",
    "    sample_means.append(np.mean(sample))"
   ]
  },
  {
   "cell_type": "code",
   "execution_count": 3,
   "id": "46d5ade4",
   "metadata": {},
   "outputs": [
    {
     "name": "stdout",
     "output_type": "stream",
     "text": [
      "[2, 4, 3, 3, 1, 1, 6, 6, 3, 5]\n",
      "[2.0, 3.0, 3.0, 3.0, 2.6, 2.3333333333333335, 2.857142857142857, 3.25, 3.2222222222222223, 3.4]\n"
     ]
    }
   ],
   "source": [
    "print(sample[0:10])\n",
    "print(sample_means[0:10])"
   ]
  },
  {
   "cell_type": "code",
   "execution_count": 4,
   "id": "828caf39",
   "metadata": {},
   "outputs": [],
   "source": [
    "def sample_plot(sample_means,sample_size, subplot_no):\n",
    "    plt.subplot(subplot_no)\n",
    "    plt.hlines(3.5, 0, sample_size, colors= 'r' )\n",
    "    plt.plot(sample_means[0:sample_size])\n",
    "    plt.ylim((1,6))\n",
    "    plt.title(\"Sample Size = {}\".format(sample_size))\n",
    "    plt.xlabel(\"Sample Size\")\n",
    "    plt.ylabel(\"Sample Mean\")\n",
    "    return plt"
   ]
  },
  {
   "cell_type": "code",
   "execution_count": 5,
   "id": "7652e588",
   "metadata": {},
   "outputs": [
    {
     "data": {
      "image/png": "[encoded data removed]",
      "text/plain": [
       "<Figure size 1080x360 with 3 Axes>"
      ]
     },
     "metadata": {},
     "output_type": "display_data"
    }
   ],
   "source": [
    "plt.figure(figsize=(15,5))\n",
    "sample_plot(sample_means,100, 131) \n",
    "sample_plot(sample_means, 500, 132)\n",
    "sample_plot(sample_means, 2000, 133)\n",
    "plt.show()"
   ]
  },
  {
   "cell_type": "markdown",
   "id": "b37be466",
   "metadata": {},
   "source": [
    "The expected value is 3.5, and as you can see from the graph, when the number of samples is small, the average is not close to 3.5, but as the number of samples increases, it approaches 3.5 on average."
   ]
  }
 ],
 "metadata": {
  "kernelspec": {
   "display_name": "Python 3 (ipykernel)",
   "language": "python",
   "name": "python3"
  },
  "language_info": {
   "codemirror_mode": {
    "name": "ipython",
    "version": 3
   },
   "file_extension": ".py",
   "mimetype": "text/x-python",
   "name": "python",
   "nbconvert_exporter": "python",
   "pygments_lexer": "ipython3",
   "version": "3.9.6"
  },
  "latex_envs": {
   "LaTeX_envs_menu_present": true,
   "autoclose": false,
   "autocomplete": true,
   "bibliofile": "biblio.bib",
   "cite_by": "apalike",
   "current_citInitial": 1,
   "eqLabelWithNumbers": true,
   "eqNumInitial": 1,
   "hotkeys": {
    "equation": "Ctrl-E",
    "itemize": "Ctrl-I"
   },
   "labels_anchors": false,
   "latex_user_defs": false,
   "report_style_numbering": false,
   "user_envs_cfg": false
  },
  "toc": {
   "base_numbering": 1,
   "nav_menu": {},
   "number_sections": false,
   "sideBar": true,
   "skip_h1_title": false,
   "title_cell": "Table of Contents",
   "title_sidebar": "Contents",
   "toc_cell": false,
   "toc_position": {},
   "toc_section_display": true,
   "toc_window_display": false
  }
 },
 "nbformat": 4,
 "nbformat_minor": 5
}
